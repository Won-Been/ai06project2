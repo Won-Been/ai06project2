{
  "nbformat": 4,
  "nbformat_minor": 0,
  "metadata": {
    "colab": {
      "name": "AI_06_박원빈.ipynb",
      "provenance": [],
      "collapsed_sections": []
    },
    "kernelspec": {
      "name": "python3",
      "display_name": "Python 3"
    },
    "language_info": {
      "name": "python"
    },
    "widgets": {
      "application/vnd.jupyter.widget-state+json": {
        "e53cfb709aab421bb0f8b8d354dc81bb": {
          "model_module": "@jupyter-widgets/controls",
          "model_name": "VBoxModel",
          "model_module_version": "1.5.0",
          "state": {
            "_view_name": "VBoxView",
            "_dom_classes": [
              "widget-interact"
            ],
            "_model_name": "VBoxModel",
            "_view_module": "@jupyter-widgets/controls",
            "_model_module_version": "1.5.0",
            "_view_count": null,
            "_view_module_version": "1.5.0",
            "box_style": "",
            "layout": "IPY_MODEL_37803f09870445f488790a161f538f7f",
            "_model_module": "@jupyter-widgets/controls",
            "children": [
              "IPY_MODEL_8c5966e369c04d14885a5e081c735a2f",
              "IPY_MODEL_3555d484f4bd47eeb377640a30335c92"
            ]
          }
        },
        "37803f09870445f488790a161f538f7f": {
          "model_module": "@jupyter-widgets/base",
          "model_name": "LayoutModel",
          "model_module_version": "1.2.0",
          "state": {
            "_view_name": "LayoutView",
            "grid_template_rows": null,
            "right": null,
            "justify_content": null,
            "_view_module": "@jupyter-widgets/base",
            "overflow": null,
            "_model_module_version": "1.2.0",
            "_view_count": null,
            "flex_flow": null,
            "width": null,
            "min_width": null,
            "border": null,
            "align_items": null,
            "bottom": null,
            "_model_module": "@jupyter-widgets/base",
            "top": null,
            "grid_column": null,
            "overflow_y": null,
            "overflow_x": null,
            "grid_auto_flow": null,
            "grid_area": null,
            "grid_template_columns": null,
            "flex": null,
            "_model_name": "LayoutModel",
            "justify_items": null,
            "grid_row": null,
            "max_height": null,
            "align_content": null,
            "visibility": null,
            "align_self": null,
            "height": null,
            "min_height": null,
            "padding": null,
            "grid_auto_rows": null,
            "grid_gap": null,
            "max_width": null,
            "order": null,
            "_view_module_version": "1.2.0",
            "grid_template_areas": null,
            "object_position": null,
            "object_fit": null,
            "grid_auto_columns": null,
            "margin": null,
            "display": null,
            "left": null
          }
        },
        "8c5966e369c04d14885a5e081c735a2f": {
          "model_module": "@jupyter-widgets/controls",
          "model_name": "FloatSliderModel",
          "model_module_version": "1.5.0",
          "state": {
            "_view_name": "FloatSliderView",
            "style": "IPY_MODEL_d4c81007fcdb4b44aff0f507567c0282",
            "_dom_classes": [],
            "description": "threshold",
            "step": 0.01,
            "_model_name": "FloatSliderModel",
            "orientation": "horizontal",
            "max": 1,
            "_view_module": "@jupyter-widgets/controls",
            "_model_module_version": "1.5.0",
            "value": 0.5,
            "_view_count": null,
            "disabled": false,
            "_view_module_version": "1.5.0",
            "min": 0,
            "continuous_update": true,
            "readout_format": ".2f",
            "description_tooltip": null,
            "readout": true,
            "_model_module": "@jupyter-widgets/controls",
            "layout": "IPY_MODEL_7d25c554091843d280c8aa6c1ea42b3e"
          }
        },
        "3555d484f4bd47eeb377640a30335c92": {
          "model_module": "@jupyter-widgets/output",
          "model_name": "OutputModel",
          "model_module_version": "1.0.0",
          "state": {
            "_view_name": "OutputView",
            "msg_id": "",
            "_dom_classes": [],
            "_model_name": "OutputModel",
            "outputs": [
              {
                "output_type": "display_data",
                "data": {
                  "image/png": "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\n",
                  "text/plain": "<Figure size 432x288 with 1 Axes>"
                },
                "metadata": {
                  "needs_background": "light"
                }
              },
              {
                "output_type": "stream",
                "name": "stdout",
                "text": [
                  "              precision    recall  f1-score   support\n",
                  "\n",
                  "           0       0.96      0.91      0.94     17700\n",
                  "           1       0.55      0.75      0.63      2460\n",
                  "\n",
                  "    accuracy                           0.89     20160\n",
                  "   macro avg       0.75      0.83      0.78     20160\n",
                  "weighted avg       0.91      0.89      0.90     20160\n",
                  "\n"
                ]
              }
            ],
            "_view_module": "@jupyter-widgets/output",
            "_model_module_version": "1.0.0",
            "_view_count": null,
            "_view_module_version": "1.0.0",
            "layout": "IPY_MODEL_ceaf653c25884ff29e43b05adaabbd61",
            "_model_module": "@jupyter-widgets/output"
          }
        },
        "d4c81007fcdb4b44aff0f507567c0282": {
          "model_module": "@jupyter-widgets/controls",
          "model_name": "SliderStyleModel",
          "model_module_version": "1.5.0",
          "state": {
            "_view_name": "StyleView",
            "handle_color": null,
            "_model_name": "SliderStyleModel",
            "description_width": "",
            "_view_module": "@jupyter-widgets/base",
            "_model_module_version": "1.5.0",
            "_view_count": null,
            "_view_module_version": "1.2.0",
            "_model_module": "@jupyter-widgets/controls"
          }
        },
        "7d25c554091843d280c8aa6c1ea42b3e": {
          "model_module": "@jupyter-widgets/base",
          "model_name": "LayoutModel",
          "model_module_version": "1.2.0",
          "state": {
            "_view_name": "LayoutView",
            "grid_template_rows": null,
            "right": null,
            "justify_content": null,
            "_view_module": "@jupyter-widgets/base",
            "overflow": null,
            "_model_module_version": "1.2.0",
            "_view_count": null,
            "flex_flow": null,
            "width": null,
            "min_width": null,
            "border": null,
            "align_items": null,
            "bottom": null,
            "_model_module": "@jupyter-widgets/base",
            "top": null,
            "grid_column": null,
            "overflow_y": null,
            "overflow_x": null,
            "grid_auto_flow": null,
            "grid_area": null,
            "grid_template_columns": null,
            "flex": null,
            "_model_name": "LayoutModel",
            "justify_items": null,
            "grid_row": null,
            "max_height": null,
            "align_content": null,
            "visibility": null,
            "align_self": null,
            "height": null,
            "min_height": null,
            "padding": null,
            "grid_auto_rows": null,
            "grid_gap": null,
            "max_width": null,
            "order": null,
            "_view_module_version": "1.2.0",
            "grid_template_areas": null,
            "object_position": null,
            "object_fit": null,
            "grid_auto_columns": null,
            "margin": null,
            "display": null,
            "left": null
          }
        },
        "ceaf653c25884ff29e43b05adaabbd61": {
          "model_module": "@jupyter-widgets/base",
          "model_name": "LayoutModel",
          "model_module_version": "1.2.0",
          "state": {
            "_view_name": "LayoutView",
            "grid_template_rows": null,
            "right": null,
            "justify_content": null,
            "_view_module": "@jupyter-widgets/base",
            "overflow": null,
            "_model_module_version": "1.2.0",
            "_view_count": null,
            "flex_flow": null,
            "width": null,
            "min_width": null,
            "border": null,
            "align_items": null,
            "bottom": null,
            "_model_module": "@jupyter-widgets/base",
            "top": null,
            "grid_column": null,
            "overflow_y": null,
            "overflow_x": null,
            "grid_auto_flow": null,
            "grid_area": null,
            "grid_template_columns": null,
            "flex": null,
            "_model_name": "LayoutModel",
            "justify_items": null,
            "grid_row": null,
            "max_height": null,
            "align_content": null,
            "visibility": null,
            "align_self": null,
            "height": null,
            "min_height": null,
            "padding": null,
            "grid_auto_rows": null,
            "grid_gap": null,
            "max_width": null,
            "order": null,
            "_view_module_version": "1.2.0",
            "grid_template_areas": null,
            "object_position": null,
            "object_fit": null,
            "grid_auto_columns": null,
            "margin": null,
            "display": null,
            "left": null
          }
        },
        "e0a47231c3f6469487826417142d2c17": {
          "model_module": "@jupyter-widgets/controls",
          "model_name": "VBoxModel",
          "model_module_version": "1.5.0",
          "state": {
            "_view_name": "VBoxView",
            "_dom_classes": [
              "widget-interact"
            ],
            "_model_name": "VBoxModel",
            "_view_module": "@jupyter-widgets/controls",
            "_model_module_version": "1.5.0",
            "_view_count": null,
            "_view_module_version": "1.5.0",
            "box_style": "",
            "layout": "IPY_MODEL_a774ec5a64354330878d63528ae61811",
            "_model_module": "@jupyter-widgets/controls",
            "children": [
              "IPY_MODEL_ad4800c2400c47f790723dc0343e6c25",
              "IPY_MODEL_dbb16a4a4c874e86b6fb21b54eb7eadc"
            ]
          }
        },
        "a774ec5a64354330878d63528ae61811": {
          "model_module": "@jupyter-widgets/base",
          "model_name": "LayoutModel",
          "model_module_version": "1.2.0",
          "state": {
            "_view_name": "LayoutView",
            "grid_template_rows": null,
            "right": null,
            "justify_content": null,
            "_view_module": "@jupyter-widgets/base",
            "overflow": null,
            "_model_module_version": "1.2.0",
            "_view_count": null,
            "flex_flow": null,
            "width": null,
            "min_width": null,
            "border": null,
            "align_items": null,
            "bottom": null,
            "_model_module": "@jupyter-widgets/base",
            "top": null,
            "grid_column": null,
            "overflow_y": null,
            "overflow_x": null,
            "grid_auto_flow": null,
            "grid_area": null,
            "grid_template_columns": null,
            "flex": null,
            "_model_name": "LayoutModel",
            "justify_items": null,
            "grid_row": null,
            "max_height": null,
            "align_content": null,
            "visibility": null,
            "align_self": null,
            "height": null,
            "min_height": null,
            "padding": null,
            "grid_auto_rows": null,
            "grid_gap": null,
            "max_width": null,
            "order": null,
            "_view_module_version": "1.2.0",
            "grid_template_areas": null,
            "object_position": null,
            "object_fit": null,
            "grid_auto_columns": null,
            "margin": null,
            "display": null,
            "left": null
          }
        },
        "ad4800c2400c47f790723dc0343e6c25": {
          "model_module": "@jupyter-widgets/controls",
          "model_name": "FloatSliderModel",
          "model_module_version": "1.5.0",
          "state": {
            "_view_name": "FloatSliderView",
            "style": "IPY_MODEL_0f99a5126ada4419bc525f6e2ff85d9c",
            "_dom_classes": [],
            "description": "threshold",
            "step": 0.01,
            "_model_name": "FloatSliderModel",
            "orientation": "horizontal",
            "max": 1,
            "_view_module": "@jupyter-widgets/controls",
            "_model_module_version": "1.5.0",
            "value": 0.5,
            "_view_count": null,
            "disabled": false,
            "_view_module_version": "1.5.0",
            "min": 0,
            "continuous_update": true,
            "readout_format": ".2f",
            "description_tooltip": null,
            "readout": true,
            "_model_module": "@jupyter-widgets/controls",
            "layout": "IPY_MODEL_3de2ed6ba6ce490cb84e80ddb7c5e93c"
          }
        },
        "dbb16a4a4c874e86b6fb21b54eb7eadc": {
          "model_module": "@jupyter-widgets/output",
          "model_name": "OutputModel",
          "model_module_version": "1.0.0",
          "state": {
            "_view_name": "OutputView",
            "msg_id": "",
            "_dom_classes": [],
            "_model_name": "OutputModel",
            "outputs": [
              {
                "output_type": "display_data",
                "data": {
                  "image/png": "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\n",
                  "text/plain": "<Figure size 432x288 with 1 Axes>"
                },
                "metadata": {
                  "needs_background": "light"
                }
              },
              {
                "output_type": "stream",
                "name": "stdout",
                "text": [
                  "              precision    recall  f1-score   support\n",
                  "\n",
                  "           0       0.96      0.91      0.94     17700\n",
                  "           1       0.55      0.75      0.63      2460\n",
                  "\n",
                  "    accuracy                           0.89     20160\n",
                  "   macro avg       0.75      0.83      0.78     20160\n",
                  "weighted avg       0.91      0.89      0.90     20160\n",
                  "\n"
                ]
              }
            ],
            "_view_module": "@jupyter-widgets/output",
            "_model_module_version": "1.0.0",
            "_view_count": null,
            "_view_module_version": "1.0.0",
            "layout": "IPY_MODEL_e5dc25222e4b44efad80521257140530",
            "_model_module": "@jupyter-widgets/output"
          }
        },
        "0f99a5126ada4419bc525f6e2ff85d9c": {
          "model_module": "@jupyter-widgets/controls",
          "model_name": "SliderStyleModel",
          "model_module_version": "1.5.0",
          "state": {
            "_view_name": "StyleView",
            "handle_color": null,
            "_model_name": "SliderStyleModel",
            "description_width": "",
            "_view_module": "@jupyter-widgets/base",
            "_model_module_version": "1.5.0",
            "_view_count": null,
            "_view_module_version": "1.2.0",
            "_model_module": "@jupyter-widgets/controls"
          }
        },
        "3de2ed6ba6ce490cb84e80ddb7c5e93c": {
          "model_module": "@jupyter-widgets/base",
          "model_name": "LayoutModel",
          "model_module_version": "1.2.0",
          "state": {
            "_view_name": "LayoutView",
            "grid_template_rows": null,
            "right": null,
            "justify_content": null,
            "_view_module": "@jupyter-widgets/base",
            "overflow": null,
            "_model_module_version": "1.2.0",
            "_view_count": null,
            "flex_flow": null,
            "width": null,
            "min_width": null,
            "border": null,
            "align_items": null,
            "bottom": null,
            "_model_module": "@jupyter-widgets/base",
            "top": null,
            "grid_column": null,
            "overflow_y": null,
            "overflow_x": null,
            "grid_auto_flow": null,
            "grid_area": null,
            "grid_template_columns": null,
            "flex": null,
            "_model_name": "LayoutModel",
            "justify_items": null,
            "grid_row": null,
            "max_height": null,
            "align_content": null,
            "visibility": null,
            "align_self": null,
            "height": null,
            "min_height": null,
            "padding": null,
            "grid_auto_rows": null,
            "grid_gap": null,
            "max_width": null,
            "order": null,
            "_view_module_version": "1.2.0",
            "grid_template_areas": null,
            "object_position": null,
            "object_fit": null,
            "grid_auto_columns": null,
            "margin": null,
            "display": null,
            "left": null
          }
        },
        "e5dc25222e4b44efad80521257140530": {
          "model_module": "@jupyter-widgets/base",
          "model_name": "LayoutModel",
          "model_module_version": "1.2.0",
          "state": {
            "_view_name": "LayoutView",
            "grid_template_rows": null,
            "right": null,
            "justify_content": null,
            "_view_module": "@jupyter-widgets/base",
            "overflow": null,
            "_model_module_version": "1.2.0",
            "_view_count": null,
            "flex_flow": null,
            "width": null,
            "min_width": null,
            "border": null,
            "align_items": null,
            "bottom": null,
            "_model_module": "@jupyter-widgets/base",
            "top": null,
            "grid_column": null,
            "overflow_y": null,
            "overflow_x": null,
            "grid_auto_flow": null,
            "grid_area": null,
            "grid_template_columns": null,
            "flex": null,
            "_model_name": "LayoutModel",
            "justify_items": null,
            "grid_row": null,
            "max_height": null,
            "align_content": null,
            "visibility": null,
            "align_self": null,
            "height": null,
            "min_height": null,
            "padding": null,
            "grid_auto_rows": null,
            "grid_gap": null,
            "max_width": null,
            "order": null,
            "_view_module_version": "1.2.0",
            "grid_template_areas": null,
            "object_position": null,
            "object_fit": null,
            "grid_auto_columns": null,
            "margin": null,
            "display": null,
            "left": null
          }
        },
        "5829d7a9ae18432499ab173b7f6f40f2": {
          "model_module": "@jupyter-widgets/controls",
          "model_name": "VBoxModel",
          "model_module_version": "1.5.0",
          "state": {
            "_view_name": "VBoxView",
            "_dom_classes": [
              "widget-interact"
            ],
            "_model_name": "VBoxModel",
            "_view_module": "@jupyter-widgets/controls",
            "_model_module_version": "1.5.0",
            "_view_count": null,
            "_view_module_version": "1.5.0",
            "box_style": "",
            "layout": "IPY_MODEL_9379b7b51811497f8ed2b4d8e5dfc37f",
            "_model_module": "@jupyter-widgets/controls",
            "children": [
              "IPY_MODEL_ffac738c24e842dbbf91e9d9a5da9e0d",
              "IPY_MODEL_3c08bdca0e4c48248bfc3720f30ec079"
            ]
          }
        },
        "9379b7b51811497f8ed2b4d8e5dfc37f": {
          "model_module": "@jupyter-widgets/base",
          "model_name": "LayoutModel",
          "model_module_version": "1.2.0",
          "state": {
            "_view_name": "LayoutView",
            "grid_template_rows": null,
            "right": null,
            "justify_content": null,
            "_view_module": "@jupyter-widgets/base",
            "overflow": null,
            "_model_module_version": "1.2.0",
            "_view_count": null,
            "flex_flow": null,
            "width": null,
            "min_width": null,
            "border": null,
            "align_items": null,
            "bottom": null,
            "_model_module": "@jupyter-widgets/base",
            "top": null,
            "grid_column": null,
            "overflow_y": null,
            "overflow_x": null,
            "grid_auto_flow": null,
            "grid_area": null,
            "grid_template_columns": null,
            "flex": null,
            "_model_name": "LayoutModel",
            "justify_items": null,
            "grid_row": null,
            "max_height": null,
            "align_content": null,
            "visibility": null,
            "align_self": null,
            "height": null,
            "min_height": null,
            "padding": null,
            "grid_auto_rows": null,
            "grid_gap": null,
            "max_width": null,
            "order": null,
            "_view_module_version": "1.2.0",
            "grid_template_areas": null,
            "object_position": null,
            "object_fit": null,
            "grid_auto_columns": null,
            "margin": null,
            "display": null,
            "left": null
          }
        },
        "ffac738c24e842dbbf91e9d9a5da9e0d": {
          "model_module": "@jupyter-widgets/controls",
          "model_name": "FloatSliderModel",
          "model_module_version": "1.5.0",
          "state": {
            "_view_name": "FloatSliderView",
            "style": "IPY_MODEL_ec504de8fdcd4b38916183bb0204dca8",
            "_dom_classes": [],
            "description": "threshold",
            "step": 0.01,
            "_model_name": "FloatSliderModel",
            "orientation": "horizontal",
            "max": 1,
            "_view_module": "@jupyter-widgets/controls",
            "_model_module_version": "1.5.0",
            "value": 0.5,
            "_view_count": null,
            "disabled": false,
            "_view_module_version": "1.5.0",
            "min": 0,
            "continuous_update": true,
            "readout_format": ".2f",
            "description_tooltip": null,
            "readout": true,
            "_model_module": "@jupyter-widgets/controls",
            "layout": "IPY_MODEL_85df5c79d254429fa1f86fe7c3a3745c"
          }
        },
        "3c08bdca0e4c48248bfc3720f30ec079": {
          "model_module": "@jupyter-widgets/output",
          "model_name": "OutputModel",
          "model_module_version": "1.0.0",
          "state": {
            "_view_name": "OutputView",
            "msg_id": "",
            "_dom_classes": [],
            "_model_name": "OutputModel",
            "outputs": [
              {
                "output_type": "display_data",
                "data": {
                  "image/png": "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\n",
                  "text/plain": "<Figure size 432x288 with 1 Axes>"
                },
                "metadata": {
                  "needs_background": "light"
                }
              },
              {
                "output_type": "stream",
                "name": "stdout",
                "text": [
                  "              precision    recall  f1-score   support\n",
                  "\n",
                  "           0       0.97      0.91      0.94     17700\n",
                  "           1       0.54      0.76      0.63      2460\n",
                  "\n",
                  "    accuracy                           0.89     20160\n",
                  "   macro avg       0.75      0.84      0.78     20160\n",
                  "weighted avg       0.91      0.89      0.90     20160\n",
                  "\n"
                ]
              }
            ],
            "_view_module": "@jupyter-widgets/output",
            "_model_module_version": "1.0.0",
            "_view_count": null,
            "_view_module_version": "1.0.0",
            "layout": "IPY_MODEL_c3773e14a1f646669b226c2cc9d801bd",
            "_model_module": "@jupyter-widgets/output"
          }
        },
        "ec504de8fdcd4b38916183bb0204dca8": {
          "model_module": "@jupyter-widgets/controls",
          "model_name": "SliderStyleModel",
          "model_module_version": "1.5.0",
          "state": {
            "_view_name": "StyleView",
            "handle_color": null,
            "_model_name": "SliderStyleModel",
            "description_width": "",
            "_view_module": "@jupyter-widgets/base",
            "_model_module_version": "1.5.0",
            "_view_count": null,
            "_view_module_version": "1.2.0",
            "_model_module": "@jupyter-widgets/controls"
          }
        },
        "85df5c79d254429fa1f86fe7c3a3745c": {
          "model_module": "@jupyter-widgets/base",
          "model_name": "LayoutModel",
          "model_module_version": "1.2.0",
          "state": {
            "_view_name": "LayoutView",
            "grid_template_rows": null,
            "right": null,
            "justify_content": null,
            "_view_module": "@jupyter-widgets/base",
            "overflow": null,
            "_model_module_version": "1.2.0",
            "_view_count": null,
            "flex_flow": null,
            "width": null,
            "min_width": null,
            "border": null,
            "align_items": null,
            "bottom": null,
            "_model_module": "@jupyter-widgets/base",
            "top": null,
            "grid_column": null,
            "overflow_y": null,
            "overflow_x": null,
            "grid_auto_flow": null,
            "grid_area": null,
            "grid_template_columns": null,
            "flex": null,
            "_model_name": "LayoutModel",
            "justify_items": null,
            "grid_row": null,
            "max_height": null,
            "align_content": null,
            "visibility": null,
            "align_self": null,
            "height": null,
            "min_height": null,
            "padding": null,
            "grid_auto_rows": null,
            "grid_gap": null,
            "max_width": null,
            "order": null,
            "_view_module_version": "1.2.0",
            "grid_template_areas": null,
            "object_position": null,
            "object_fit": null,
            "grid_auto_columns": null,
            "margin": null,
            "display": null,
            "left": null
          }
        },
        "c3773e14a1f646669b226c2cc9d801bd": {
          "model_module": "@jupyter-widgets/base",
          "model_name": "LayoutModel",
          "model_module_version": "1.2.0",
          "state": {
            "_view_name": "LayoutView",
            "grid_template_rows": null,
            "right": null,
            "justify_content": null,
            "_view_module": "@jupyter-widgets/base",
            "overflow": null,
            "_model_module_version": "1.2.0",
            "_view_count": null,
            "flex_flow": null,
            "width": null,
            "min_width": null,
            "border": null,
            "align_items": null,
            "bottom": null,
            "_model_module": "@jupyter-widgets/base",
            "top": null,
            "grid_column": null,
            "overflow_y": null,
            "overflow_x": null,
            "grid_auto_flow": null,
            "grid_area": null,
            "grid_template_columns": null,
            "flex": null,
            "_model_name": "LayoutModel",
            "justify_items": null,
            "grid_row": null,
            "max_height": null,
            "align_content": null,
            "visibility": null,
            "align_self": null,
            "height": null,
            "min_height": null,
            "padding": null,
            "grid_auto_rows": null,
            "grid_gap": null,
            "max_width": null,
            "order": null,
            "_view_module_version": "1.2.0",
            "grid_template_areas": null,
            "object_position": null,
            "object_fit": null,
            "grid_auto_columns": null,
            "margin": null,
            "display": null,
            "left": null
          }
        }
      }
    }
  },
  "cells": [
    {
      "cell_type": "code",
      "metadata": {
        "id": "C7Zd5wxHl6Ob"
      },
      "source": [
        "!pip install category_encoders"
      ],
      "execution_count": null,
      "outputs": []
    },
    {
      "cell_type": "code",
      "metadata": {
        "id": "FWmmRAOS0WnK"
      },
      "source": [
        "!pip install pdpbox"
      ],
      "execution_count": null,
      "outputs": []
    },
    {
      "cell_type": "code",
      "metadata": {
        "id": "SpSRhqGC0X6g"
      },
      "source": [
        "!pip install shap"
      ],
      "execution_count": null,
      "outputs": []
    },
    {
      "cell_type": "code",
      "metadata": {
        "id": "D5kXoRoQPZCm"
      },
      "source": [
        "!pip install eli5"
      ],
      "execution_count": null,
      "outputs": []
    },
    {
      "cell_type": "code",
      "metadata": {
        "colab": {
          "base_uri": "https://localhost:8080/"
        },
        "id": "EgT8z28t_ZLA",
        "outputId": "caf7c7b3-29b2-49f7-e7d6-504a26129196"
      },
      "source": [
        "#구글드라이브 마운트\n",
        "from google.colab import drive\n",
        "drive.mount('/content/drive')"
      ],
      "execution_count": 1,
      "outputs": [
        {
          "output_type": "stream",
          "name": "stdout",
          "text": [
            "Drive already mounted at /content/drive; to attempt to forcibly remount, call drive.mount(\"/content/drive\", force_remount=True).\n"
          ]
        }
      ]
    },
    {
      "cell_type": "code",
      "metadata": {
        "id": "fZGutUJOYRcq",
        "colab": {
          "base_uri": "https://localhost:8080/"
        },
        "outputId": "bdbb9a5e-f392-4173-a650-62f7665d6b15"
      },
      "source": [
        "##라이브러리\n",
        "\n",
        "#pandas\n",
        "import pandas as pd\n",
        "\n",
        "#시각화\n",
        "import seaborn as sns\n",
        "import matplotlib.pyplot as plt\n",
        "\n",
        "from category_encoders import OrdinalEncoder\n",
        "from sklearn.impute import SimpleImputer\n",
        "from sklearn.ensemble import RandomForestClassifier\n",
        "from sklearn.pipeline import make_pipeline\n",
        "from sklearn.pipeline import Pipeline\n",
        "from xgboost import XGBClassifier\n",
        "\n",
        "from sklearn.model_selection import train_test_split\n",
        "\n",
        "from sklearn.metrics import accuracy_score, recall_score, precision_score, f1_score, classification_report\n",
        "\n",
        "import numpy as np\n",
        "from scipy.stats import randint, uniform\n",
        "from sklearn.model_selection import RandomizedSearchCV\n",
        "\n",
        "from sklearn.metrics import f1_score\n",
        "\n",
        "from ipywidgets import interact, fixed\n",
        "import seaborn as sns\n",
        "import matplotlib.pyplot as plt\n",
        "\n",
        "from sklearn.metrics import roc_auc_score\n",
        "\n",
        "from sklearn.metrics import roc_curve\n",
        "\n",
        "from sklearn.metrics import plot_confusion_matrix\n",
        "\n",
        "import warnings\n",
        "warnings.filterwarnings(\"ignore\")\n",
        "\n",
        "import warnings\n",
        "warnings.simplefilter(action='ignore', category=FutureWarning)\n",
        "\n",
        "import eli5\n",
        "from eli5.sklearn import PermutationImportance\n",
        "\n",
        "from pdpbox.pdp import pdp_isolate, pdp_plot\n",
        "from pdpbox import pdp\n",
        "from pdpbox.pdp import pdp_interact, pdp_interact_plot"
      ],
      "execution_count": 2,
      "outputs": [
        {
          "output_type": "stream",
          "name": "stderr",
          "text": [
            "/usr/local/lib/python3.7/dist-packages/statsmodels/tools/_testing.py:19: FutureWarning: pandas.util.testing is deprecated. Use the functions in the public API at pandas.testing instead.\n",
            "  import pandas.util.testing as tm\n"
          ]
        }
      ]
    },
    {
      "cell_type": "markdown",
      "metadata": {
        "id": "QnZ-EoVfwUoR"
      },
      "source": [
        "캐글 데이터\n",
        "https://www.kaggle.com/subhamjain/loan-prediction-based-on-customer-behavior"
      ]
    },
    {
      "cell_type": "markdown",
      "metadata": {
        "id": "BGg-tB6Lv41P"
      },
      "source": [
        "# 1)"
      ]
    },
    {
      "cell_type": "markdown",
      "metadata": {
        "id": "xg37PsI1oIYJ"
      },
      "source": [
        "데이터 선정 이유: 회귀모델, 분류모델을 잘 활용하기 위해 타겟이 명확한 데이터를 선정했습니다.\n",
        "\n",
        "알고자 하는 것: 고객의 나이, 직업, 수입 등 다양한 정보를 토대로 채무 불이행의 가능성이 있는지 판단하고자합니다."
      ]
    },
    {
      "cell_type": "code",
      "metadata": {
        "id": "NU1WtAJS_h1S"
      },
      "source": [
        "#데이터 불러오기\n",
        "data = pd.read_csv('/content/drive/MyDrive/Colab Notebooks/Training Data section2 proj.csv')"
      ],
      "execution_count": 3,
      "outputs": []
    },
    {
      "cell_type": "code",
      "metadata": {
        "id": "JYAHKKmCd7Oh"
      },
      "source": [
        "data = data.sample(frac=0.5, replace=False, random_state=2)"
      ],
      "execution_count": 4,
      "outputs": []
    },
    {
      "cell_type": "code",
      "metadata": {
        "colab": {
          "base_uri": "https://localhost:8080/"
        },
        "id": "ovXqhqJZ_jYi",
        "outputId": "ef2f711b-2490-4eaa-c6eb-5c8e6fa1b8b5"
      },
      "source": [
        "#데이터 갯수 확인\n",
        "data.shape"
      ],
      "execution_count": 5,
      "outputs": [
        {
          "output_type": "execute_result",
          "data": {
            "text/plain": [
              "(126000, 13)"
            ]
          },
          "metadata": {},
          "execution_count": 5
        }
      ]
    },
    {
      "cell_type": "markdown",
      "metadata": {
        "id": "RwmjTcoZr0Yc"
      },
      "source": [
        "Data Description\n",
        "- Income: Income of the user   \n",
        "- Age: Age of the user    \n",
        "- Experience: Professional experience of the user in years    \n",
        "- Profession: Profession   \n",
        "- Married: Whether married or single   \n",
        "- House_ownership: Owned or rented or neither.   \n",
        "- Car_ownership: Does the person own a car\t\n",
        "- Currentjobyears: Years of experience in the current job\t\n",
        "- Currenthouseyears: Number of years in the current residence\t \n",
        "- CITY: City of residence\t\n",
        "- SATATE: State of residence\t\n",
        "- risk_flag: Defaulted on a loan\t"
      ]
    },
    {
      "cell_type": "code",
      "metadata": {
        "id": "n0ebkfe8_mi1"
      },
      "source": [
        "#타겟 설정\n",
        "target = 'Risk_Flag'"
      ],
      "execution_count": 6,
      "outputs": []
    },
    {
      "cell_type": "code",
      "metadata": {
        "colab": {
          "base_uri": "https://localhost:8080/",
          "height": 35
        },
        "id": "nafM2O_T_oXS",
        "outputId": "8fcfde86-e412-4bba-e6c2-4647c597c5ec"
      },
      "source": [
        "#분류문제\n",
        "'''\n",
        "Risk_Flag : whether there has been a default(1) in the past or not(0).\n",
        "'''"
      ],
      "execution_count": 7,
      "outputs": [
        {
          "output_type": "execute_result",
          "data": {
            "application/vnd.google.colaboratory.intrinsic+json": {
              "type": "string"
            },
            "text/plain": [
              "'\\nRisk_Flag : whether there has been a default(1) in the past or not(0).\\n'"
            ]
          },
          "metadata": {},
          "execution_count": 7
        }
      ]
    },
    {
      "cell_type": "markdown",
      "metadata": {
        "id": "6ZYyB4s0wFge"
      },
      "source": [
        "# 2)"
      ]
    },
    {
      "cell_type": "code",
      "metadata": {
        "colab": {
          "base_uri": "https://localhost:8080/"
        },
        "id": "ZkhtyBmJ_sFD",
        "outputId": "cefcc64d-3f29-44bc-e5db-32b17fec0f9a"
      },
      "source": [
        "##클래스 별 갯수\n",
        "##분류 클래스: 2개\n",
        "\n",
        "proportion = data[target].value_counts()\n",
        "proportion"
      ],
      "execution_count": 8,
      "outputs": [
        {
          "output_type": "execute_result",
          "data": {
            "text/plain": [
              "0    110620\n",
              "1     15380\n",
              "Name: Risk_Flag, dtype: int64"
            ]
          },
          "metadata": {},
          "execution_count": 8
        }
      ]
    },
    {
      "cell_type": "code",
      "metadata": {
        "colab": {
          "base_uri": "https://localhost:8080/",
          "height": 265
        },
        "id": "GDRbb_mv_s6e",
        "outputId": "92e5a1e2-2da4-4160-a36a-7cea072f1d94"
      },
      "source": [
        "#클래스 갯수 시각화 \n",
        "proportion.plot.bar()\n",
        "plt.xticks([0,1],labels=['0', '1'], rotation=0)\n",
        "plt.show()"
      ],
      "execution_count": 9,
      "outputs": [
        {
          "output_type": "display_data",
          "data": {
            "image/png": "[encoded data removed]",
            "text/plain": [
              "<Figure size 432x288 with 1 Axes>"
            ]
          },
          "metadata": {
            "needs_background": "light"
          }
        }
      ]
    },
    {
      "cell_type": "code",
      "metadata": {
        "colab": {
          "base_uri": "https://localhost:8080/"
        },
        "id": "uzACkfTf_uTE",
        "outputId": "55fca11c-3c1c-46c1-fff4-e539d6401700"
      },
      "source": [
        "##클래스 비율\n",
        "data[target].value_counts(normalize=True)\n",
        "#majority class 비율이 87%로 매우 크기 때문에 accuracy가 아닌 AUC score, f1 score를 활용해야 할 것 같다."
      ],
      "execution_count": 10,
      "outputs": [
        {
          "output_type": "execute_result",
          "data": {
            "text/plain": [
              "0    0.877937\n",
              "1    0.122063\n",
              "Name: Risk_Flag, dtype: float64"
            ]
          },
          "metadata": {},
          "execution_count": 10
        }
      ]
    },
    {
      "cell_type": "markdown",
      "metadata": {
        "id": "DZQs7nGQ-NTT"
      },
      "source": [
        "majority class 비율이 88%로 매우 크기 때문에 accuracy가 아닌 AUC score, f1 score를 활용해야 할 것 같다.\n",
        "\n",
        "Recall과 Precision중 어떤 것을 중점적으로 봐야할지 고민했으나, 도메인 지식 부족으로 f1 score를 보기로 했다."
      ]
    },
    {
      "cell_type": "markdown",
      "metadata": {
        "id": "u1prRiulBXzB"
      },
      "source": [
        "# 3)"
      ]
    },
    {
      "cell_type": "code",
      "metadata": {
        "colab": {
          "base_uri": "https://localhost:8080/"
        },
        "id": "zm6uKKot_krJ",
        "outputId": "37c856d3-caf5-47e9-9428-aa8be74f877c"
      },
      "source": [
        "#null값 확인\n",
        "data.isnull().sum()"
      ],
      "execution_count": 11,
      "outputs": [
        {
          "output_type": "execute_result",
          "data": {
            "text/plain": [
              "Id                   0\n",
              "Income               0\n",
              "Age                  0\n",
              "Experience           0\n",
              "Married/Single       0\n",
              "House_Ownership      0\n",
              "Car_Ownership        0\n",
              "Profession           0\n",
              "CITY                 0\n",
              "STATE                0\n",
              "CURRENT_JOB_YRS      0\n",
              "CURRENT_HOUSE_YRS    0\n",
              "Risk_Flag            0\n",
              "dtype: int64"
            ]
          },
          "metadata": {},
          "execution_count": 11
        }
      ]
    },
    {
      "cell_type": "code",
      "metadata": {
        "colab": {
          "base_uri": "https://localhost:8080/"
        },
        "id": "4c2ZR6dj_rAX",
        "outputId": "1f185b63-3d8b-44ab-8304-09fe2f1c1182"
      },
      "source": [
        "data.dtypes"
      ],
      "execution_count": 12,
      "outputs": [
        {
          "output_type": "execute_result",
          "data": {
            "text/plain": [
              "Id                    int64\n",
              "Income                int64\n",
              "Age                   int64\n",
              "Experience            int64\n",
              "Married/Single       object\n",
              "House_Ownership      object\n",
              "Car_Ownership        object\n",
              "Profession           object\n",
              "CITY                 object\n",
              "STATE                object\n",
              "CURRENT_JOB_YRS       int64\n",
              "CURRENT_HOUSE_YRS     int64\n",
              "Risk_Flag             int64\n",
              "dtype: object"
            ]
          },
          "metadata": {},
          "execution_count": 12
        }
      ]
    },
    {
      "cell_type": "code",
      "metadata": {
        "colab": {
          "base_uri": "https://localhost:8080/",
          "height": 235
        },
        "id": "p5tY_YSr_pgJ",
        "outputId": "d1790283-6d0b-44f8-c1db-0b6d98fec57c"
      },
      "source": [
        "#high cardinality 확인\n",
        "data.describe(exclude='number').T.sort_values(by='unique')"
      ],
      "execution_count": 13,
      "outputs": [
        {
          "output_type": "execute_result",
          "data": {
            "text/html": [
              "<div>\n",
              "<style scoped>\n",
              "    .dataframe tbody tr th:only-of-type {\n",
              "        vertical-align: middle;\n",
              "    }\n",
              "\n",
              "    .dataframe tbody tr th {\n",
              "        vertical-align: top;\n",
              "    }\n",
              "\n",
              "    .dataframe thead th {\n",
              "        text-align: right;\n",
              "    }\n",
              "</style>\n",
              "<table border=\"1\" class=\"dataframe\">\n",
              "  <thead>\n",
              "    <tr style=\"text-align: right;\">\n",
              "      <th></th>\n",
              "      <th>count</th>\n",
              "      <th>unique</th>\n",
              "      <th>top</th>\n",
              "      <th>freq</th>\n",
              "    </tr>\n",
              "  </thead>\n",
              "  <tbody>\n",
              "    <tr>\n",
              "      <th>Married/Single</th>\n",
              "      <td>126000</td>\n",
              "      <td>2</td>\n",
              "      <td>single</td>\n",
              "      <td>113084</td>\n",
              "    </tr>\n",
              "    <tr>\n",
              "      <th>Car_Ownership</th>\n",
              "      <td>126000</td>\n",
              "      <td>2</td>\n",
              "      <td>no</td>\n",
              "      <td>87985</td>\n",
              "    </tr>\n",
              "    <tr>\n",
              "      <th>House_Ownership</th>\n",
              "      <td>126000</td>\n",
              "      <td>3</td>\n",
              "      <td>rented</td>\n",
              "      <td>116057</td>\n",
              "    </tr>\n",
              "    <tr>\n",
              "      <th>STATE</th>\n",
              "      <td>126000</td>\n",
              "      <td>29</td>\n",
              "      <td>Uttar_Pradesh</td>\n",
              "      <td>14291</td>\n",
              "    </tr>\n",
              "    <tr>\n",
              "      <th>Profession</th>\n",
              "      <td>126000</td>\n",
              "      <td>51</td>\n",
              "      <td>Physician</td>\n",
              "      <td>2924</td>\n",
              "    </tr>\n",
              "    <tr>\n",
              "      <th>CITY</th>\n",
              "      <td>126000</td>\n",
              "      <td>317</td>\n",
              "      <td>Vijayanagaram</td>\n",
              "      <td>633</td>\n",
              "    </tr>\n",
              "  </tbody>\n",
              "</table>\n",
              "</div>"
            ],
            "text/plain": [
              "                  count unique            top    freq\n",
              "Married/Single   126000      2         single  113084\n",
              "Car_Ownership    126000      2             no   87985\n",
              "House_Ownership  126000      3         rented  116057\n",
              "STATE            126000     29  Uttar_Pradesh   14291\n",
              "Profession       126000     51      Physician    2924\n",
              "CITY             126000    317  Vijayanagaram     633"
            ]
          },
          "metadata": {},
          "execution_count": 13
        }
      ]
    },
    {
      "cell_type": "markdown",
      "metadata": {
        "id": "GLGOrj8CFlmf"
      },
      "source": [
        "- cardinality가 매우 높은 city는 drop\n",
        "- 분류문제로, 포레스트 모델을 사용할 예정이기 때문에 ordinal encoding할 계획\n"
      ]
    },
    {
      "cell_type": "code",
      "metadata": {
        "id": "lzexNZELZ2Fq"
      },
      "source": [
        "#데이터 전처리\n",
        "def engineer(df):\n",
        "\n",
        "\n",
        "    ##1. 나이 범위\n",
        "    #나이 확인\n",
        "    df['Age'].value_counts().sort_index() #21세~79세\n",
        "    #범위 및 범위이름 지정\n",
        "    bins = [20, 30, 40, 50, 60, 70, 80]\n",
        "    labels = [20, 30, 40, 50, 60, 70]\n",
        "    #'Age Group' feature 생성\n",
        "    df['Age Group'] = pd.cut(df['Age'], bins=bins, labels=labels, right=False)\n",
        "    ###### 나이 범위 더 넓게 합쳐야 할까?\n",
        "    \n",
        "    #city제거\n",
        "    df = df.drop('CITY', axis=1)\n",
        "    \n",
        "    #id 제거\n",
        "    df = df.drop('Id', axis=1)\n",
        "\n",
        "    return df\n",
        "\n",
        "\n",
        "data = engineer(data)"
      ],
      "execution_count": 14,
      "outputs": []
    },
    {
      "cell_type": "code",
      "metadata": {
        "id": "qCEayRy56Zzh",
        "colab": {
          "base_uri": "https://localhost:8080/",
          "height": 456
        },
        "outputId": "a71c5472-4142-42b5-dc5e-614f8af752fe"
      },
      "source": [
        "data"
      ],
      "execution_count": 15,
      "outputs": [
        {
          "output_type": "execute_result",
          "data": {
            "text/html": [
              "<div>\n",
              "<style scoped>\n",
              "    .dataframe tbody tr th:only-of-type {\n",
              "        vertical-align: middle;\n",
              "    }\n",
              "\n",
              "    .dataframe tbody tr th {\n",
              "        vertical-align: top;\n",
              "    }\n",
              "\n",
              "    .dataframe thead th {\n",
              "        text-align: right;\n",
              "    }\n",
              "</style>\n",
              "<table border=\"1\" class=\"dataframe\">\n",
              "  <thead>\n",
              "    <tr style=\"text-align: right;\">\n",
              "      <th></th>\n",
              "      <th>Income</th>\n",
              "      <th>Age</th>\n",
              "      <th>Experience</th>\n",
              "      <th>Married/Single</th>\n",
              "      <th>House_Ownership</th>\n",
              "      <th>Car_Ownership</th>\n",
              "      <th>Profession</th>\n",
              "      <th>STATE</th>\n",
              "      <th>CURRENT_JOB_YRS</th>\n",
              "      <th>CURRENT_HOUSE_YRS</th>\n",
              "      <th>Risk_Flag</th>\n",
              "      <th>Age Group</th>\n",
              "    </tr>\n",
              "  </thead>\n",
              "  <tbody>\n",
              "    <tr>\n",
              "      <th>221926</th>\n",
              "      <td>5653048</td>\n",
              "      <td>61</td>\n",
              "      <td>16</td>\n",
              "      <td>single</td>\n",
              "      <td>rented</td>\n",
              "      <td>no</td>\n",
              "      <td>Graphic_Designer</td>\n",
              "      <td>Gujarat</td>\n",
              "      <td>11</td>\n",
              "      <td>13</td>\n",
              "      <td>0</td>\n",
              "      <td>60</td>\n",
              "    </tr>\n",
              "    <tr>\n",
              "      <th>212087</th>\n",
              "      <td>156145</td>\n",
              "      <td>69</td>\n",
              "      <td>7</td>\n",
              "      <td>single</td>\n",
              "      <td>rented</td>\n",
              "      <td>yes</td>\n",
              "      <td>Web_designer</td>\n",
              "      <td>West_Bengal</td>\n",
              "      <td>7</td>\n",
              "      <td>13</td>\n",
              "      <td>1</td>\n",
              "      <td>60</td>\n",
              "    </tr>\n",
              "    <tr>\n",
              "      <th>251277</th>\n",
              "      <td>4498227</td>\n",
              "      <td>53</td>\n",
              "      <td>18</td>\n",
              "      <td>married</td>\n",
              "      <td>rented</td>\n",
              "      <td>no</td>\n",
              "      <td>Chef</td>\n",
              "      <td>Puducherry</td>\n",
              "      <td>9</td>\n",
              "      <td>11</td>\n",
              "      <td>0</td>\n",
              "      <td>50</td>\n",
              "    </tr>\n",
              "    <tr>\n",
              "      <th>223297</th>\n",
              "      <td>3230139</td>\n",
              "      <td>60</td>\n",
              "      <td>11</td>\n",
              "      <td>single</td>\n",
              "      <td>rented</td>\n",
              "      <td>yes</td>\n",
              "      <td>Comedian</td>\n",
              "      <td>Uttar_Pradesh</td>\n",
              "      <td>8</td>\n",
              "      <td>11</td>\n",
              "      <td>0</td>\n",
              "      <td>60</td>\n",
              "    </tr>\n",
              "    <tr>\n",
              "      <th>238193</th>\n",
              "      <td>7429551</td>\n",
              "      <td>21</td>\n",
              "      <td>3</td>\n",
              "      <td>single</td>\n",
              "      <td>rented</td>\n",
              "      <td>no</td>\n",
              "      <td>Computer_hardware_engineer</td>\n",
              "      <td>Bihar</td>\n",
              "      <td>3</td>\n",
              "      <td>10</td>\n",
              "      <td>0</td>\n",
              "      <td>20</td>\n",
              "    </tr>\n",
              "    <tr>\n",
              "      <th>...</th>\n",
              "      <td>...</td>\n",
              "      <td>...</td>\n",
              "      <td>...</td>\n",
              "      <td>...</td>\n",
              "      <td>...</td>\n",
              "      <td>...</td>\n",
              "      <td>...</td>\n",
              "      <td>...</td>\n",
              "      <td>...</td>\n",
              "      <td>...</td>\n",
              "      <td>...</td>\n",
              "      <td>...</td>\n",
              "    </tr>\n",
              "    <tr>\n",
              "      <th>208858</th>\n",
              "      <td>8940384</td>\n",
              "      <td>33</td>\n",
              "      <td>10</td>\n",
              "      <td>single</td>\n",
              "      <td>rented</td>\n",
              "      <td>no</td>\n",
              "      <td>Secretary</td>\n",
              "      <td>Maharashtra</td>\n",
              "      <td>6</td>\n",
              "      <td>12</td>\n",
              "      <td>0</td>\n",
              "      <td>30</td>\n",
              "    </tr>\n",
              "    <tr>\n",
              "      <th>205043</th>\n",
              "      <td>5895669</td>\n",
              "      <td>42</td>\n",
              "      <td>9</td>\n",
              "      <td>single</td>\n",
              "      <td>rented</td>\n",
              "      <td>no</td>\n",
              "      <td>Financial_Analyst</td>\n",
              "      <td>Bihar</td>\n",
              "      <td>9</td>\n",
              "      <td>11</td>\n",
              "      <td>0</td>\n",
              "      <td>40</td>\n",
              "    </tr>\n",
              "    <tr>\n",
              "      <th>162467</th>\n",
              "      <td>1306929</td>\n",
              "      <td>66</td>\n",
              "      <td>14</td>\n",
              "      <td>single</td>\n",
              "      <td>rented</td>\n",
              "      <td>no</td>\n",
              "      <td>Engineer</td>\n",
              "      <td>Karnataka</td>\n",
              "      <td>11</td>\n",
              "      <td>10</td>\n",
              "      <td>0</td>\n",
              "      <td>60</td>\n",
              "    </tr>\n",
              "    <tr>\n",
              "      <th>79663</th>\n",
              "      <td>9474065</td>\n",
              "      <td>73</td>\n",
              "      <td>11</td>\n",
              "      <td>single</td>\n",
              "      <td>rented</td>\n",
              "      <td>no</td>\n",
              "      <td>Graphic_Designer</td>\n",
              "      <td>Jharkhand</td>\n",
              "      <td>3</td>\n",
              "      <td>11</td>\n",
              "      <td>0</td>\n",
              "      <td>70</td>\n",
              "    </tr>\n",
              "    <tr>\n",
              "      <th>171627</th>\n",
              "      <td>4657522</td>\n",
              "      <td>59</td>\n",
              "      <td>9</td>\n",
              "      <td>single</td>\n",
              "      <td>owned</td>\n",
              "      <td>no</td>\n",
              "      <td>Artist</td>\n",
              "      <td>Delhi</td>\n",
              "      <td>4</td>\n",
              "      <td>13</td>\n",
              "      <td>0</td>\n",
              "      <td>50</td>\n",
              "    </tr>\n",
              "  </tbody>\n",
              "</table>\n",
              "<p>126000 rows × 12 columns</p>\n",
              "</div>"
            ],
            "text/plain": [
              "         Income  Age  Experience  ... CURRENT_HOUSE_YRS Risk_Flag Age Group\n",
              "221926  5653048   61          16  ...                13         0        60\n",
              "212087   156145   69           7  ...                13         1        60\n",
              "251277  4498227   53          18  ...                11         0        50\n",
              "223297  3230139   60          11  ...                11         0        60\n",
              "238193  7429551   21           3  ...                10         0        20\n",
              "...         ...  ...         ...  ...               ...       ...       ...\n",
              "208858  8940384   33          10  ...                12         0        30\n",
              "205043  5895669   42           9  ...                11         0        40\n",
              "162467  1306929   66          14  ...                10         0        60\n",
              "79663   9474065   73          11  ...                11         0        70\n",
              "171627  4657522   59           9  ...                13         0        50\n",
              "\n",
              "[126000 rows x 12 columns]"
            ]
          },
          "metadata": {},
          "execution_count": 15
        }
      ]
    },
    {
      "cell_type": "markdown",
      "metadata": {
        "id": "nkQAmUOnyyNJ"
      },
      "source": [
        "# 4)\n"
      ]
    },
    {
      "cell_type": "code",
      "metadata": {
        "id": "n9GerWF3yxwz"
      },
      "source": [
        "\n",
        "\n",
        "#테스트 데이터 나누기\n",
        "train_val, test = train_test_split(data, test_size=0.20, random_state=2)\n",
        "\n",
        "#검증 데이터 나누기\n",
        "train, val = train_test_split(train_val, test_size=0.20, random_state=2)\n",
        "\n",
        "X_train = train.drop(columns=target)\n",
        "y_train = train[target]\n",
        "\n",
        "X_val = val.drop(columns=target)\n",
        "y_val = val[target]\n",
        "\n",
        "X_test = test.drop(columns=target)\n",
        "y_test = test[target]"
      ],
      "execution_count": 16,
      "outputs": []
    },
    {
      "cell_type": "code",
      "metadata": {
        "colab": {
          "base_uri": "https://localhost:8080/",
          "height": 456
        },
        "id": "zqkzGLTChJhW",
        "outputId": "5883b02d-b698-47e0-d55e-594ce3f6c81c"
      },
      "source": [
        "X_train"
      ],
      "execution_count": 17,
      "outputs": [
        {
          "output_type": "execute_result",
          "data": {
            "text/html": [
              "<div>\n",
              "<style scoped>\n",
              "    .dataframe tbody tr th:only-of-type {\n",
              "        vertical-align: middle;\n",
              "    }\n",
              "\n",
              "    .dataframe tbody tr th {\n",
              "        vertical-align: top;\n",
              "    }\n",
              "\n",
              "    .dataframe thead th {\n",
              "        text-align: right;\n",
              "    }\n",
              "</style>\n",
              "<table border=\"1\" class=\"dataframe\">\n",
              "  <thead>\n",
              "    <tr style=\"text-align: right;\">\n",
              "      <th></th>\n",
              "      <th>Income</th>\n",
              "      <th>Age</th>\n",
              "      <th>Experience</th>\n",
              "      <th>Married/Single</th>\n",
              "      <th>House_Ownership</th>\n",
              "      <th>Car_Ownership</th>\n",
              "      <th>Profession</th>\n",
              "      <th>STATE</th>\n",
              "      <th>CURRENT_JOB_YRS</th>\n",
              "      <th>CURRENT_HOUSE_YRS</th>\n",
              "      <th>Age Group</th>\n",
              "    </tr>\n",
              "  </thead>\n",
              "  <tbody>\n",
              "    <tr>\n",
              "      <th>36569</th>\n",
              "      <td>3625101</td>\n",
              "      <td>28</td>\n",
              "      <td>5</td>\n",
              "      <td>single</td>\n",
              "      <td>rented</td>\n",
              "      <td>no</td>\n",
              "      <td>Comedian</td>\n",
              "      <td>West_Bengal</td>\n",
              "      <td>5</td>\n",
              "      <td>10</td>\n",
              "      <td>20</td>\n",
              "    </tr>\n",
              "    <tr>\n",
              "      <th>127959</th>\n",
              "      <td>2770155</td>\n",
              "      <td>64</td>\n",
              "      <td>9</td>\n",
              "      <td>single</td>\n",
              "      <td>rented</td>\n",
              "      <td>yes</td>\n",
              "      <td>Chartered_Accountant</td>\n",
              "      <td>Uttar_Pradesh</td>\n",
              "      <td>9</td>\n",
              "      <td>10</td>\n",
              "      <td>60</td>\n",
              "    </tr>\n",
              "    <tr>\n",
              "      <th>175736</th>\n",
              "      <td>9605093</td>\n",
              "      <td>25</td>\n",
              "      <td>7</td>\n",
              "      <td>single</td>\n",
              "      <td>rented</td>\n",
              "      <td>no</td>\n",
              "      <td>Librarian</td>\n",
              "      <td>Manipur</td>\n",
              "      <td>7</td>\n",
              "      <td>12</td>\n",
              "      <td>20</td>\n",
              "    </tr>\n",
              "    <tr>\n",
              "      <th>136767</th>\n",
              "      <td>3248934</td>\n",
              "      <td>40</td>\n",
              "      <td>10</td>\n",
              "      <td>single</td>\n",
              "      <td>rented</td>\n",
              "      <td>no</td>\n",
              "      <td>Computer_hardware_engineer</td>\n",
              "      <td>West_Bengal</td>\n",
              "      <td>10</td>\n",
              "      <td>12</td>\n",
              "      <td>40</td>\n",
              "    </tr>\n",
              "    <tr>\n",
              "      <th>154802</th>\n",
              "      <td>1591827</td>\n",
              "      <td>21</td>\n",
              "      <td>13</td>\n",
              "      <td>single</td>\n",
              "      <td>norent_noown</td>\n",
              "      <td>no</td>\n",
              "      <td>Web_designer</td>\n",
              "      <td>Delhi</td>\n",
              "      <td>4</td>\n",
              "      <td>12</td>\n",
              "      <td>20</td>\n",
              "    </tr>\n",
              "    <tr>\n",
              "      <th>...</th>\n",
              "      <td>...</td>\n",
              "      <td>...</td>\n",
              "      <td>...</td>\n",
              "      <td>...</td>\n",
              "      <td>...</td>\n",
              "      <td>...</td>\n",
              "      <td>...</td>\n",
              "      <td>...</td>\n",
              "      <td>...</td>\n",
              "      <td>...</td>\n",
              "      <td>...</td>\n",
              "    </tr>\n",
              "    <tr>\n",
              "      <th>245174</th>\n",
              "      <td>9457317</td>\n",
              "      <td>38</td>\n",
              "      <td>12</td>\n",
              "      <td>single</td>\n",
              "      <td>rented</td>\n",
              "      <td>no</td>\n",
              "      <td>Hotel_Manager</td>\n",
              "      <td>Maharashtra</td>\n",
              "      <td>9</td>\n",
              "      <td>14</td>\n",
              "      <td>30</td>\n",
              "    </tr>\n",
              "    <tr>\n",
              "      <th>215683</th>\n",
              "      <td>4753619</td>\n",
              "      <td>56</td>\n",
              "      <td>2</td>\n",
              "      <td>single</td>\n",
              "      <td>rented</td>\n",
              "      <td>no</td>\n",
              "      <td>Graphic_Designer</td>\n",
              "      <td>Andhra_Pradesh</td>\n",
              "      <td>2</td>\n",
              "      <td>12</td>\n",
              "      <td>50</td>\n",
              "    </tr>\n",
              "    <tr>\n",
              "      <th>58647</th>\n",
              "      <td>6147575</td>\n",
              "      <td>41</td>\n",
              "      <td>15</td>\n",
              "      <td>single</td>\n",
              "      <td>rented</td>\n",
              "      <td>yes</td>\n",
              "      <td>Hotel_Manager</td>\n",
              "      <td>West_Bengal</td>\n",
              "      <td>4</td>\n",
              "      <td>12</td>\n",
              "      <td>40</td>\n",
              "    </tr>\n",
              "    <tr>\n",
              "      <th>155376</th>\n",
              "      <td>9028969</td>\n",
              "      <td>62</td>\n",
              "      <td>19</td>\n",
              "      <td>single</td>\n",
              "      <td>rented</td>\n",
              "      <td>yes</td>\n",
              "      <td>Industrial_Engineer</td>\n",
              "      <td>Tamil_Nadu</td>\n",
              "      <td>4</td>\n",
              "      <td>10</td>\n",
              "      <td>60</td>\n",
              "    </tr>\n",
              "    <tr>\n",
              "      <th>13553</th>\n",
              "      <td>9297948</td>\n",
              "      <td>33</td>\n",
              "      <td>11</td>\n",
              "      <td>single</td>\n",
              "      <td>rented</td>\n",
              "      <td>yes</td>\n",
              "      <td>Technician</td>\n",
              "      <td>Bihar</td>\n",
              "      <td>8</td>\n",
              "      <td>11</td>\n",
              "      <td>30</td>\n",
              "    </tr>\n",
              "  </tbody>\n",
              "</table>\n",
              "<p>80640 rows × 11 columns</p>\n",
              "</div>"
            ],
            "text/plain": [
              "         Income  Age  Experience  ... CURRENT_JOB_YRS CURRENT_HOUSE_YRS Age Group\n",
              "36569   3625101   28           5  ...               5                10        20\n",
              "127959  2770155   64           9  ...               9                10        60\n",
              "175736  9605093   25           7  ...               7                12        20\n",
              "136767  3248934   40          10  ...              10                12        40\n",
              "154802  1591827   21          13  ...               4                12        20\n",
              "...         ...  ...         ...  ...             ...               ...       ...\n",
              "245174  9457317   38          12  ...               9                14        30\n",
              "215683  4753619   56           2  ...               2                12        50\n",
              "58647   6147575   41          15  ...               4                12        40\n",
              "155376  9028969   62          19  ...               4                10        60\n",
              "13553   9297948   33          11  ...               8                11        30\n",
              "\n",
              "[80640 rows x 11 columns]"
            ]
          },
          "metadata": {},
          "execution_count": 17
        }
      ]
    },
    {
      "cell_type": "code",
      "metadata": {
        "colab": {
          "base_uri": "https://localhost:8080/"
        },
        "id": "aNErzcszhaNA",
        "outputId": "f43e52c8-7490-447c-9f53-cefb500bed6c"
      },
      "source": [
        "\n",
        "###baseline model\n",
        "major = y_train.mode()[0]\n",
        "\n",
        "#타겟 샘플 수 만큼 0이 담긴 리스트\n",
        "y_pred_base_train = [major] * len(y_train)\n",
        "y_pred_base_val = [major] * len(y_val)\n",
        "\n",
        "\n",
        "#기준모델 accuracy score\n",
        "print(\"training accuracy_score: \", accuracy_score(y_train, y_pred_base_train))\n",
        "print(\"validation accuracy_score: \", accuracy_score(y_val, y_pred_base_val))\n",
        "\n",
        "#기준모델 f1 score\n",
        "print(\"training f1_score: \", f1_score(y_train, y_pred_base_train))\n",
        "print(\"validation f1_score: \", f1_score(y_val, y_pred_base_val))\n"
      ],
      "execution_count": 18,
      "outputs": [
        {
          "output_type": "stream",
          "name": "stdout",
          "text": [
            "training accuracy_score:  0.8777777777777778\n",
            "validation accuracy_score:  0.8779761904761905\n",
            "training f1_score:  0.0\n",
            "validation f1_score:  0.0\n"
          ]
        }
      ]
    },
    {
      "cell_type": "markdown",
      "metadata": {
        "id": "l4uWa9BvisTB"
      },
      "source": [
        "- 클래스 불균형이 심하기 때문에 accuracy score는 높지만 f1 score는 0.0이 나왔다.\n",
        "- 위 모델을 베이스라인 모델로 선정하는 것은 타당하지 않아보인다.\n",
        "- 기본적인 하이퍼파라미터를 조정한 모델을 베이스라인 모델로 선정하는 것이 타당해 보인다."
      ]
    },
    {
      "cell_type": "markdown",
      "metadata": {
        "id": "FXESYQtrlgv3"
      },
      "source": [
        "\n",
        "\n",
        "---\n",
        "\n"
      ]
    },
    {
      "cell_type": "code",
      "metadata": {
        "id": "OP8ZG3vWCapZ"
      },
      "source": [
        "##기본모델"
      ],
      "execution_count": null,
      "outputs": []
    },
    {
      "cell_type": "code",
      "metadata": {
        "colab": {
          "base_uri": "https://localhost:8080/"
        },
        "id": "VGBw3HvEjqys",
        "outputId": "257834b9-ba50-4a82-9a6f-a1c340df1341"
      },
      "source": [
        "##기본 모델 1(random forest)\n",
        "pipe1 = make_pipeline(OrdinalEncoder(),\n",
        "                      RandomForestClassifier(random_state=2, class_weight='balanced'))#가중치 조절\n",
        "\n",
        "pipe1.fit(X_train, y_train)"
      ],
      "execution_count": 19,
      "outputs": [
        {
          "output_type": "execute_result",
          "data": {
            "text/plain": [
              "Pipeline(memory=None,\n",
              "         steps=[('ordinalencoder',\n",
              "                 OrdinalEncoder(cols=['Married/Single', 'House_Ownership',\n",
              "                                      'Car_Ownership', 'Profession', 'STATE',\n",
              "                                      'Age Group'],\n",
              "                                drop_invariant=False, handle_missing='value',\n",
              "                                handle_unknown='value',\n",
              "                                mapping=[{'col': 'Married/Single',\n",
              "                                          'data_type': dtype('O'),\n",
              "                                          'mapping': single     1\n",
              "married    2\n",
              "NaN       -2\n",
              "dtype: int64},\n",
              "                                         {'col': 'House_Ownership',\n",
              "                                          'data_ty...\n",
              "                 RandomForestClassifier(bootstrap=True, ccp_alpha=0.0,\n",
              "                                        class_weight='balanced',\n",
              "                                        criterion='gini', max_depth=None,\n",
              "                                        max_features='auto',\n",
              "                                        max_leaf_nodes=None, max_samples=None,\n",
              "                                        min_impurity_decrease=0.0,\n",
              "                                        min_impurity_split=None,\n",
              "                                        min_samples_leaf=1, min_samples_split=2,\n",
              "                                        min_weight_fraction_leaf=0.0,\n",
              "                                        n_estimators=100, n_jobs=None,\n",
              "                                        oob_score=False, random_state=2,\n",
              "                                        verbose=0, warm_start=False))],\n",
              "         verbose=False)"
            ]
          },
          "metadata": {},
          "execution_count": 19
        }
      ]
    },
    {
      "cell_type": "code",
      "metadata": {
        "colab": {
          "base_uri": "https://localhost:8080/"
        },
        "id": "-2JI5OOllMs9",
        "outputId": "4fbe7965-48ef-4086-f5a7-8cf23c0c7e7c"
      },
      "source": [
        "#기본 모델1 결과\n",
        "y_pred1 = pipe1.predict(X_val)\n",
        "\n",
        "print('\\n <validation 정확도> \\n', accuracy_score(y_val, y_pred1))\n",
        "\n",
        "print(\"\\n <classification_report> \\n \", classification_report(y_pred1, y_val))\n",
        "\n",
        "print(\"\\n <f1 score> \\n \", f1_score(y_pred1, y_val))"
      ],
      "execution_count": 20,
      "outputs": [
        {
          "output_type": "stream",
          "name": "stdout",
          "text": [
            "\n",
            " <validation 정확도> \n",
            " 0.8936011904761905\n",
            "\n",
            " <classification_report> \n",
            "                precision    recall  f1-score   support\n",
            "\n",
            "           0       0.91      0.96      0.94     16803\n",
            "           1       0.75      0.55      0.63      3357\n",
            "\n",
            "    accuracy                           0.89     20160\n",
            "   macro avg       0.83      0.75      0.78     20160\n",
            "weighted avg       0.89      0.89      0.89     20160\n",
            "\n",
            "\n",
            " <f1 score> \n",
            "  0.631253223310985\n"
          ]
        }
      ]
    },
    {
      "cell_type": "code",
      "metadata": {
        "colab": {
          "base_uri": "https://localhost:8080/"
        },
        "id": "i38Y9Nx_qtgE",
        "outputId": "146105c2-1340-4ec1-da46-d2c015dd6670"
      },
      "source": [
        "##기본 모델2(xgboost)\n",
        "\n",
        "vc = y_train.value_counts().tolist()\n",
        "vc"
      ],
      "execution_count": 21,
      "outputs": [
        {
          "output_type": "execute_result",
          "data": {
            "text/plain": [
              "[70784, 9856]"
            ]
          },
          "metadata": {},
          "execution_count": 21
        }
      ]
    },
    {
      "cell_type": "code",
      "metadata": {
        "colab": {
          "base_uri": "https://localhost:8080/"
        },
        "id": "WlE1yCCLq4uv",
        "outputId": "7f2533a1-4988-4aa1-8910-88892e53e99f"
      },
      "source": [
        "#클래스 불균형 비율\n",
        "ratio = float(vc[0]/vc[1])\n",
        "ratio"
      ],
      "execution_count": 22,
      "outputs": [
        {
          "output_type": "execute_result",
          "data": {
            "text/plain": [
              "7.181818181818182"
            ]
          },
          "metadata": {},
          "execution_count": 22
        }
      ]
    },
    {
      "cell_type": "code",
      "metadata": {
        "id": "ZeI9MxRzmpLV"
      },
      "source": [
        "##기본 모델2(xgboost)\n",
        "pipe2 = make_pipeline(OrdinalEncoder(), XGBClassifier(random_state=2, scale_pos_weight = ratio))\n",
        "\n",
        "pipe2.fit(X_train, y_train);"
      ],
      "execution_count": 23,
      "outputs": []
    },
    {
      "cell_type": "code",
      "metadata": {
        "colab": {
          "base_uri": "https://localhost:8080/"
        },
        "id": "voqYQxGirA-M",
        "outputId": "a1f440d4-c6dd-459e-d320-1b3a37eec954"
      },
      "source": [
        "#기본 모델2 결과\n",
        "y_pred2 = pipe2.predict(X_val)\n",
        "\n",
        "print('\\n <validation 정확도> \\n', accuracy_score(y_val, y_pred2))\n",
        "\n",
        "print(\"\\n <classification_report> \\n \", classification_report(y_pred2, y_val))\n",
        "\n",
        "print(\"\\n <f1 score> \\n \", f1_score(y_pred2, y_val))"
      ],
      "execution_count": 24,
      "outputs": [
        {
          "output_type": "stream",
          "name": "stdout",
          "text": [
            "\n",
            " <validation 정확도> \n",
            " 0.6277777777777778\n",
            "\n",
            " <classification_report> \n",
            "                precision    recall  f1-score   support\n",
            "\n",
            "           0       0.64      0.91      0.75     12404\n",
            "           1       0.55      0.17      0.27      7756\n",
            "\n",
            "    accuracy                           0.63     20160\n",
            "   macro avg       0.59      0.54      0.51     20160\n",
            "weighted avg       0.60      0.63      0.56     20160\n",
            "\n",
            "\n",
            " <f1 score> \n",
            "  0.2654659357870008\n"
          ]
        }
      ]
    },
    {
      "cell_type": "markdown",
      "metadata": {
        "id": "AmdIPd-z3eEl"
      },
      "source": [
        "- 기본적이 하이퍼파라미터만 조정했을 때, Gradient boosting(0.265)보다는 Random Forest(0.631)가 더 성능이 좋다."
      ]
    },
    {
      "cell_type": "code",
      "metadata": {
        "id": "HvyGH_kD4hcH"
      },
      "source": [
        "##간단한 하이퍼파라미터 조정"
      ],
      "execution_count": null,
      "outputs": []
    },
    {
      "cell_type": "code",
      "metadata": {
        "id": "75NaG6Ym9hmd",
        "colab": {
          "base_uri": "https://localhost:8080/"
        },
        "outputId": "526ffd8f-6b59-4883-b963-0be063210bc7"
      },
      "source": [
        "##모델 1(n_estimators=100)\n",
        "model1 = make_pipeline(OrdinalEncoder(),\n",
        "                      RandomForestClassifier(random_state=2, \n",
        "                                             class_weight='balanced',\n",
        "                                             n_estimators=100,\n",
        "                                             n_jobs=-1))\n",
        "\n",
        "model1.fit(X_train, y_train)"
      ],
      "execution_count": 25,
      "outputs": [
        {
          "output_type": "execute_result",
          "data": {
            "text/plain": [
              "Pipeline(memory=None,\n",
              "         steps=[('ordinalencoder',\n",
              "                 OrdinalEncoder(cols=['Married/Single', 'House_Ownership',\n",
              "                                      'Car_Ownership', 'Profession', 'STATE',\n",
              "                                      'Age Group'],\n",
              "                                drop_invariant=False, handle_missing='value',\n",
              "                                handle_unknown='value',\n",
              "                                mapping=[{'col': 'Married/Single',\n",
              "                                          'data_type': dtype('O'),\n",
              "                                          'mapping': single     1\n",
              "married    2\n",
              "NaN       -2\n",
              "dtype: int64},\n",
              "                                         {'col': 'House_Ownership',\n",
              "                                          'data_ty...\n",
              "                 RandomForestClassifier(bootstrap=True, ccp_alpha=0.0,\n",
              "                                        class_weight='balanced',\n",
              "                                        criterion='gini', max_depth=None,\n",
              "                                        max_features='auto',\n",
              "                                        max_leaf_nodes=None, max_samples=None,\n",
              "                                        min_impurity_decrease=0.0,\n",
              "                                        min_impurity_split=None,\n",
              "                                        min_samples_leaf=1, min_samples_split=2,\n",
              "                                        min_weight_fraction_leaf=0.0,\n",
              "                                        n_estimators=100, n_jobs=-1,\n",
              "                                        oob_score=False, random_state=2,\n",
              "                                        verbose=0, warm_start=False))],\n",
              "         verbose=False)"
            ]
          },
          "metadata": {},
          "execution_count": 25
        }
      ]
    },
    {
      "cell_type": "code",
      "metadata": {
        "colab": {
          "base_uri": "https://localhost:8080/"
        },
        "id": "zwsOulac-KPD",
        "outputId": "e22d2417-5ac2-4bb9-fe38-62c82873d13a"
      },
      "source": [
        "#모델1 결과\n",
        "y_pred_m1 = model1.predict(X_val)\n",
        "\n",
        "print('\\n <validation 정확도> \\n', accuracy_score(y_val, y_pred_m1))\n",
        "\n",
        "print(\"\\n <classification_report> \\n \", classification_report(y_pred_m1, y_val))\n",
        "\n",
        "print(\"\\n <f1 score> \\n \", f1_score(y_pred_m1, y_val))"
      ],
      "execution_count": 26,
      "outputs": [
        {
          "output_type": "stream",
          "name": "stdout",
          "text": [
            "\n",
            " <validation 정확도> \n",
            " 0.8936011904761905\n",
            "\n",
            " <classification_report> \n",
            "                precision    recall  f1-score   support\n",
            "\n",
            "           0       0.91      0.96      0.94     16803\n",
            "           1       0.75      0.55      0.63      3357\n",
            "\n",
            "    accuracy                           0.89     20160\n",
            "   macro avg       0.83      0.75      0.78     20160\n",
            "weighted avg       0.89      0.89      0.89     20160\n",
            "\n",
            "\n",
            " <f1 score> \n",
            "  0.631253223310985\n"
          ]
        }
      ]
    },
    {
      "cell_type": "code",
      "metadata": {
        "id": "BqyoIKJHAk_n",
        "colab": {
          "base_uri": "https://localhost:8080/"
        },
        "outputId": "73740912-3557-42b8-8907-cef01e387f80"
      },
      "source": [
        "##모델 2(max_depth=20으로 조정)\n",
        "model2 = make_pipeline(OrdinalEncoder(),\n",
        "                      RandomForestClassifier(random_state=2, \n",
        "                                             class_weight='balanced',\n",
        "                                             max_depth=20))\n",
        "\n",
        "model2.fit(X_train, y_train)"
      ],
      "execution_count": 27,
      "outputs": [
        {
          "output_type": "execute_result",
          "data": {
            "text/plain": [
              "Pipeline(memory=None,\n",
              "         steps=[('ordinalencoder',\n",
              "                 OrdinalEncoder(cols=['Married/Single', 'House_Ownership',\n",
              "                                      'Car_Ownership', 'Profession', 'STATE',\n",
              "                                      'Age Group'],\n",
              "                                drop_invariant=False, handle_missing='value',\n",
              "                                handle_unknown='value',\n",
              "                                mapping=[{'col': 'Married/Single',\n",
              "                                          'data_type': dtype('O'),\n",
              "                                          'mapping': single     1\n",
              "married    2\n",
              "NaN       -2\n",
              "dtype: int64},\n",
              "                                         {'col': 'House_Ownership',\n",
              "                                          'data_ty...\n",
              "                 RandomForestClassifier(bootstrap=True, ccp_alpha=0.0,\n",
              "                                        class_weight='balanced',\n",
              "                                        criterion='gini', max_depth=20,\n",
              "                                        max_features='auto',\n",
              "                                        max_leaf_nodes=None, max_samples=None,\n",
              "                                        min_impurity_decrease=0.0,\n",
              "                                        min_impurity_split=None,\n",
              "                                        min_samples_leaf=1, min_samples_split=2,\n",
              "                                        min_weight_fraction_leaf=0.0,\n",
              "                                        n_estimators=100, n_jobs=None,\n",
              "                                        oob_score=False, random_state=2,\n",
              "                                        verbose=0, warm_start=False))],\n",
              "         verbose=False)"
            ]
          },
          "metadata": {},
          "execution_count": 27
        }
      ]
    },
    {
      "cell_type": "code",
      "metadata": {
        "colab": {
          "base_uri": "https://localhost:8080/"
        },
        "id": "YlrvsGwVArh8",
        "outputId": "a3457191-5f86-4b5d-842d-45dec17d0bb0"
      },
      "source": [
        "#모델2 결과\n",
        "y_pred_m2 = model2.predict(X_val)\n",
        "\n",
        "print('\\n <validation 정확도> \\n', accuracy_score(y_val, y_pred_m2))\n",
        "\n",
        "print(\"\\n <classification_report> \\n \", classification_report(y_pred_m2, y_val))\n",
        "\n",
        "print(\"\\n <f1 score> \\n \", f1_score(y_pred_m2, y_val))"
      ],
      "execution_count": 28,
      "outputs": [
        {
          "output_type": "stream",
          "name": "stdout",
          "text": [
            "\n",
            " <validation 정확도> \n",
            " 0.8928075396825397\n",
            "\n",
            " <classification_report> \n",
            "                precision    recall  f1-score   support\n",
            "\n",
            "           0       0.91      0.96      0.94     16805\n",
            "           1       0.74      0.54      0.63      3355\n",
            "\n",
            "    accuracy                           0.89     20160\n",
            "   macro avg       0.83      0.75      0.78     20160\n",
            "weighted avg       0.89      0.89      0.89     20160\n",
            "\n",
            "\n",
            " <f1 score> \n",
            "  0.6283748925193464\n"
          ]
        }
      ]
    },
    {
      "cell_type": "code",
      "metadata": {
        "id": "wuH_3BjlDIco",
        "colab": {
          "base_uri": "https://localhost:8080/"
        },
        "outputId": "12ec84c0-1b51-4078-9090-b36433cdc7db"
      },
      "source": [
        "##모델 3(min_samples_leaf=18로 조정)\n",
        "model3 = make_pipeline(OrdinalEncoder(),\n",
        "                      RandomForestClassifier(random_state=2, \n",
        "                                             class_weight='balanced',\n",
        "                                             min_samples_leaf=18))\n",
        "\n",
        "model3.fit(X_train, y_train)"
      ],
      "execution_count": 29,
      "outputs": [
        {
          "output_type": "execute_result",
          "data": {
            "text/plain": [
              "Pipeline(memory=None,\n",
              "         steps=[('ordinalencoder',\n",
              "                 OrdinalEncoder(cols=['Married/Single', 'House_Ownership',\n",
              "                                      'Car_Ownership', 'Profession', 'STATE',\n",
              "                                      'Age Group'],\n",
              "                                drop_invariant=False, handle_missing='value',\n",
              "                                handle_unknown='value',\n",
              "                                mapping=[{'col': 'Married/Single',\n",
              "                                          'data_type': dtype('O'),\n",
              "                                          'mapping': single     1\n",
              "married    2\n",
              "NaN       -2\n",
              "dtype: int64},\n",
              "                                         {'col': 'House_Ownership',\n",
              "                                          'data_ty...\n",
              "                 RandomForestClassifier(bootstrap=True, ccp_alpha=0.0,\n",
              "                                        class_weight='balanced',\n",
              "                                        criterion='gini', max_depth=None,\n",
              "                                        max_features='auto',\n",
              "                                        max_leaf_nodes=None, max_samples=None,\n",
              "                                        min_impurity_decrease=0.0,\n",
              "                                        min_impurity_split=None,\n",
              "                                        min_samples_leaf=18,\n",
              "                                        min_samples_split=2,\n",
              "                                        min_weight_fraction_leaf=0.0,\n",
              "                                        n_estimators=100, n_jobs=None,\n",
              "                                        oob_score=False, random_state=2,\n",
              "                                        verbose=0, warm_start=False))],\n",
              "         verbose=False)"
            ]
          },
          "metadata": {},
          "execution_count": 29
        }
      ]
    },
    {
      "cell_type": "code",
      "metadata": {
        "colab": {
          "base_uri": "https://localhost:8080/"
        },
        "id": "R__oPbIMDeZq",
        "outputId": "8a96cbda-291e-4781-cbc2-e6e3167c901d"
      },
      "source": [
        "#모델3 결과\n",
        "y_pred_m3 = model3.predict(X_val)\n",
        "\n",
        "print(\"\\n <classification_report> \\n \", classification_report(y_pred_m3, y_val))\n",
        "\n",
        "print(\"\\n <f1 score> \\n \", f1_score(y_pred_m3, y_val))"
      ],
      "execution_count": 31,
      "outputs": [
        {
          "output_type": "stream",
          "name": "stdout",
          "text": [
            "\n",
            " <classification_report> \n",
            "                precision    recall  f1-score   support\n",
            "\n",
            "           0       0.91      0.96      0.93     16670\n",
            "           1       0.75      0.53      0.62      3490\n",
            "\n",
            "    accuracy                           0.89     20160\n",
            "   macro avg       0.83      0.75      0.78     20160\n",
            "weighted avg       0.88      0.89      0.88     20160\n",
            "\n",
            "\n",
            " <f1 score> \n",
            "  0.6211764705882352\n"
          ]
        }
      ]
    },
    {
      "cell_type": "markdown",
      "metadata": {
        "id": "64elJR1YIS6t"
      },
      "source": [
        "- random forest의 경우, 하이퍼파라미터를 하나씩 조정해봤다.\n",
        "  - 모델 1(n_estimators=100으로 조정) : 0.631\n",
        "  - 모델 2(max_depth=20으로 조정) : 0.628\n",
        "  - 모델 3(min_samples_leaf=18로 조정) : 0.621\n",
        "- 그 결과값을 보니, 기본 모델(0.631)과 큰 차이는 없다.\n",
        "- randomized search cv를 해볼 예정이지만 성능에 큰 변화가 있을것으로 기대되진 않는다."
      ]
    },
    {
      "cell_type": "code",
      "metadata": {
        "id": "vFrcEkIEHjO-"
      },
      "source": [
        "#모델4(xgboost)\n",
        "#하이퍼파라미터를 조정해보니 성능이 많이 올라 살펴보기로 결정\n",
        "model4 = make_pipeline(OrdinalEncoder(), XGBClassifier(random_state=2, scale_pos_weight = ratio,\n",
        "                                                      n_jobs=-1, max_depth=7, \n",
        "                                                       n_estimators=1000, learning_rate=0.3))\n",
        "\n",
        "model4.fit(X_train, y_train);"
      ],
      "execution_count": 32,
      "outputs": []
    },
    {
      "cell_type": "code",
      "metadata": {
        "id": "ucrvpxa9HojO",
        "colab": {
          "base_uri": "https://localhost:8080/"
        },
        "outputId": "43e1cbd3-2029-40f2-a40c-35bf0e6cc724"
      },
      "source": [
        "#기본 모델4 결과\n",
        "y_pred4 = model4.predict(X_val)\n",
        "\n",
        "print('\\n <validation 정확도> \\n', accuracy_score(y_val, y_pred4))\n",
        "\n",
        "print(\"\\n <classification_report> \\n \", classification_report(y_pred4, y_val))\n",
        "\n",
        "print(\"\\n <f1 score> \\n \", f1_score(y_pred4, y_val))"
      ],
      "execution_count": 33,
      "outputs": [
        {
          "output_type": "stream",
          "name": "stdout",
          "text": [
            "\n",
            " <validation 정확도> \n",
            " 0.8882936507936507\n",
            "\n",
            " <classification_report> \n",
            "                precision    recall  f1-score   support\n",
            "\n",
            "           0       0.90      0.97      0.93     16584\n",
            "           1       0.77      0.53      0.63      3576\n",
            "\n",
            "    accuracy                           0.89     20160\n",
            "   macro avg       0.84      0.75      0.78     20160\n",
            "weighted avg       0.88      0.89      0.88     20160\n",
            "\n",
            "\n",
            " <f1 score> \n",
            "  0.6269052352551359\n"
          ]
        }
      ]
    },
    {
      "cell_type": "markdown",
      "metadata": {
        "id": "j8YgnjTAIk8Y"
      },
      "source": [
        "- 반면, xgboost의 경우 하이퍼파라미터의 조정으로 성능에 큰 차이가 있었다.\n",
        "  - 기본모델: 0.265\n",
        "  - 모델4 :  0.626"
      ]
    },
    {
      "cell_type": "markdown",
      "metadata": {
        "id": "98Y7QzJ7I8GZ"
      },
      "source": [
        "\n",
        "\n",
        "---\n",
        "\n",
        "\n"
      ]
    },
    {
      "cell_type": "code",
      "metadata": {
        "id": "BLhlkoB7I9zI"
      },
      "source": [
        "##randomizedsearch cv"
      ],
      "execution_count": null,
      "outputs": []
    },
    {
      "cell_type": "code",
      "metadata": {
        "id": "bm28jfeyPd-r"
      },
      "source": [
        "\n",
        "\n",
        "#randomforest randomizedsearch cv\n",
        "\n",
        "model_randf = make_pipeline(\n",
        "    OrdinalEncoder(),\n",
        "    RandomForestClassifier(random_state=2, class_weight='balanced')\n",
        ")\n",
        "\n",
        "param_randf = {\n",
        "    'randomforestclassifier__max_depth': [5, 10, 15, 20, None],\n",
        "    'randomforestclassifier__n_estimators': [50, 100, 1000],\n",
        "    'randomforestclassifier__min_samples_split': [8, 12, 16, 20, None],\n",
        "}\n",
        "\n",
        "clf_randf = RandomizedSearchCV(\n",
        "    model_randf,\n",
        "    param_distributions=param_randf,\n",
        "    n_iter=50,\n",
        "    cv=8,\n",
        "    scoring='f1',\n",
        "    verbose=1,\n",
        "    n_jobs=-1\n",
        ")\n",
        "\n",
        "clf_randf.fit(X_train, y_train);\n",
        "\n",
        "## Import up sound alert dependencies\n",
        "from IPython.display import Audio, display\n",
        "\n",
        "def allDone():\n",
        "  display(Audio(url='https://freesound.org/data/previews/219/219244_4082826-lq.mp3', autoplay=True))\n",
        "## Insert whatever audio file you want above\n",
        "allDone()\n",
        "\n",
        "\n",
        "#####최적 하이퍼파라미터:  {'randomforestclassifier__n_estimators': 1000, \n",
        "#####              'randomforestclassifier__min_samples_split': 8, \n",
        "#####              'randomforestclassifier__max_depth': None}\n",
        "##### 시간 부족해서 다시 못실행함"
      ],
      "execution_count": null,
      "outputs": []
    },
    {
      "cell_type": "code",
      "metadata": {
        "id": "9kpJ3MCf6dJ9"
      },
      "source": [
        "print('최적 하이퍼파라미터: ', clf_randf.best_params_)\n",
        "print('f1: ', clf_randf.best_score_)"
      ],
      "execution_count": null,
      "outputs": []
    },
    {
      "cell_type": "code",
      "metadata": {
        "colab": {
          "base_uri": "https://localhost:8080/"
        },
        "id": "XKQWUvgBFESy",
        "outputId": "3abe9133-712c-45db-8807-dabffc2648ed"
      },
      "source": [
        "# 최적 하이퍼파라미터로 학습 -> validation dataset score\n",
        "pipe = make_pipeline(\n",
        "    OrdinalEncoder(), \n",
        "    RandomForestClassifier(n_estimators=1000, \n",
        "                           random_state=2, \n",
        "                           class_weight='balanced',\n",
        "                           n_jobs=-1, \n",
        "                           min_samples_split=8))\n",
        "\n",
        "pipe .fit(X_train, y_train);\n",
        "\n",
        "y_pred_pipe = pipe.predict(X_val)\n",
        "f1_pipe = f1_score(y_val, y_pred_pipe)\n",
        "print(f'최적의 하이퍼 파라미터로 학습을 했을 때 검증세트 f1:{f1_pipe}')"
      ],
      "execution_count": 35,
      "outputs": [
        {
          "output_type": "stream",
          "name": "stdout",
          "text": [
            "최적의 하이퍼 파라미터로 학습을 했을 때 검증세트 f1:0.6304049416609471\n"
          ]
        }
      ]
    },
    {
      "cell_type": "code",
      "metadata": {
        "colab": {
          "base_uri": "https://localhost:8080/"
        },
        "id": "-iNSbIWN6yPm",
        "outputId": "109b81ba-b5a0-4173-be8e-3def0d4a485b"
      },
      "source": [
        "# 가장 최고의 모델로 학습 -> validation dataset score\n",
        "best_model_randf = make_pipeline(\n",
        "    OrdinalEncoder(), \n",
        "    RandomForestClassifier(n_estimators=100, \n",
        "                           random_state=2, \n",
        "                           class_weight='balanced',\n",
        "                           n_jobs=-1, \n",
        "                           min_samples_split=8))\n",
        "\n",
        "best_model_randf.fit(X_train, y_train);\n",
        "\n",
        "y_pred_randf = best_model_randf.predict(X_val)\n",
        "f1_randf = f1_score(y_val, y_pred_randf)\n",
        "print(f'최적의 하이퍼파라미터를 수정했을 때 검증세트 f1:{f1_randf}')"
      ],
      "execution_count": 36,
      "outputs": [
        {
          "output_type": "stream",
          "name": "stdout",
          "text": [
            "최적의 하이퍼파라미터를 수정했을 때 검증세트 f1:0.6320835473377847\n"
          ]
        }
      ]
    },
    {
      "cell_type": "markdown",
      "metadata": {
        "id": "xBhz2NAl9GGr"
      },
      "source": [
        "- Randomized search cv의 성능(0.630)보다 모델1의 성능(0.631)이 더 좋다.\n",
        "- Randomized search cv의 최적의 하이퍼파라미터 중 n_estimator만 모델1과 같게 수정한 후 성능을 봐보니, 수정한 모델의 성능이 더 좋게 나왔다.\n",
        "  - 모델1의 f1 score: 0.631\n",
        "  - 최적의 하이퍼파라미터 모델 f1 socre: 0.630\n",
        "  - 수정 후 f1 score: 0.632"
      ]
    },
    {
      "cell_type": "markdown",
      "metadata": {
        "id": "ddEB97q7glQw"
      },
      "source": [
        "\n",
        "\n",
        "---\n",
        "\n"
      ]
    },
    {
      "cell_type": "code",
      "metadata": {
        "id": "53TezcQpPW7-"
      },
      "source": [
        "#xgboost randomizedsearch cv"
      ],
      "execution_count": null,
      "outputs": []
    },
    {
      "cell_type": "code",
      "metadata": {
        "id": "6ugW6j4qJAmt",
        "colab": {
          "base_uri": "https://localhost:8080/"
        },
        "outputId": "7b701fc5-d363-46dc-8900-2b05a4fae984"
      },
      "source": [
        "#xgboost early stopping\n",
        "encoder = OrdinalEncoder()\n",
        "X_train_encoded = encoder.fit_transform(X_train)\n",
        "X_val_encoded = encoder.transform(X_val)\n",
        "\n",
        "model_xgb = XGBClassifier(random_state=2,\n",
        "                          scale_pos_weight = ratio,\n",
        "                          n_jobs=-1, \n",
        "                          max_depth=15, \n",
        "                          learning_rate=0.3,\n",
        "                          n_estimators= 1000)\n",
        "\n",
        "eval_set = [(X_train_encoded, y_train),\n",
        "            (X_val_encoded, y_val)]\n",
        "\n",
        "model_xgb.fit(X_train_encoded, y_train,\n",
        "              eval_set=eval_set,\n",
        "              eval_metric='error',\n",
        "              early_stopping_rounds=100)\n"
      ],
      "execution_count": 37,
      "outputs": [
        {
          "output_type": "stream",
          "name": "stdout",
          "text": [
            "[0]\tvalidation_0-error:0.192857\tvalidation_1-error:0.221825\n",
            "Multiple eval metrics have been passed: 'validation_1-error' will be used for early stopping.\n",
            "\n",
            "Will train until validation_1-error hasn't improved in 100 rounds.\n",
            "[1]\tvalidation_0-error:0.161992\tvalidation_1-error:0.193948\n",
            "[2]\tvalidation_0-error:0.121962\tvalidation_1-error:0.160317\n",
            "[3]\tvalidation_0-error:0.11529\tvalidation_1-error:0.153869\n",
            "[4]\tvalidation_0-error:0.109065\tvalidation_1-error:0.149058\n",
            "[5]\tvalidation_0-error:0.101625\tvalidation_1-error:0.142312\n",
            "[6]\tvalidation_0-error:0.095362\tvalidation_1-error:0.136409\n",
            "[7]\tvalidation_0-error:0.091381\tvalidation_1-error:0.131349\n",
            "[8]\tvalidation_0-error:0.086062\tvalidation_1-error:0.126687\n",
            "[9]\tvalidation_0-error:0.083209\tvalidation_1-error:0.123909\n",
            "[10]\tvalidation_0-error:0.081882\tvalidation_1-error:0.12252\n",
            "[11]\tvalidation_0-error:0.08027\tvalidation_1-error:0.121131\n",
            "[12]\tvalidation_0-error:0.079812\tvalidation_1-error:0.120982\n",
            "[13]\tvalidation_0-error:0.078745\tvalidation_1-error:0.11999\n",
            "[14]\tvalidation_0-error:0.077679\tvalidation_1-error:0.119444\n",
            "[15]\tvalidation_0-error:0.077071\tvalidation_1-error:0.11875\n",
            "[16]\tvalidation_0-error:0.076972\tvalidation_1-error:0.11875\n",
            "[17]\tvalidation_0-error:0.076376\tvalidation_1-error:0.118155\n",
            "[18]\tvalidation_0-error:0.07624\tvalidation_1-error:0.118105\n",
            "[19]\tvalidation_0-error:0.075632\tvalidation_1-error:0.117708\n",
            "[20]\tvalidation_0-error:0.075186\tvalidation_1-error:0.11756\n",
            "[21]\tvalidation_0-error:0.075136\tvalidation_1-error:0.117262\n",
            "[22]\tvalidation_0-error:0.074901\tvalidation_1-error:0.117262\n",
            "[23]\tvalidation_0-error:0.074864\tvalidation_1-error:0.11746\n",
            "[24]\tvalidation_0-error:0.074789\tvalidation_1-error:0.117212\n",
            "[25]\tvalidation_0-error:0.074839\tvalidation_1-error:0.116468\n",
            "[26]\tvalidation_0-error:0.074752\tvalidation_1-error:0.116567\n",
            "[27]\tvalidation_0-error:0.074405\tvalidation_1-error:0.115923\n",
            "[28]\tvalidation_0-error:0.074206\tvalidation_1-error:0.115575\n",
            "[29]\tvalidation_0-error:0.074206\tvalidation_1-error:0.115526\n",
            "[30]\tvalidation_0-error:0.074144\tvalidation_1-error:0.115476\n",
            "[31]\tvalidation_0-error:0.073934\tvalidation_1-error:0.11503\n",
            "[32]\tvalidation_0-error:0.073909\tvalidation_1-error:0.114831\n",
            "[33]\tvalidation_0-error:0.073822\tvalidation_1-error:0.114881\n",
            "[34]\tvalidation_0-error:0.07376\tvalidation_1-error:0.114484\n",
            "[35]\tvalidation_0-error:0.073686\tvalidation_1-error:0.114236\n",
            "[36]\tvalidation_0-error:0.073723\tvalidation_1-error:0.114187\n",
            "[37]\tvalidation_0-error:0.073537\tvalidation_1-error:0.113542\n",
            "[38]\tvalidation_0-error:0.073537\tvalidation_1-error:0.113591\n",
            "[39]\tvalidation_0-error:0.073524\tvalidation_1-error:0.11369\n",
            "[40]\tvalidation_0-error:0.073537\tvalidation_1-error:0.113343\n",
            "[41]\tvalidation_0-error:0.073524\tvalidation_1-error:0.113145\n",
            "[42]\tvalidation_0-error:0.073338\tvalidation_1-error:0.112649\n",
            "[43]\tvalidation_0-error:0.07345\tvalidation_1-error:0.112847\n",
            "[44]\tvalidation_0-error:0.07345\tvalidation_1-error:0.112897\n",
            "[45]\tvalidation_0-error:0.073524\tvalidation_1-error:0.112698\n",
            "[46]\tvalidation_0-error:0.073375\tvalidation_1-error:0.11245\n",
            "[47]\tvalidation_0-error:0.073375\tvalidation_1-error:0.112351\n",
            "[48]\tvalidation_0-error:0.073375\tvalidation_1-error:0.112153\n",
            "[49]\tvalidation_0-error:0.073301\tvalidation_1-error:0.112103\n",
            "[50]\tvalidation_0-error:0.073251\tvalidation_1-error:0.112252\n",
            "[51]\tvalidation_0-error:0.073251\tvalidation_1-error:0.112351\n",
            "[52]\tvalidation_0-error:0.073227\tvalidation_1-error:0.1125\n",
            "[53]\tvalidation_0-error:0.073363\tvalidation_1-error:0.112202\n",
            "[54]\tvalidation_0-error:0.073351\tvalidation_1-error:0.112202\n",
            "[55]\tvalidation_0-error:0.073165\tvalidation_1-error:0.111855\n",
            "[56]\tvalidation_0-error:0.073152\tvalidation_1-error:0.111706\n",
            "[57]\tvalidation_0-error:0.073301\tvalidation_1-error:0.111905\n",
            "[58]\tvalidation_0-error:0.073301\tvalidation_1-error:0.112054\n",
            "[59]\tvalidation_0-error:0.073301\tvalidation_1-error:0.111905\n",
            "[60]\tvalidation_0-error:0.073301\tvalidation_1-error:0.111806\n",
            "[61]\tvalidation_0-error:0.073301\tvalidation_1-error:0.111954\n",
            "[62]\tvalidation_0-error:0.073227\tvalidation_1-error:0.111806\n",
            "[63]\tvalidation_0-error:0.073301\tvalidation_1-error:0.111458\n",
            "[64]\tvalidation_0-error:0.073301\tvalidation_1-error:0.111558\n",
            "[65]\tvalidation_0-error:0.073301\tvalidation_1-error:0.111508\n",
            "[66]\tvalidation_0-error:0.073301\tvalidation_1-error:0.111359\n",
            "[67]\tvalidation_0-error:0.073301\tvalidation_1-error:0.111359\n",
            "[68]\tvalidation_0-error:0.073301\tvalidation_1-error:0.111409\n",
            "[69]\tvalidation_0-error:0.073375\tvalidation_1-error:0.11131\n",
            "[70]\tvalidation_0-error:0.073301\tvalidation_1-error:0.111409\n",
            "[71]\tvalidation_0-error:0.073375\tvalidation_1-error:0.11121\n",
            "[72]\tvalidation_0-error:0.073375\tvalidation_1-error:0.111111\n",
            "[73]\tvalidation_0-error:0.073375\tvalidation_1-error:0.11126\n",
            "[74]\tvalidation_0-error:0.073375\tvalidation_1-error:0.111012\n",
            "[75]\tvalidation_0-error:0.073375\tvalidation_1-error:0.110962\n",
            "[76]\tvalidation_0-error:0.073227\tvalidation_1-error:0.110764\n",
            "[77]\tvalidation_0-error:0.073227\tvalidation_1-error:0.110615\n",
            "[78]\tvalidation_0-error:0.073227\tvalidation_1-error:0.110665\n",
            "[79]\tvalidation_0-error:0.073227\tvalidation_1-error:0.110813\n",
            "[80]\tvalidation_0-error:0.073227\tvalidation_1-error:0.110665\n",
            "[81]\tvalidation_0-error:0.073227\tvalidation_1-error:0.110665\n",
            "[82]\tvalidation_0-error:0.073152\tvalidation_1-error:0.110714\n",
            "[83]\tvalidation_0-error:0.073289\tvalidation_1-error:0.110863\n",
            "[84]\tvalidation_0-error:0.073363\tvalidation_1-error:0.110714\n",
            "[85]\tvalidation_0-error:0.073363\tvalidation_1-error:0.110665\n",
            "[86]\tvalidation_0-error:0.073289\tvalidation_1-error:0.111062\n",
            "[87]\tvalidation_0-error:0.073289\tvalidation_1-error:0.111111\n",
            "[88]\tvalidation_0-error:0.073289\tvalidation_1-error:0.111062\n",
            "[89]\tvalidation_0-error:0.073363\tvalidation_1-error:0.110913\n",
            "[90]\tvalidation_0-error:0.073363\tvalidation_1-error:0.110913\n",
            "[91]\tvalidation_0-error:0.073363\tvalidation_1-error:0.111012\n",
            "[92]\tvalidation_0-error:0.073289\tvalidation_1-error:0.111161\n",
            "[93]\tvalidation_0-error:0.073289\tvalidation_1-error:0.110962\n",
            "[94]\tvalidation_0-error:0.073289\tvalidation_1-error:0.110962\n",
            "[95]\tvalidation_0-error:0.073363\tvalidation_1-error:0.110962\n",
            "[96]\tvalidation_0-error:0.073363\tvalidation_1-error:0.111012\n",
            "[97]\tvalidation_0-error:0.073289\tvalidation_1-error:0.111111\n",
            "[98]\tvalidation_0-error:0.073363\tvalidation_1-error:0.110913\n",
            "[99]\tvalidation_0-error:0.073363\tvalidation_1-error:0.111062\n",
            "[100]\tvalidation_0-error:0.073289\tvalidation_1-error:0.110962\n",
            "[101]\tvalidation_0-error:0.073214\tvalidation_1-error:0.111012\n",
            "[102]\tvalidation_0-error:0.073363\tvalidation_1-error:0.110714\n",
            "[103]\tvalidation_0-error:0.073363\tvalidation_1-error:0.110665\n",
            "[104]\tvalidation_0-error:0.073363\tvalidation_1-error:0.110665\n",
            "[105]\tvalidation_0-error:0.073363\tvalidation_1-error:0.110665\n",
            "[106]\tvalidation_0-error:0.073289\tvalidation_1-error:0.110863\n",
            "[107]\tvalidation_0-error:0.073289\tvalidation_1-error:0.110813\n",
            "[108]\tvalidation_0-error:0.073289\tvalidation_1-error:0.110764\n",
            "[109]\tvalidation_0-error:0.073289\tvalidation_1-error:0.110665\n",
            "[110]\tvalidation_0-error:0.073289\tvalidation_1-error:0.110665\n",
            "[111]\tvalidation_0-error:0.073289\tvalidation_1-error:0.110714\n",
            "[112]\tvalidation_0-error:0.073289\tvalidation_1-error:0.110615\n",
            "[113]\tvalidation_0-error:0.073214\tvalidation_1-error:0.110813\n",
            "[114]\tvalidation_0-error:0.073289\tvalidation_1-error:0.110665\n",
            "[115]\tvalidation_0-error:0.073289\tvalidation_1-error:0.110764\n",
            "[116]\tvalidation_0-error:0.073289\tvalidation_1-error:0.110913\n",
            "[117]\tvalidation_0-error:0.073289\tvalidation_1-error:0.110913\n",
            "[118]\tvalidation_0-error:0.073289\tvalidation_1-error:0.110863\n",
            "[119]\tvalidation_0-error:0.073289\tvalidation_1-error:0.110863\n",
            "[120]\tvalidation_0-error:0.073289\tvalidation_1-error:0.110863\n",
            "[121]\tvalidation_0-error:0.073214\tvalidation_1-error:0.110913\n",
            "[122]\tvalidation_0-error:0.073214\tvalidation_1-error:0.110863\n",
            "[123]\tvalidation_0-error:0.073214\tvalidation_1-error:0.110913\n",
            "[124]\tvalidation_0-error:0.073289\tvalidation_1-error:0.110764\n",
            "[125]\tvalidation_0-error:0.073289\tvalidation_1-error:0.110714\n",
            "[126]\tvalidation_0-error:0.073289\tvalidation_1-error:0.110615\n",
            "[127]\tvalidation_0-error:0.073289\tvalidation_1-error:0.110516\n",
            "[128]\tvalidation_0-error:0.073289\tvalidation_1-error:0.110565\n",
            "[129]\tvalidation_0-error:0.073289\tvalidation_1-error:0.110615\n",
            "[130]\tvalidation_0-error:0.073289\tvalidation_1-error:0.110665\n",
            "[131]\tvalidation_0-error:0.073289\tvalidation_1-error:0.110565\n",
            "[132]\tvalidation_0-error:0.073289\tvalidation_1-error:0.110615\n",
            "[133]\tvalidation_0-error:0.073289\tvalidation_1-error:0.110565\n",
            "[134]\tvalidation_0-error:0.073289\tvalidation_1-error:0.110367\n",
            "[135]\tvalidation_0-error:0.073289\tvalidation_1-error:0.110317\n",
            "[136]\tvalidation_0-error:0.073289\tvalidation_1-error:0.110317\n",
            "[137]\tvalidation_0-error:0.073289\tvalidation_1-error:0.110367\n",
            "[138]\tvalidation_0-error:0.073289\tvalidation_1-error:0.110367\n",
            "[139]\tvalidation_0-error:0.073289\tvalidation_1-error:0.110417\n",
            "[140]\tvalidation_0-error:0.073289\tvalidation_1-error:0.110466\n",
            "[141]\tvalidation_0-error:0.073289\tvalidation_1-error:0.110466\n",
            "[142]\tvalidation_0-error:0.073289\tvalidation_1-error:0.110466\n",
            "[143]\tvalidation_0-error:0.073363\tvalidation_1-error:0.110417\n",
            "[144]\tvalidation_0-error:0.073363\tvalidation_1-error:0.110317\n",
            "[145]\tvalidation_0-error:0.073363\tvalidation_1-error:0.110317\n",
            "[146]\tvalidation_0-error:0.073363\tvalidation_1-error:0.110317\n",
            "[147]\tvalidation_0-error:0.073363\tvalidation_1-error:0.110466\n",
            "[148]\tvalidation_0-error:0.073363\tvalidation_1-error:0.110417\n",
            "[149]\tvalidation_0-error:0.073363\tvalidation_1-error:0.110317\n",
            "[150]\tvalidation_0-error:0.073363\tvalidation_1-error:0.110317\n",
            "[151]\tvalidation_0-error:0.073363\tvalidation_1-error:0.110317\n",
            "[152]\tvalidation_0-error:0.073289\tvalidation_1-error:0.110466\n",
            "[153]\tvalidation_0-error:0.073214\tvalidation_1-error:0.110615\n",
            "[154]\tvalidation_0-error:0.073214\tvalidation_1-error:0.110665\n",
            "[155]\tvalidation_0-error:0.073289\tvalidation_1-error:0.110516\n",
            "[156]\tvalidation_0-error:0.073289\tvalidation_1-error:0.110565\n",
            "[157]\tvalidation_0-error:0.073289\tvalidation_1-error:0.110516\n",
            "[158]\tvalidation_0-error:0.073289\tvalidation_1-error:0.110565\n",
            "[159]\tvalidation_0-error:0.073214\tvalidation_1-error:0.110565\n",
            "[160]\tvalidation_0-error:0.073214\tvalidation_1-error:0.110516\n",
            "[161]\tvalidation_0-error:0.073363\tvalidation_1-error:0.110417\n",
            "[162]\tvalidation_0-error:0.073363\tvalidation_1-error:0.110367\n",
            "[163]\tvalidation_0-error:0.073363\tvalidation_1-error:0.110218\n",
            "[164]\tvalidation_0-error:0.073363\tvalidation_1-error:0.110169\n",
            "[165]\tvalidation_0-error:0.073363\tvalidation_1-error:0.110119\n",
            "[166]\tvalidation_0-error:0.073363\tvalidation_1-error:0.110069\n",
            "[167]\tvalidation_0-error:0.073363\tvalidation_1-error:0.110218\n",
            "[168]\tvalidation_0-error:0.073363\tvalidation_1-error:0.110169\n",
            "[169]\tvalidation_0-error:0.073363\tvalidation_1-error:0.110119\n",
            "[170]\tvalidation_0-error:0.073363\tvalidation_1-error:0.11002\n",
            "[171]\tvalidation_0-error:0.073363\tvalidation_1-error:0.110119\n",
            "[172]\tvalidation_0-error:0.073363\tvalidation_1-error:0.10997\n",
            "[173]\tvalidation_0-error:0.073363\tvalidation_1-error:0.110069\n",
            "[174]\tvalidation_0-error:0.073289\tvalidation_1-error:0.110069\n",
            "[175]\tvalidation_0-error:0.073289\tvalidation_1-error:0.110218\n",
            "[176]\tvalidation_0-error:0.073289\tvalidation_1-error:0.110218\n",
            "[177]\tvalidation_0-error:0.073289\tvalidation_1-error:0.110218\n",
            "[178]\tvalidation_0-error:0.073289\tvalidation_1-error:0.110169\n",
            "[179]\tvalidation_0-error:0.073289\tvalidation_1-error:0.110169\n",
            "[180]\tvalidation_0-error:0.073289\tvalidation_1-error:0.110119\n",
            "[181]\tvalidation_0-error:0.073289\tvalidation_1-error:0.110218\n",
            "[182]\tvalidation_0-error:0.073289\tvalidation_1-error:0.110218\n",
            "[183]\tvalidation_0-error:0.073289\tvalidation_1-error:0.110218\n",
            "[184]\tvalidation_0-error:0.073289\tvalidation_1-error:0.110169\n",
            "[185]\tvalidation_0-error:0.073363\tvalidation_1-error:0.11002\n",
            "[186]\tvalidation_0-error:0.073363\tvalidation_1-error:0.110069\n",
            "[187]\tvalidation_0-error:0.073363\tvalidation_1-error:0.110069\n",
            "[188]\tvalidation_0-error:0.073363\tvalidation_1-error:0.110069\n",
            "[189]\tvalidation_0-error:0.073363\tvalidation_1-error:0.11002\n",
            "[190]\tvalidation_0-error:0.073363\tvalidation_1-error:0.11002\n",
            "[191]\tvalidation_0-error:0.073363\tvalidation_1-error:0.11002\n",
            "[192]\tvalidation_0-error:0.073363\tvalidation_1-error:0.110169\n",
            "[193]\tvalidation_0-error:0.073363\tvalidation_1-error:0.110218\n",
            "[194]\tvalidation_0-error:0.073363\tvalidation_1-error:0.110069\n",
            "[195]\tvalidation_0-error:0.073363\tvalidation_1-error:0.110069\n",
            "[196]\tvalidation_0-error:0.073363\tvalidation_1-error:0.11002\n",
            "[197]\tvalidation_0-error:0.073363\tvalidation_1-error:0.110119\n",
            "[198]\tvalidation_0-error:0.073363\tvalidation_1-error:0.110119\n",
            "[199]\tvalidation_0-error:0.073363\tvalidation_1-error:0.110169\n",
            "[200]\tvalidation_0-error:0.073363\tvalidation_1-error:0.10997\n",
            "[201]\tvalidation_0-error:0.073363\tvalidation_1-error:0.11002\n",
            "[202]\tvalidation_0-error:0.073363\tvalidation_1-error:0.109921\n",
            "[203]\tvalidation_0-error:0.073363\tvalidation_1-error:0.109921\n",
            "[204]\tvalidation_0-error:0.073363\tvalidation_1-error:0.11002\n",
            "[205]\tvalidation_0-error:0.073363\tvalidation_1-error:0.10997\n",
            "[206]\tvalidation_0-error:0.073363\tvalidation_1-error:0.10997\n",
            "[207]\tvalidation_0-error:0.073363\tvalidation_1-error:0.10997\n",
            "[208]\tvalidation_0-error:0.073363\tvalidation_1-error:0.10997\n",
            "[209]\tvalidation_0-error:0.073363\tvalidation_1-error:0.10997\n",
            "[210]\tvalidation_0-error:0.073363\tvalidation_1-error:0.109921\n",
            "[211]\tvalidation_0-error:0.073363\tvalidation_1-error:0.11002\n",
            "[212]\tvalidation_0-error:0.073363\tvalidation_1-error:0.11002\n",
            "[213]\tvalidation_0-error:0.073363\tvalidation_1-error:0.11002\n",
            "[214]\tvalidation_0-error:0.073363\tvalidation_1-error:0.11002\n",
            "[215]\tvalidation_0-error:0.073363\tvalidation_1-error:0.11002\n",
            "[216]\tvalidation_0-error:0.073363\tvalidation_1-error:0.110069\n",
            "[217]\tvalidation_0-error:0.073363\tvalidation_1-error:0.110119\n",
            "[218]\tvalidation_0-error:0.073363\tvalidation_1-error:0.110069\n",
            "[219]\tvalidation_0-error:0.073363\tvalidation_1-error:0.10997\n",
            "[220]\tvalidation_0-error:0.073363\tvalidation_1-error:0.11002\n",
            "[221]\tvalidation_0-error:0.073363\tvalidation_1-error:0.10997\n",
            "[222]\tvalidation_0-error:0.073363\tvalidation_1-error:0.10997\n",
            "[223]\tvalidation_0-error:0.073363\tvalidation_1-error:0.109921\n",
            "[224]\tvalidation_0-error:0.073363\tvalidation_1-error:0.10997\n",
            "[225]\tvalidation_0-error:0.073363\tvalidation_1-error:0.10997\n",
            "[226]\tvalidation_0-error:0.073363\tvalidation_1-error:0.10997\n",
            "[227]\tvalidation_0-error:0.073363\tvalidation_1-error:0.11002\n",
            "[228]\tvalidation_0-error:0.073363\tvalidation_1-error:0.11002\n",
            "[229]\tvalidation_0-error:0.073363\tvalidation_1-error:0.11002\n",
            "[230]\tvalidation_0-error:0.073363\tvalidation_1-error:0.109921\n",
            "[231]\tvalidation_0-error:0.073363\tvalidation_1-error:0.109921\n",
            "[232]\tvalidation_0-error:0.073363\tvalidation_1-error:0.110069\n",
            "[233]\tvalidation_0-error:0.073363\tvalidation_1-error:0.110069\n",
            "[234]\tvalidation_0-error:0.073363\tvalidation_1-error:0.110069\n",
            "[235]\tvalidation_0-error:0.073363\tvalidation_1-error:0.11002\n",
            "[236]\tvalidation_0-error:0.073363\tvalidation_1-error:0.10997\n",
            "[237]\tvalidation_0-error:0.073363\tvalidation_1-error:0.10997\n",
            "[238]\tvalidation_0-error:0.073363\tvalidation_1-error:0.10997\n",
            "[239]\tvalidation_0-error:0.073214\tvalidation_1-error:0.110218\n",
            "[240]\tvalidation_0-error:0.073289\tvalidation_1-error:0.110119\n",
            "[241]\tvalidation_0-error:0.073363\tvalidation_1-error:0.110069\n",
            "[242]\tvalidation_0-error:0.073363\tvalidation_1-error:0.110069\n",
            "[243]\tvalidation_0-error:0.073289\tvalidation_1-error:0.110218\n",
            "[244]\tvalidation_0-error:0.073214\tvalidation_1-error:0.110367\n",
            "[245]\tvalidation_0-error:0.073289\tvalidation_1-error:0.110218\n",
            "[246]\tvalidation_0-error:0.073363\tvalidation_1-error:0.110069\n",
            "[247]\tvalidation_0-error:0.073363\tvalidation_1-error:0.110119\n",
            "[248]\tvalidation_0-error:0.073363\tvalidation_1-error:0.110069\n",
            "[249]\tvalidation_0-error:0.073363\tvalidation_1-error:0.110069\n",
            "[250]\tvalidation_0-error:0.073363\tvalidation_1-error:0.110069\n",
            "[251]\tvalidation_0-error:0.073363\tvalidation_1-error:0.11002\n",
            "[252]\tvalidation_0-error:0.073363\tvalidation_1-error:0.10997\n",
            "[253]\tvalidation_0-error:0.073363\tvalidation_1-error:0.10997\n",
            "[254]\tvalidation_0-error:0.073363\tvalidation_1-error:0.11002\n",
            "[255]\tvalidation_0-error:0.073363\tvalidation_1-error:0.10997\n",
            "[256]\tvalidation_0-error:0.073363\tvalidation_1-error:0.10997\n",
            "[257]\tvalidation_0-error:0.073363\tvalidation_1-error:0.109871\n",
            "[258]\tvalidation_0-error:0.073363\tvalidation_1-error:0.109871\n",
            "[259]\tvalidation_0-error:0.073363\tvalidation_1-error:0.109921\n",
            "[260]\tvalidation_0-error:0.073363\tvalidation_1-error:0.10997\n",
            "[261]\tvalidation_0-error:0.073363\tvalidation_1-error:0.10997\n",
            "[262]\tvalidation_0-error:0.073363\tvalidation_1-error:0.109921\n",
            "[263]\tvalidation_0-error:0.073363\tvalidation_1-error:0.109921\n",
            "[264]\tvalidation_0-error:0.073363\tvalidation_1-error:0.10997\n",
            "[265]\tvalidation_0-error:0.073363\tvalidation_1-error:0.10997\n",
            "[266]\tvalidation_0-error:0.073363\tvalidation_1-error:0.10997\n",
            "[267]\tvalidation_0-error:0.073363\tvalidation_1-error:0.109921\n",
            "[268]\tvalidation_0-error:0.073363\tvalidation_1-error:0.109921\n",
            "[269]\tvalidation_0-error:0.073363\tvalidation_1-error:0.109921\n",
            "[270]\tvalidation_0-error:0.073363\tvalidation_1-error:0.109921\n",
            "[271]\tvalidation_0-error:0.073363\tvalidation_1-error:0.109921\n",
            "[272]\tvalidation_0-error:0.073363\tvalidation_1-error:0.10997\n",
            "[273]\tvalidation_0-error:0.073363\tvalidation_1-error:0.10997\n",
            "[274]\tvalidation_0-error:0.073363\tvalidation_1-error:0.10997\n",
            "[275]\tvalidation_0-error:0.073363\tvalidation_1-error:0.109921\n",
            "[276]\tvalidation_0-error:0.073363\tvalidation_1-error:0.10997\n",
            "[277]\tvalidation_0-error:0.073363\tvalidation_1-error:0.10997\n",
            "[278]\tvalidation_0-error:0.073363\tvalidation_1-error:0.10997\n",
            "[279]\tvalidation_0-error:0.073363\tvalidation_1-error:0.10997\n",
            "[280]\tvalidation_0-error:0.073363\tvalidation_1-error:0.10997\n",
            "[281]\tvalidation_0-error:0.073363\tvalidation_1-error:0.10997\n",
            "[282]\tvalidation_0-error:0.073363\tvalidation_1-error:0.109921\n",
            "[283]\tvalidation_0-error:0.073363\tvalidation_1-error:0.10997\n",
            "[284]\tvalidation_0-error:0.073363\tvalidation_1-error:0.10997\n",
            "[285]\tvalidation_0-error:0.073363\tvalidation_1-error:0.10997\n",
            "[286]\tvalidation_0-error:0.073363\tvalidation_1-error:0.10997\n",
            "[287]\tvalidation_0-error:0.073363\tvalidation_1-error:0.10997\n",
            "[288]\tvalidation_0-error:0.073363\tvalidation_1-error:0.10997\n",
            "[289]\tvalidation_0-error:0.073363\tvalidation_1-error:0.10997\n",
            "[290]\tvalidation_0-error:0.073363\tvalidation_1-error:0.10997\n",
            "[291]\tvalidation_0-error:0.073363\tvalidation_1-error:0.10997\n",
            "[292]\tvalidation_0-error:0.073363\tvalidation_1-error:0.10997\n",
            "[293]\tvalidation_0-error:0.073363\tvalidation_1-error:0.10997\n",
            "[294]\tvalidation_0-error:0.073363\tvalidation_1-error:0.10997\n",
            "[295]\tvalidation_0-error:0.073363\tvalidation_1-error:0.109871\n",
            "[296]\tvalidation_0-error:0.073363\tvalidation_1-error:0.109871\n",
            "[297]\tvalidation_0-error:0.073363\tvalidation_1-error:0.109871\n",
            "[298]\tvalidation_0-error:0.073363\tvalidation_1-error:0.109871\n",
            "[299]\tvalidation_0-error:0.073363\tvalidation_1-error:0.109921\n",
            "[300]\tvalidation_0-error:0.073363\tvalidation_1-error:0.10997\n",
            "[301]\tvalidation_0-error:0.073363\tvalidation_1-error:0.109921\n",
            "[302]\tvalidation_0-error:0.073363\tvalidation_1-error:0.109871\n",
            "[303]\tvalidation_0-error:0.073363\tvalidation_1-error:0.109921\n",
            "[304]\tvalidation_0-error:0.073363\tvalidation_1-error:0.109921\n",
            "[305]\tvalidation_0-error:0.073363\tvalidation_1-error:0.11002\n",
            "[306]\tvalidation_0-error:0.073363\tvalidation_1-error:0.109921\n",
            "[307]\tvalidation_0-error:0.073363\tvalidation_1-error:0.109871\n",
            "[308]\tvalidation_0-error:0.073363\tvalidation_1-error:0.109871\n",
            "[309]\tvalidation_0-error:0.073363\tvalidation_1-error:0.109921\n",
            "[310]\tvalidation_0-error:0.073363\tvalidation_1-error:0.109871\n",
            "[311]\tvalidation_0-error:0.073363\tvalidation_1-error:0.109871\n",
            "[312]\tvalidation_0-error:0.073363\tvalidation_1-error:0.109821\n",
            "[313]\tvalidation_0-error:0.073363\tvalidation_1-error:0.109772\n",
            "[314]\tvalidation_0-error:0.073363\tvalidation_1-error:0.109722\n",
            "[315]\tvalidation_0-error:0.073363\tvalidation_1-error:0.109722\n",
            "[316]\tvalidation_0-error:0.073363\tvalidation_1-error:0.109772\n",
            "[317]\tvalidation_0-error:0.073363\tvalidation_1-error:0.109772\n",
            "[318]\tvalidation_0-error:0.073363\tvalidation_1-error:0.109821\n",
            "[319]\tvalidation_0-error:0.073363\tvalidation_1-error:0.109772\n",
            "[320]\tvalidation_0-error:0.073363\tvalidation_1-error:0.109772\n",
            "[321]\tvalidation_0-error:0.073363\tvalidation_1-error:0.109772\n",
            "[322]\tvalidation_0-error:0.073363\tvalidation_1-error:0.109772\n",
            "[323]\tvalidation_0-error:0.073363\tvalidation_1-error:0.109772\n",
            "[324]\tvalidation_0-error:0.073363\tvalidation_1-error:0.109772\n",
            "[325]\tvalidation_0-error:0.073363\tvalidation_1-error:0.109821\n",
            "[326]\tvalidation_0-error:0.073363\tvalidation_1-error:0.109821\n",
            "[327]\tvalidation_0-error:0.073363\tvalidation_1-error:0.109821\n",
            "[328]\tvalidation_0-error:0.073363\tvalidation_1-error:0.109871\n",
            "[329]\tvalidation_0-error:0.073363\tvalidation_1-error:0.109921\n",
            "[330]\tvalidation_0-error:0.073363\tvalidation_1-error:0.109871\n",
            "[331]\tvalidation_0-error:0.073363\tvalidation_1-error:0.109871\n",
            "[332]\tvalidation_0-error:0.073363\tvalidation_1-error:0.109871\n",
            "[333]\tvalidation_0-error:0.073363\tvalidation_1-error:0.109871\n",
            "[334]\tvalidation_0-error:0.073363\tvalidation_1-error:0.109921\n",
            "[335]\tvalidation_0-error:0.073363\tvalidation_1-error:0.109921\n",
            "[336]\tvalidation_0-error:0.073363\tvalidation_1-error:0.109921\n",
            "[337]\tvalidation_0-error:0.073363\tvalidation_1-error:0.109821\n",
            "[338]\tvalidation_0-error:0.073363\tvalidation_1-error:0.109871\n",
            "[339]\tvalidation_0-error:0.073363\tvalidation_1-error:0.109871\n",
            "[340]\tvalidation_0-error:0.073363\tvalidation_1-error:0.109921\n",
            "[341]\tvalidation_0-error:0.073363\tvalidation_1-error:0.109921\n",
            "[342]\tvalidation_0-error:0.073363\tvalidation_1-error:0.109921\n",
            "[343]\tvalidation_0-error:0.073363\tvalidation_1-error:0.109871\n",
            "[344]\tvalidation_0-error:0.073363\tvalidation_1-error:0.109871\n",
            "[345]\tvalidation_0-error:0.073363\tvalidation_1-error:0.109871\n",
            "[346]\tvalidation_0-error:0.073363\tvalidation_1-error:0.109871\n",
            "[347]\tvalidation_0-error:0.073363\tvalidation_1-error:0.109871\n",
            "[348]\tvalidation_0-error:0.073363\tvalidation_1-error:0.109871\n",
            "[349]\tvalidation_0-error:0.073363\tvalidation_1-error:0.109921\n",
            "[350]\tvalidation_0-error:0.073363\tvalidation_1-error:0.109871\n",
            "[351]\tvalidation_0-error:0.073363\tvalidation_1-error:0.109821\n",
            "[352]\tvalidation_0-error:0.073363\tvalidation_1-error:0.109821\n",
            "[353]\tvalidation_0-error:0.073363\tvalidation_1-error:0.109871\n",
            "[354]\tvalidation_0-error:0.073363\tvalidation_1-error:0.109871\n",
            "[355]\tvalidation_0-error:0.073363\tvalidation_1-error:0.109871\n",
            "[356]\tvalidation_0-error:0.073363\tvalidation_1-error:0.109871\n",
            "[357]\tvalidation_0-error:0.073363\tvalidation_1-error:0.109921\n",
            "[358]\tvalidation_0-error:0.073363\tvalidation_1-error:0.10997\n",
            "[359]\tvalidation_0-error:0.073363\tvalidation_1-error:0.109921\n",
            "[360]\tvalidation_0-error:0.073363\tvalidation_1-error:0.109921\n",
            "[361]\tvalidation_0-error:0.073363\tvalidation_1-error:0.109921\n",
            "[362]\tvalidation_0-error:0.073363\tvalidation_1-error:0.109821\n",
            "[363]\tvalidation_0-error:0.073363\tvalidation_1-error:0.109772\n",
            "[364]\tvalidation_0-error:0.073363\tvalidation_1-error:0.109772\n",
            "[365]\tvalidation_0-error:0.073363\tvalidation_1-error:0.109821\n",
            "[366]\tvalidation_0-error:0.073363\tvalidation_1-error:0.109821\n",
            "[367]\tvalidation_0-error:0.073363\tvalidation_1-error:0.109821\n",
            "[368]\tvalidation_0-error:0.073363\tvalidation_1-error:0.109871\n",
            "[369]\tvalidation_0-error:0.073363\tvalidation_1-error:0.109821\n",
            "[370]\tvalidation_0-error:0.073363\tvalidation_1-error:0.109821\n",
            "[371]\tvalidation_0-error:0.073363\tvalidation_1-error:0.109821\n",
            "[372]\tvalidation_0-error:0.073363\tvalidation_1-error:0.109821\n",
            "[373]\tvalidation_0-error:0.073363\tvalidation_1-error:0.109821\n",
            "[374]\tvalidation_0-error:0.073363\tvalidation_1-error:0.109821\n",
            "[375]\tvalidation_0-error:0.073363\tvalidation_1-error:0.109821\n",
            "[376]\tvalidation_0-error:0.073363\tvalidation_1-error:0.109821\n",
            "[377]\tvalidation_0-error:0.073363\tvalidation_1-error:0.109821\n",
            "[378]\tvalidation_0-error:0.073363\tvalidation_1-error:0.109821\n",
            "[379]\tvalidation_0-error:0.073363\tvalidation_1-error:0.109821\n",
            "[380]\tvalidation_0-error:0.073363\tvalidation_1-error:0.109821\n",
            "[381]\tvalidation_0-error:0.073363\tvalidation_1-error:0.109821\n",
            "[382]\tvalidation_0-error:0.073363\tvalidation_1-error:0.109871\n",
            "[383]\tvalidation_0-error:0.073363\tvalidation_1-error:0.109871\n",
            "[384]\tvalidation_0-error:0.073363\tvalidation_1-error:0.109871\n",
            "[385]\tvalidation_0-error:0.073363\tvalidation_1-error:0.109871\n",
            "[386]\tvalidation_0-error:0.073363\tvalidation_1-error:0.109871\n",
            "[387]\tvalidation_0-error:0.073363\tvalidation_1-error:0.109871\n",
            "[388]\tvalidation_0-error:0.073363\tvalidation_1-error:0.109871\n",
            "[389]\tvalidation_0-error:0.073363\tvalidation_1-error:0.109871\n",
            "[390]\tvalidation_0-error:0.073363\tvalidation_1-error:0.109871\n",
            "[391]\tvalidation_0-error:0.073363\tvalidation_1-error:0.109772\n",
            "[392]\tvalidation_0-error:0.073363\tvalidation_1-error:0.109821\n",
            "[393]\tvalidation_0-error:0.073363\tvalidation_1-error:0.109871\n",
            "[394]\tvalidation_0-error:0.073363\tvalidation_1-error:0.109871\n",
            "[395]\tvalidation_0-error:0.073363\tvalidation_1-error:0.109871\n",
            "[396]\tvalidation_0-error:0.073363\tvalidation_1-error:0.109921\n",
            "[397]\tvalidation_0-error:0.073363\tvalidation_1-error:0.109921\n",
            "[398]\tvalidation_0-error:0.073363\tvalidation_1-error:0.109921\n",
            "[399]\tvalidation_0-error:0.073363\tvalidation_1-error:0.109921\n",
            "[400]\tvalidation_0-error:0.073363\tvalidation_1-error:0.10997\n",
            "[401]\tvalidation_0-error:0.073363\tvalidation_1-error:0.109921\n",
            "[402]\tvalidation_0-error:0.073363\tvalidation_1-error:0.109921\n",
            "[403]\tvalidation_0-error:0.073363\tvalidation_1-error:0.109921\n",
            "[404]\tvalidation_0-error:0.073363\tvalidation_1-error:0.10997\n",
            "[405]\tvalidation_0-error:0.073363\tvalidation_1-error:0.10997\n",
            "[406]\tvalidation_0-error:0.073363\tvalidation_1-error:0.10997\n",
            "[407]\tvalidation_0-error:0.073363\tvalidation_1-error:0.10997\n",
            "[408]\tvalidation_0-error:0.073363\tvalidation_1-error:0.10997\n",
            "[409]\tvalidation_0-error:0.073363\tvalidation_1-error:0.10997\n",
            "[410]\tvalidation_0-error:0.073363\tvalidation_1-error:0.10997\n",
            "[411]\tvalidation_0-error:0.073363\tvalidation_1-error:0.10997\n",
            "[412]\tvalidation_0-error:0.073363\tvalidation_1-error:0.10997\n",
            "[413]\tvalidation_0-error:0.073363\tvalidation_1-error:0.10997\n",
            "[414]\tvalidation_0-error:0.073363\tvalidation_1-error:0.109921\n",
            "Stopping. Best iteration:\n",
            "[314]\tvalidation_0-error:0.073363\tvalidation_1-error:0.109722\n",
            "\n"
          ]
        },
        {
          "output_type": "execute_result",
          "data": {
            "text/plain": [
              "XGBClassifier(base_score=0.5, booster='gbtree', colsample_bylevel=1,\n",
              "              colsample_bynode=1, colsample_bytree=1, gamma=0,\n",
              "              learning_rate=0.3, max_delta_step=0, max_depth=15,\n",
              "              min_child_weight=1, missing=None, n_estimators=1000, n_jobs=-1,\n",
              "              nthread=None, objective='binary:logistic', random_state=2,\n",
              "              reg_alpha=0, reg_lambda=1, scale_pos_weight=7.181818181818182,\n",
              "              seed=None, silent=None, subsample=1, verbosity=1)"
            ]
          },
          "metadata": {},
          "execution_count": 37
        }
      ]
    },
    {
      "cell_type": "code",
      "metadata": {
        "id": "7IaTqbRtPMCF",
        "colab": {
          "base_uri": "https://localhost:8080/"
        },
        "outputId": "6d1d25bd-35a1-40a8-f5df-54da466e21af"
      },
      "source": [
        "print(classification_report(y_val, model_xgb.predict(X_val_encoded)))"
      ],
      "execution_count": 38,
      "outputs": [
        {
          "output_type": "stream",
          "name": "stdout",
          "text": [
            "              precision    recall  f1-score   support\n",
            "\n",
            "           0       0.97      0.91      0.94     17700\n",
            "           1       0.54      0.76      0.63      2460\n",
            "\n",
            "    accuracy                           0.89     20160\n",
            "   macro avg       0.75      0.84      0.78     20160\n",
            "weighted avg       0.91      0.89      0.90     20160\n",
            "\n"
          ]
        }
      ]
    },
    {
      "cell_type": "code",
      "metadata": {
        "colab": {
          "base_uri": "https://localhost:8080/"
        },
        "id": "EoH-6jW-acpE",
        "outputId": "6b965f35-f248-4286-cc7d-e3acee9ebb83"
      },
      "source": [
        "y_pred_xgb = model_xgb.predict(X_val_encoded)\n",
        "f1_xgb = f1_score(y_val, y_pred_xgb)\n",
        "print(f'검증세트 f1:{f1_xgb}')"
      ],
      "execution_count": 39,
      "outputs": [
        {
          "output_type": "stream",
          "name": "stdout",
          "text": [
            "검증세트 f1:0.6293565683646113\n"
          ]
        }
      ]
    },
    {
      "cell_type": "markdown",
      "metadata": {
        "id": "Lq0M5hwoFdzT"
      },
      "source": [
        "- xgboost의 경우 early stopping을 사용해보니, 성능이 향상됐다.\n",
        "  - 모델4 f1 score:  0.626\n",
        "  - early stopping모델 f1 score: 0.629"
      ]
    },
    {
      "cell_type": "markdown",
      "metadata": {
        "id": "pHYV2cPOcksL"
      },
      "source": [
        "\n",
        "\n",
        "---\n",
        "\n",
        "\n",
        "\n",
        "---\n",
        "\n"
      ]
    },
    {
      "cell_type": "markdown",
      "metadata": {
        "id": "lsgFAjxiFuAF"
      },
      "source": [
        "현재까지의 성능을 살펴보면,\n",
        "- Random Forest 검증세트\n",
        "  - 수정된 RandomizedSearch CV의 f1: 0.632 (best_model_randf)\n",
        "  - 기본모델의 f1: 0.631 (model1)\n",
        "- Gradient Boosting 검증세트의 f1: 0.628 (model_xgb)\n",
        "\n",
        "수정된 RandomizedSearch CV의 성능이 가장 좋아보인다."
      ]
    },
    {
      "cell_type": "code",
      "metadata": {
        "id": "hXd6YCPdfyzO"
      },
      "source": [
        "##ROC Curve, AUC"
      ],
      "execution_count": null,
      "outputs": []
    },
    {
      "cell_type": "code",
      "metadata": {
        "colab": {
          "base_uri": "https://localhost:8080/"
        },
        "id": "C_C7swLc-H8i",
        "outputId": "9229a446-f800-4876-cfc3-8ca717c007ee"
      },
      "source": [
        "#RandomizedSearchCV모델의 클래스별 예측 확률\n",
        "best_model_randf.predict_proba(X_val)"
      ],
      "execution_count": 40,
      "outputs": [
        {
          "output_type": "execute_result",
          "data": {
            "text/plain": [
              "array([[0.77863303, 0.22136697],\n",
              "       [0.98679857, 0.01320143],\n",
              "       [1.        , 0.        ],\n",
              "       ...,\n",
              "       [1.        , 0.        ],\n",
              "       [0.76904643, 0.23095357],\n",
              "       [0.76604955, 0.23395045]])"
            ]
          },
          "metadata": {},
          "execution_count": 40
        }
      ]
    },
    {
      "cell_type": "code",
      "metadata": {
        "colab": {
          "base_uri": "https://localhost:8080/"
        },
        "id": "D9bcKTf0-PuW",
        "outputId": "43f71e8d-6e5b-410b-b95b-2d92c8ef6025"
      },
      "source": [
        "#RandomizedSearchCV모델의 positive예측 확률\n",
        "y_pred_proba_1 = best_model_randf.predict_proba(X_val)[:, 1]\n",
        "y_pred_proba_1"
      ],
      "execution_count": 41,
      "outputs": [
        {
          "output_type": "execute_result",
          "data": {
            "text/plain": [
              "array([0.22136697, 0.01320143, 0.        , ..., 0.        , 0.23095357,\n",
              "       0.23395045])"
            ]
          },
          "metadata": {},
          "execution_count": 41
        }
      ]
    },
    {
      "cell_type": "code",
      "metadata": {
        "colab": {
          "base_uri": "https://localhost:8080/",
          "height": 466,
          "referenced_widgets": [
            "e53cfb709aab421bb0f8b8d354dc81bb",
            "37803f09870445f488790a161f538f7f",
            "8c5966e369c04d14885a5e081c735a2f",
            "3555d484f4bd47eeb377640a30335c92",
            "d4c81007fcdb4b44aff0f507567c0282",
            "7d25c554091843d280c8aa6c1ea42b3e",
            "ceaf653c25884ff29e43b05adaabbd61"
          ]
        },
        "id": "D0859hCU-aul",
        "outputId": "be605238-3e70-489f-e88a-a539d5f96817"
      },
      "source": [
        "#임계값 조정하며 precision, recall, f1_score확인\n",
        "\n",
        "def explore_threshold1(y_true, y_pred_proba_1, threshold=0.5):\n",
        "    y_pred = y_pred_proba_1 >= threshold\n",
        "    vc = pd.Series(y_pred).value_counts()\n",
        "    ax = sns.histplot(y_pred_proba_1, kde=True)\n",
        "    ax.axvline(threshold, color='red')\n",
        "    ax.set_title(f'# of target, 1={vc[1]}, 0={vc[0]}')\n",
        "    plt.show()\n",
        "    print(classification_report(y_true, y_pred))\n",
        "\n",
        "    \n",
        "interact(explore_threshold1, \n",
        "    y_true=fixed(y_val), \n",
        "    y_pred_proba_1=fixed(y_pred_proba_1), \n",
        "    threshold=(0, 1, 0.01));"
      ],
      "execution_count": 42,
      "outputs": [
        {
          "output_type": "display_data",
          "data": {
            "application/vnd.jupyter.widget-view+json": {
              "model_id": "e53cfb709aab421bb0f8b8d354dc81bb",
              "version_minor": 0,
              "version_major": 2
            },
            "text/plain": [
              "interactive(children=(FloatSlider(value=0.5, description='threshold', max=1.0, step=0.01), Output()), _dom_cla…"
            ]
          },
          "metadata": {}
        }
      ]
    },
    {
      "cell_type": "markdown",
      "metadata": {
        "id": "EmsdhfJ3HjwO"
      },
      "source": [
        "- 임계값을 조정해보니, 0.5가 가장 적당해보인다."
      ]
    },
    {
      "cell_type": "code",
      "metadata": {
        "colab": {
          "base_uri": "https://localhost:8080/",
          "height": 419
        },
        "id": "QsCKwLjL_Oqi",
        "outputId": "6a859a33-0bf3-43ff-a581-ae80d7e2efe5"
      },
      "source": [
        "# roc_curve(타겟값, prob of 1)\n",
        "fpr1, tpr1, thresholds1 = roc_curve(y_val, y_pred_proba_1)\n",
        "\n",
        "roc1 = pd.DataFrame({\n",
        "    'FPR(Fall-out)': fpr1, \n",
        "    'TPRate(Recall)': tpr1, \n",
        "    'Threshold': thresholds1\n",
        "})\n",
        "roc1"
      ],
      "execution_count": 43,
      "outputs": [
        {
          "output_type": "execute_result",
          "data": {
            "text/html": [
              "<div>\n",
              "<style scoped>\n",
              "    .dataframe tbody tr th:only-of-type {\n",
              "        vertical-align: middle;\n",
              "    }\n",
              "\n",
              "    .dataframe tbody tr th {\n",
              "        vertical-align: top;\n",
              "    }\n",
              "\n",
              "    .dataframe thead th {\n",
              "        text-align: right;\n",
              "    }\n",
              "</style>\n",
              "<table border=\"1\" class=\"dataframe\">\n",
              "  <thead>\n",
              "    <tr style=\"text-align: right;\">\n",
              "      <th></th>\n",
              "      <th>FPR(Fall-out)</th>\n",
              "      <th>TPRate(Recall)</th>\n",
              "      <th>Threshold</th>\n",
              "    </tr>\n",
              "  </thead>\n",
              "  <tbody>\n",
              "    <tr>\n",
              "      <th>0</th>\n",
              "      <td>0.000000</td>\n",
              "      <td>0.000000</td>\n",
              "      <td>2.000000</td>\n",
              "    </tr>\n",
              "    <tr>\n",
              "      <th>1</th>\n",
              "      <td>0.000000</td>\n",
              "      <td>0.000813</td>\n",
              "      <td>1.000000</td>\n",
              "    </tr>\n",
              "    <tr>\n",
              "      <th>2</th>\n",
              "      <td>0.000113</td>\n",
              "      <td>0.001220</td>\n",
              "      <td>0.998488</td>\n",
              "    </tr>\n",
              "    <tr>\n",
              "      <th>3</th>\n",
              "      <td>0.000169</td>\n",
              "      <td>0.001220</td>\n",
              "      <td>0.997195</td>\n",
              "    </tr>\n",
              "    <tr>\n",
              "      <th>4</th>\n",
              "      <td>0.000226</td>\n",
              "      <td>0.001626</td>\n",
              "      <td>0.996738</td>\n",
              "    </tr>\n",
              "    <tr>\n",
              "      <th>...</th>\n",
              "      <td>...</td>\n",
              "      <td>...</td>\n",
              "      <td>...</td>\n",
              "    </tr>\n",
              "    <tr>\n",
              "      <th>3097</th>\n",
              "      <td>0.696045</td>\n",
              "      <td>1.000000</td>\n",
              "      <td>0.003391</td>\n",
              "    </tr>\n",
              "    <tr>\n",
              "      <th>3098</th>\n",
              "      <td>0.696610</td>\n",
              "      <td>1.000000</td>\n",
              "      <td>0.003238</td>\n",
              "    </tr>\n",
              "    <tr>\n",
              "      <th>3099</th>\n",
              "      <td>0.696836</td>\n",
              "      <td>1.000000</td>\n",
              "      <td>0.003098</td>\n",
              "    </tr>\n",
              "    <tr>\n",
              "      <th>3100</th>\n",
              "      <td>0.697119</td>\n",
              "      <td>1.000000</td>\n",
              "      <td>0.002970</td>\n",
              "    </tr>\n",
              "    <tr>\n",
              "      <th>3101</th>\n",
              "      <td>1.000000</td>\n",
              "      <td>1.000000</td>\n",
              "      <td>0.000000</td>\n",
              "    </tr>\n",
              "  </tbody>\n",
              "</table>\n",
              "<p>3102 rows × 3 columns</p>\n",
              "</div>"
            ],
            "text/plain": [
              "      FPR(Fall-out)  TPRate(Recall)  Threshold\n",
              "0          0.000000        0.000000   2.000000\n",
              "1          0.000000        0.000813   1.000000\n",
              "2          0.000113        0.001220   0.998488\n",
              "3          0.000169        0.001220   0.997195\n",
              "4          0.000226        0.001626   0.996738\n",
              "...             ...             ...        ...\n",
              "3097       0.696045        1.000000   0.003391\n",
              "3098       0.696610        1.000000   0.003238\n",
              "3099       0.696836        1.000000   0.003098\n",
              "3100       0.697119        1.000000   0.002970\n",
              "3101       1.000000        1.000000   0.000000\n",
              "\n",
              "[3102 rows x 3 columns]"
            ]
          },
          "metadata": {},
          "execution_count": 43
        }
      ]
    },
    {
      "cell_type": "code",
      "metadata": {
        "colab": {
          "base_uri": "https://localhost:8080/"
        },
        "id": "DD1z4f0A_9vP",
        "outputId": "18af2960-4ad7-44dc-b0ec-2bcc0c5b15f3"
      },
      "source": [
        "# threshold 최대값의 인덱스, np.argmax()\n",
        "optimal_idx1 = np.argmax(tpr1 - fpr1)\n",
        "optimal_threshold1 = thresholds1[optimal_idx1]\n",
        "\n",
        "print('idx:', optimal_idx1, ', threshold:', optimal_threshold1)"
      ],
      "execution_count": 44,
      "outputs": [
        {
          "output_type": "stream",
          "name": "stdout",
          "text": [
            "idx: 1981 , threshold: 0.08385429264702529\n"
          ]
        }
      ]
    },
    {
      "cell_type": "code",
      "metadata": {
        "colab": {
          "base_uri": "https://localhost:8080/"
        },
        "id": "T94sMr_hiBND",
        "outputId": "ef681bef-d558-4924-fba5-86ac69e83a08"
      },
      "source": [
        "#임계값 0.5일때의 score\n",
        "y_pred_05 = y_pred_proba_1 >= 0.5\n",
        "print(classification_report(y_val, y_pred_05))"
      ],
      "execution_count": 45,
      "outputs": [
        {
          "output_type": "stream",
          "name": "stdout",
          "text": [
            "              precision    recall  f1-score   support\n",
            "\n",
            "           0       0.96      0.91      0.94     17700\n",
            "           1       0.55      0.75      0.63      2460\n",
            "\n",
            "    accuracy                           0.89     20160\n",
            "   macro avg       0.75      0.83      0.78     20160\n",
            "weighted avg       0.91      0.89      0.90     20160\n",
            "\n"
          ]
        }
      ]
    },
    {
      "cell_type": "code",
      "metadata": {
        "colab": {
          "base_uri": "https://localhost:8080/"
        },
        "id": "haQ3yODfiOF3",
        "outputId": "cc141330-4b00-4983-d052-d850482ad7fa"
      },
      "source": [
        "#최적의 임계값일때의 score\n",
        "y_pred_optimal = y_pred_proba_1 >= optimal_threshold1\n",
        "print(classification_report(y_val, y_pred_optimal))"
      ],
      "execution_count": 46,
      "outputs": [
        {
          "output_type": "stream",
          "name": "stdout",
          "text": [
            "              precision    recall  f1-score   support\n",
            "\n",
            "           0       1.00      0.78      0.87     17700\n",
            "           1       0.38      1.00      0.55      2460\n",
            "\n",
            "    accuracy                           0.80     20160\n",
            "   macro avg       0.69      0.89      0.71     20160\n",
            "weighted avg       0.92      0.80      0.84     20160\n",
            "\n"
          ]
        }
      ]
    },
    {
      "cell_type": "code",
      "metadata": {
        "id": "T85zW6C2Ifix"
      },
      "source": [
        "#임계값을 조절했을 때, recall 값이 1.00으로 나오고, f1값은 떨어진다.\n",
        "#정확하게 어떤것을 의미하는 바인지 아직 잘 모르겠다.\n",
        "#f1값을 보기로 결정했으니, f1값이 높은 것을 선택하기로 결정했다."
      ],
      "execution_count": 56,
      "outputs": []
    },
    {
      "cell_type": "code",
      "metadata": {
        "colab": {
          "base_uri": "https://localhost:8080/",
          "height": 295
        },
        "id": "g8QUsdWr_TSm",
        "outputId": "96ffdf74-d035-4145-b63f-feedf2d4a31e"
      },
      "source": [
        "#roc curve\n",
        "plt.scatter(fpr1, tpr1)\n",
        "plt.title('ROC curve')\n",
        "plt.xlabel('FPR(Fall-out)')\n",
        "plt.ylabel('TPR(Recall)');"
      ],
      "execution_count": 47,
      "outputs": [
        {
          "output_type": "display_data",
          "data": {
            "image/png": "[encoded data removed]",
            "text/plain": [
              "<Figure size 432x288 with 1 Axes>"
            ]
          },
          "metadata": {
            "needs_background": "light"
          }
        }
      ]
    },
    {
      "cell_type": "code",
      "metadata": {
        "colab": {
          "base_uri": "https://localhost:8080/"
        },
        "id": "HroipGJIBStp",
        "outputId": "8f057438-e541-4124-991f-bbe7b2875d8a"
      },
      "source": [
        "#AUC\n",
        "\n",
        "auc_score_1 = roc_auc_score(y_val, y_pred_proba_1)\n",
        "print('ACU:',auc_score_1)"
      ],
      "execution_count": 48,
      "outputs": [
        {
          "output_type": "stream",
          "name": "stdout",
          "text": [
            "ACU: 0.9330669353727434\n"
          ]
        }
      ]
    },
    {
      "cell_type": "markdown",
      "metadata": {
        "id": "FXhRixsIIEHD"
      },
      "source": [
        "\n",
        "\n",
        "---\n",
        "\n"
      ]
    },
    {
      "cell_type": "code",
      "metadata": {
        "id": "LeGjDcaWAgUY"
      },
      "source": [
        "#모델_1"
      ],
      "execution_count": null,
      "outputs": []
    },
    {
      "cell_type": "code",
      "metadata": {
        "colab": {
          "base_uri": "https://localhost:8080/"
        },
        "id": "jbMdGALTAlBA",
        "outputId": "58d38640-23b2-4fdb-9ac2-1cf011b439f3"
      },
      "source": [
        "model1.predict_proba(X_val)"
      ],
      "execution_count": 49,
      "outputs": [
        {
          "output_type": "execute_result",
          "data": {
            "text/plain": [
              "array([[0.80864512, 0.19135488],\n",
              "       [1.        , 0.        ],\n",
              "       [1.        , 0.        ],\n",
              "       ...,\n",
              "       [1.        , 0.        ],\n",
              "       [0.8007933 , 0.1992067 ],\n",
              "       [0.83760461, 0.16239539]])"
            ]
          },
          "metadata": {},
          "execution_count": 49
        }
      ]
    },
    {
      "cell_type": "code",
      "metadata": {
        "colab": {
          "base_uri": "https://localhost:8080/"
        },
        "id": "LZa6Hh-XAt5k",
        "outputId": "c0881afa-9c36-4634-b0cb-7220610f5e45"
      },
      "source": [
        "y_pred_proba_2 = model1.predict_proba(X_val)[:, 1]\n",
        "y_pred_proba_2"
      ],
      "execution_count": 50,
      "outputs": [
        {
          "output_type": "execute_result",
          "data": {
            "text/plain": [
              "array([0.19135488, 0.        , 0.        , ..., 0.        , 0.1992067 ,\n",
              "       0.16239539])"
            ]
          },
          "metadata": {},
          "execution_count": 50
        }
      ]
    },
    {
      "cell_type": "code",
      "metadata": {
        "colab": {
          "base_uri": "https://localhost:8080/",
          "height": 466,
          "referenced_widgets": [
            "e0a47231c3f6469487826417142d2c17",
            "a774ec5a64354330878d63528ae61811",
            "ad4800c2400c47f790723dc0343e6c25",
            "dbb16a4a4c874e86b6fb21b54eb7eadc",
            "0f99a5126ada4419bc525f6e2ff85d9c",
            "3de2ed6ba6ce490cb84e80ddb7c5e93c",
            "e5dc25222e4b44efad80521257140530"
          ]
        },
        "id": "yXpcabGVAyy3",
        "outputId": "8dcbda8e-b0ee-43ba-bdb4-55528b58b81a"
      },
      "source": [
        "def explore_threshold2(y_true, y_pred_proba_2, threshold=0.5):\n",
        "    y_pred = y_pred_proba_2 >= threshold\n",
        "    vc = pd.Series(y_pred).value_counts()\n",
        "    ax = sns.histplot(y_pred_proba_2, kde=True)\n",
        "    ax.axvline(threshold, color='red')\n",
        "    ax.set_title(f'# of target, 1={vc[1]}, 0={vc[0]}')\n",
        "    plt.show()\n",
        "    print(classification_report(y_true, y_pred))\n",
        "\n",
        "    \n",
        "interact(explore_threshold2, \n",
        "    y_true=fixed(y_val), \n",
        "    y_pred_proba_2=fixed(y_pred_proba_2), \n",
        "    threshold=(0, 1, 0.01));"
      ],
      "execution_count": 51,
      "outputs": [
        {
          "output_type": "display_data",
          "data": {
            "application/vnd.jupyter.widget-view+json": {
              "model_id": "e0a47231c3f6469487826417142d2c17",
              "version_minor": 0,
              "version_major": 2
            },
            "text/plain": [
              "interactive(children=(FloatSlider(value=0.5, description='threshold', max=1.0, step=0.01), Output()), _dom_cla…"
            ]
          },
          "metadata": {}
        }
      ]
    },
    {
      "cell_type": "code",
      "metadata": {
        "colab": {
          "base_uri": "https://localhost:8080/",
          "height": 419
        },
        "id": "yMFW68XPA7qL",
        "outputId": "ff658c61-a231-4fb4-d5e2-38a0702c63c6"
      },
      "source": [
        "# roc_curve(타겟값, prob of 2)\n",
        "fpr2, tpr2, thresholds2 = roc_curve(y_val, y_pred_proba_2)\n",
        "\n",
        "roc2 = pd.DataFrame({\n",
        "    'FPR(Fall-out)': fpr2, \n",
        "    'TPRate(Recall)': tpr2, \n",
        "    'Threshold': thresholds2\n",
        "})\n",
        "roc2"
      ],
      "execution_count": 52,
      "outputs": [
        {
          "output_type": "execute_result",
          "data": {
            "text/html": [
              "<div>\n",
              "<style scoped>\n",
              "    .dataframe tbody tr th:only-of-type {\n",
              "        vertical-align: middle;\n",
              "    }\n",
              "\n",
              "    .dataframe tbody tr th {\n",
              "        vertical-align: top;\n",
              "    }\n",
              "\n",
              "    .dataframe thead th {\n",
              "        text-align: right;\n",
              "    }\n",
              "</style>\n",
              "<table border=\"1\" class=\"dataframe\">\n",
              "  <thead>\n",
              "    <tr style=\"text-align: right;\">\n",
              "      <th></th>\n",
              "      <th>FPR(Fall-out)</th>\n",
              "      <th>TPRate(Recall)</th>\n",
              "      <th>Threshold</th>\n",
              "    </tr>\n",
              "  </thead>\n",
              "  <tbody>\n",
              "    <tr>\n",
              "      <th>0</th>\n",
              "      <td>0.000000</td>\n",
              "      <td>0.000000</td>\n",
              "      <td>2.000000</td>\n",
              "    </tr>\n",
              "    <tr>\n",
              "      <th>1</th>\n",
              "      <td>0.000282</td>\n",
              "      <td>0.007317</td>\n",
              "      <td>1.000000</td>\n",
              "    </tr>\n",
              "    <tr>\n",
              "      <th>2</th>\n",
              "      <td>0.000282</td>\n",
              "      <td>0.008537</td>\n",
              "      <td>0.991748</td>\n",
              "    </tr>\n",
              "    <tr>\n",
              "      <th>3</th>\n",
              "      <td>0.000339</td>\n",
              "      <td>0.009350</td>\n",
              "      <td>0.990000</td>\n",
              "    </tr>\n",
              "    <tr>\n",
              "      <th>4</th>\n",
              "      <td>0.000339</td>\n",
              "      <td>0.010569</td>\n",
              "      <td>0.989851</td>\n",
              "    </tr>\n",
              "    <tr>\n",
              "      <th>...</th>\n",
              "      <td>...</td>\n",
              "      <td>...</td>\n",
              "      <td>...</td>\n",
              "    </tr>\n",
              "    <tr>\n",
              "      <th>1997</th>\n",
              "      <td>0.230056</td>\n",
              "      <td>0.998780</td>\n",
              "      <td>0.007966</td>\n",
              "    </tr>\n",
              "    <tr>\n",
              "      <th>1998</th>\n",
              "      <td>0.230395</td>\n",
              "      <td>0.998780</td>\n",
              "      <td>0.007822</td>\n",
              "    </tr>\n",
              "    <tr>\n",
              "      <th>1999</th>\n",
              "      <td>0.230565</td>\n",
              "      <td>0.998780</td>\n",
              "      <td>0.007548</td>\n",
              "    </tr>\n",
              "    <tr>\n",
              "      <th>2000</th>\n",
              "      <td>0.230791</td>\n",
              "      <td>0.998780</td>\n",
              "      <td>0.005896</td>\n",
              "    </tr>\n",
              "    <tr>\n",
              "      <th>2001</th>\n",
              "      <td>1.000000</td>\n",
              "      <td>1.000000</td>\n",
              "      <td>0.000000</td>\n",
              "    </tr>\n",
              "  </tbody>\n",
              "</table>\n",
              "<p>2002 rows × 3 columns</p>\n",
              "</div>"
            ],
            "text/plain": [
              "      FPR(Fall-out)  TPRate(Recall)  Threshold\n",
              "0          0.000000        0.000000   2.000000\n",
              "1          0.000282        0.007317   1.000000\n",
              "2          0.000282        0.008537   0.991748\n",
              "3          0.000339        0.009350   0.990000\n",
              "4          0.000339        0.010569   0.989851\n",
              "...             ...             ...        ...\n",
              "1997       0.230056        0.998780   0.007966\n",
              "1998       0.230395        0.998780   0.007822\n",
              "1999       0.230565        0.998780   0.007548\n",
              "2000       0.230791        0.998780   0.005896\n",
              "2001       1.000000        1.000000   0.000000\n",
              "\n",
              "[2002 rows x 3 columns]"
            ]
          },
          "metadata": {},
          "execution_count": 52
        }
      ]
    },
    {
      "cell_type": "code",
      "metadata": {
        "colab": {
          "base_uri": "https://localhost:8080/",
          "height": 295
        },
        "id": "UPp6RwWgBDG_",
        "outputId": "2d658245-ab95-4394-e4b8-6931e04cdfb4"
      },
      "source": [
        "plt.scatter(fpr2, tpr2)\n",
        "plt.title('ROC curve')\n",
        "plt.xlabel('FPR(Fall-out)')\n",
        "plt.ylabel('TPR(Recall)');"
      ],
      "execution_count": 53,
      "outputs": [
        {
          "output_type": "display_data",
          "data": {
            "image/png": "[encoded data removed]",
            "text/plain": [
              "<Figure size 432x288 with 1 Axes>"
            ]
          },
          "metadata": {
            "needs_background": "light"
          }
        }
      ]
    },
    {
      "cell_type": "code",
      "metadata": {
        "colab": {
          "base_uri": "https://localhost:8080/"
        },
        "id": "HiI1PWiCBHX1",
        "outputId": "969d295b-5b2e-4e93-a14d-3eb512ceafb3"
      },
      "source": [
        "# threshold 최대값의 인덱스, np.argmax()\n",
        "optimal_idx2 = np.argmax(tpr2 - fpr2)\n",
        "optimal_threshold2 = thresholds2[optimal_idx2]\n",
        "\n",
        "print('idx:', optimal_idx2, ', threshold:', optimal_threshold2)"
      ],
      "execution_count": 54,
      "outputs": [
        {
          "output_type": "stream",
          "name": "stdout",
          "text": [
            "idx: 1979 , threshold: 0.02509428389676481\n"
          ]
        }
      ]
    },
    {
      "cell_type": "code",
      "metadata": {
        "colab": {
          "base_uri": "https://localhost:8080/"
        },
        "id": "xn6kzoLiBYyp",
        "outputId": "7d2f5b11-d515-404a-8b88-b5a2b98b65b7"
      },
      "source": [
        "#AUC\n",
        "auc_score_2 = roc_auc_score(y_val, y_pred_proba_2)\n",
        "print('ACU:',auc_score_2)"
      ],
      "execution_count": 55,
      "outputs": [
        {
          "output_type": "stream",
          "name": "stdout",
          "text": [
            "ACU: 0.9329517707041478\n"
          ]
        }
      ]
    },
    {
      "cell_type": "markdown",
      "metadata": {
        "id": "rggc5rsqIGRP"
      },
      "source": [
        "\n",
        "\n",
        "---\n",
        "\n"
      ]
    },
    {
      "cell_type": "code",
      "metadata": {
        "id": "whcFN0Focmw9"
      },
      "source": [
        "#model_xgb"
      ],
      "execution_count": null,
      "outputs": []
    },
    {
      "cell_type": "code",
      "metadata": {
        "colab": {
          "base_uri": "https://localhost:8080/"
        },
        "id": "5u-2xUEWcoh1",
        "outputId": "d5168673-7a42-4eb5-e9e4-e97e2ec1cd83"
      },
      "source": [
        "model_xgb.predict_proba(X_val_encoded)"
      ],
      "execution_count": 56,
      "outputs": [
        {
          "output_type": "execute_result",
          "data": {
            "text/plain": [
              "array([[9.9745411e-01, 2.5458944e-03],\n",
              "       [9.9906766e-01, 9.3232992e-04],\n",
              "       [9.9901968e-01, 9.8032714e-04],\n",
              "       ...,\n",
              "       [9.9800670e-01, 1.9932778e-03],\n",
              "       [9.9641412e-01, 3.5858916e-03],\n",
              "       [9.5368373e-01, 4.6316296e-02]], dtype=float32)"
            ]
          },
          "metadata": {},
          "execution_count": 56
        }
      ]
    },
    {
      "cell_type": "code",
      "metadata": {
        "colab": {
          "base_uri": "https://localhost:8080/"
        },
        "id": "iB7_Gu_Ucv0d",
        "outputId": "bab0e8c7-24ae-44fc-8173-d962a02b7f21"
      },
      "source": [
        "y_pred_proba_3 = model_xgb.predict_proba(X_val_encoded)[:, 1]\n",
        "y_pred_proba_3"
      ],
      "execution_count": 57,
      "outputs": [
        {
          "output_type": "execute_result",
          "data": {
            "text/plain": [
              "array([0.00254589, 0.00093233, 0.00098033, ..., 0.00199328, 0.00358589,\n",
              "       0.0463163 ], dtype=float32)"
            ]
          },
          "metadata": {},
          "execution_count": 57
        }
      ]
    },
    {
      "cell_type": "code",
      "metadata": {
        "colab": {
          "base_uri": "https://localhost:8080/",
          "height": 466,
          "referenced_widgets": [
            "5829d7a9ae18432499ab173b7f6f40f2",
            "9379b7b51811497f8ed2b4d8e5dfc37f",
            "ffac738c24e842dbbf91e9d9a5da9e0d",
            "3c08bdca0e4c48248bfc3720f30ec079",
            "ec504de8fdcd4b38916183bb0204dca8",
            "85df5c79d254429fa1f86fe7c3a3745c",
            "c3773e14a1f646669b226c2cc9d801bd"
          ]
        },
        "id": "zCk7HGxlyneV",
        "outputId": "fe1dc629-ecbe-40ed-e90e-efb5becbeab8"
      },
      "source": [
        "def explore_threshold3(y_true, y_pred_proba_3, threshold=0.5):\n",
        "    y_pred = y_pred_proba_3 >= threshold\n",
        "    vc = pd.Series(y_pred).value_counts()\n",
        "    ax = sns.histplot(y_pred_proba_3, kde=True)\n",
        "    ax.axvline(threshold, color='red')\n",
        "    ax.set_title(f'# of target, 1={vc[1]}, 0={vc[0]}')\n",
        "    plt.show()\n",
        "    print(classification_report(y_true, y_pred))\n",
        "\n",
        "    \n",
        "interact(explore_threshold3, \n",
        "    y_true=fixed(y_val), \n",
        "    y_pred_proba_3=fixed(y_pred_proba_3), \n",
        "    threshold=(0, 1, 0.01));"
      ],
      "execution_count": 58,
      "outputs": [
        {
          "output_type": "display_data",
          "data": {
            "application/vnd.jupyter.widget-view+json": {
              "model_id": "5829d7a9ae18432499ab173b7f6f40f2",
              "version_minor": 0,
              "version_major": 2
            },
            "text/plain": [
              "interactive(children=(FloatSlider(value=0.5, description='threshold', max=1.0, step=0.01), Output()), _dom_cla…"
            ]
          },
          "metadata": {}
        }
      ]
    },
    {
      "cell_type": "code",
      "metadata": {
        "colab": {
          "base_uri": "https://localhost:8080/",
          "height": 419
        },
        "id": "I1gmz_VWc3T7",
        "outputId": "ecd659ed-f875-4d89-bd9d-4b570231138c"
      },
      "source": [
        "# roc_curve(타겟값, prob of 3)\n",
        "fpr3, tpr3, thresholds3 = roc_curve(y_val, y_pred_proba_3)\n",
        "\n",
        "roc3 = pd.DataFrame({\n",
        "    'FPR(Fall-out)': fpr3, \n",
        "    'TPRate(Recall)': tpr3, \n",
        "    'Threshold': thresholds3\n",
        "})\n",
        "roc3"
      ],
      "execution_count": 59,
      "outputs": [
        {
          "output_type": "execute_result",
          "data": {
            "text/html": [
              "<div>\n",
              "<style scoped>\n",
              "    .dataframe tbody tr th:only-of-type {\n",
              "        vertical-align: middle;\n",
              "    }\n",
              "\n",
              "    .dataframe tbody tr th {\n",
              "        vertical-align: top;\n",
              "    }\n",
              "\n",
              "    .dataframe thead th {\n",
              "        text-align: right;\n",
              "    }\n",
              "</style>\n",
              "<table border=\"1\" class=\"dataframe\">\n",
              "  <thead>\n",
              "    <tr style=\"text-align: right;\">\n",
              "      <th></th>\n",
              "      <th>FPR(Fall-out)</th>\n",
              "      <th>TPRate(Recall)</th>\n",
              "      <th>Threshold</th>\n",
              "    </tr>\n",
              "  </thead>\n",
              "  <tbody>\n",
              "    <tr>\n",
              "      <th>0</th>\n",
              "      <td>0.000000</td>\n",
              "      <td>0.000000</td>\n",
              "      <td>1.999669</td>\n",
              "    </tr>\n",
              "    <tr>\n",
              "      <th>1</th>\n",
              "      <td>0.000000</td>\n",
              "      <td>0.000813</td>\n",
              "      <td>0.999669</td>\n",
              "    </tr>\n",
              "    <tr>\n",
              "      <th>2</th>\n",
              "      <td>0.000113</td>\n",
              "      <td>0.001220</td>\n",
              "      <td>0.999552</td>\n",
              "    </tr>\n",
              "    <tr>\n",
              "      <th>3</th>\n",
              "      <td>0.000113</td>\n",
              "      <td>0.002439</td>\n",
              "      <td>0.999421</td>\n",
              "    </tr>\n",
              "    <tr>\n",
              "      <th>4</th>\n",
              "      <td>0.000169</td>\n",
              "      <td>0.002439</td>\n",
              "      <td>0.999141</td>\n",
              "    </tr>\n",
              "    <tr>\n",
              "      <th>...</th>\n",
              "      <td>...</td>\n",
              "      <td>...</td>\n",
              "      <td>...</td>\n",
              "    </tr>\n",
              "    <tr>\n",
              "      <th>6025</th>\n",
              "      <td>0.999379</td>\n",
              "      <td>1.000000</td>\n",
              "      <td>0.000032</td>\n",
              "    </tr>\n",
              "    <tr>\n",
              "      <th>6026</th>\n",
              "      <td>0.999548</td>\n",
              "      <td>1.000000</td>\n",
              "      <td>0.000030</td>\n",
              "    </tr>\n",
              "    <tr>\n",
              "      <th>6027</th>\n",
              "      <td>0.999774</td>\n",
              "      <td>1.000000</td>\n",
              "      <td>0.000027</td>\n",
              "    </tr>\n",
              "    <tr>\n",
              "      <th>6028</th>\n",
              "      <td>0.999944</td>\n",
              "      <td>1.000000</td>\n",
              "      <td>0.000020</td>\n",
              "    </tr>\n",
              "    <tr>\n",
              "      <th>6029</th>\n",
              "      <td>1.000000</td>\n",
              "      <td>1.000000</td>\n",
              "      <td>0.000013</td>\n",
              "    </tr>\n",
              "  </tbody>\n",
              "</table>\n",
              "<p>6030 rows × 3 columns</p>\n",
              "</div>"
            ],
            "text/plain": [
              "      FPR(Fall-out)  TPRate(Recall)  Threshold\n",
              "0          0.000000        0.000000   1.999669\n",
              "1          0.000000        0.000813   0.999669\n",
              "2          0.000113        0.001220   0.999552\n",
              "3          0.000113        0.002439   0.999421\n",
              "4          0.000169        0.002439   0.999141\n",
              "...             ...             ...        ...\n",
              "6025       0.999379        1.000000   0.000032\n",
              "6026       0.999548        1.000000   0.000030\n",
              "6027       0.999774        1.000000   0.000027\n",
              "6028       0.999944        1.000000   0.000020\n",
              "6029       1.000000        1.000000   0.000013\n",
              "\n",
              "[6030 rows x 3 columns]"
            ]
          },
          "metadata": {},
          "execution_count": 59
        }
      ]
    },
    {
      "cell_type": "code",
      "metadata": {
        "colab": {
          "base_uri": "https://localhost:8080/",
          "height": 295
        },
        "id": "26zkHgwPc8AE",
        "outputId": "453a5e9d-1d45-42b6-ea54-027a5bbff8fe"
      },
      "source": [
        "plt.scatter(fpr3, tpr3)\n",
        "plt.title('ROC curve')\n",
        "plt.xlabel('FPR(Fall-out)')\n",
        "plt.ylabel('TPR(Recall)');"
      ],
      "execution_count": 60,
      "outputs": [
        {
          "output_type": "display_data",
          "data": {
            "image/png": "[encoded data removed]",
            "text/plain": [
              "<Figure size 432x288 with 1 Axes>"
            ]
          },
          "metadata": {
            "needs_background": "light"
          }
        }
      ]
    },
    {
      "cell_type": "code",
      "metadata": {
        "colab": {
          "base_uri": "https://localhost:8080/"
        },
        "id": "b37uXHqOdAML",
        "outputId": "81a76145-492e-48f0-db84-24936fd29942"
      },
      "source": [
        "# threshold 최대값의 인덱스, np.argmax()\n",
        "optimal_idx3 = np.argmax(tpr3 - fpr3)\n",
        "optimal_threshold3 = thresholds3[optimal_idx3]\n",
        "\n",
        "print('idx:', optimal_idx3, ', threshold:', optimal_threshold3)"
      ],
      "execution_count": 61,
      "outputs": [
        {
          "output_type": "stream",
          "name": "stdout",
          "text": [
            "idx: 1819 , threshold: 0.0060815765\n"
          ]
        }
      ]
    },
    {
      "cell_type": "code",
      "metadata": {
        "colab": {
          "base_uri": "https://localhost:8080/"
        },
        "id": "LfEABJfxdEf4",
        "outputId": "6ddcebcf-bd32-4998-a9c5-25612f8f4f07"
      },
      "source": [
        "#AUC\n",
        "auc_score_3 = roc_auc_score(y_val, y_pred_proba_3)\n",
        "print('ACU:',auc_score_3)"
      ],
      "execution_count": 62,
      "outputs": [
        {
          "output_type": "stream",
          "name": "stdout",
          "text": [
            "ACU: 0.9200621124431584\n"
          ]
        }
      ]
    },
    {
      "cell_type": "markdown",
      "metadata": {
        "id": "2OMh9jPigoe1"
      },
      "source": [
        "- AUC scored에서 RandomizedSearch CV모델이 더 높았다.\n",
        "  - RandomizedSearch CV모델의 AUC: 0.933\n",
        "  - 기본 모델의 AUC: 0.932\n",
        "  - XGBoose모델의 AUC: 0.920"
      ]
    },
    {
      "cell_type": "markdown",
      "metadata": {
        "id": "kX2X8JErgCAA"
      },
      "source": [
        "\n",
        "\n",
        "---\n",
        "\n",
        "\n"
      ]
    },
    {
      "cell_type": "code",
      "metadata": {
        "id": "xw6ClejggMFw"
      },
      "source": [
        "#confusion matrix"
      ],
      "execution_count": null,
      "outputs": []
    },
    {
      "cell_type": "code",
      "metadata": {
        "colab": {
          "base_uri": "https://localhost:8080/",
          "height": 297
        },
        "id": "hheYLPKFgPn0",
        "outputId": "a677d4a1-6638-4726-d917-8f3bc5de78b6"
      },
      "source": [
        "#confusion matrix\n",
        "\n",
        "fig, ax = plt.subplots()\n",
        "pcm = plot_confusion_matrix(best_model_randf, X_val, y_val,\n",
        "                            cmap=plt.cm.Blues,\n",
        "                            ax=ax, values_format='');\n",
        "plt.title(f'Confusion matrix, n = {len(y_val)}', fontsize=15)\n",
        "plt.show()"
      ],
      "execution_count": 63,
      "outputs": [
        {
          "output_type": "display_data",
          "data": {
            "image/png": "[encoded data removed]",
            "text/plain": [
              "<Figure size 432x288 with 2 Axes>"
            ]
          },
          "metadata": {
            "needs_background": "light"
          }
        }
      ]
    },
    {
      "cell_type": "markdown",
      "metadata": {
        "id": "KUmG9gFmz_LI"
      },
      "source": [
        "\n",
        "\n",
        "---\n",
        "\n",
        "\n",
        "\n",
        "---\n",
        "\n"
      ]
    },
    {
      "cell_type": "code",
      "metadata": {
        "id": "MciYbx6wOlBC"
      },
      "source": [
        "# permuter 정의\n",
        "permuter = PermutationImportance(\n",
        "    best_model_randf.named_steps['randomforestclassifier'],\n",
        "    scoring='accuracy', \n",
        "    n_iter=5,\n",
        "    random_state=2\n",
        ")\n",
        "\n",
        "X_val_transformed = best_model_randf.named_steps['ordinalencoder'].transform(X_val)\n",
        "\n",
        "permuter.fit(X_val_transformed, y_val);"
      ],
      "execution_count": 64,
      "outputs": []
    },
    {
      "cell_type": "code",
      "metadata": {
        "colab": {
          "base_uri": "https://localhost:8080/"
        },
        "id": "hl52Rb8MRWcX",
        "outputId": "6e3b38ca-e91b-4dfd-b905-15f34447258a"
      },
      "source": [
        "feature_names = X_val.columns.tolist()\n",
        "pd.Series(permuter.feature_importances_, feature_names).sort_values()"
      ],
      "execution_count": 65,
      "outputs": [
        {
          "output_type": "execute_result",
          "data": {
            "text/plain": [
              "Car_Ownership       -0.000933\n",
              "House_Ownership     -0.000040\n",
              "Married/Single       0.000615\n",
              "Age Group            0.001498\n",
              "CURRENT_HOUSE_YRS    0.003085\n",
              "Experience           0.005734\n",
              "Income               0.005823\n",
              "Profession           0.006806\n",
              "CURRENT_JOB_YRS      0.007103\n",
              "STATE                0.007292\n",
              "Age                  0.010714\n",
              "dtype: float64"
            ]
          },
          "metadata": {},
          "execution_count": 65
        }
      ]
    },
    {
      "cell_type": "code",
      "metadata": {
        "colab": {
          "base_uri": "https://localhost:8080/",
          "height": 221
        },
        "id": "Unz0NlDwRaVG",
        "outputId": "4009ef62-9fc3-48cc-8e47-e2b966864684"
      },
      "source": [
        "# 특성별 score 확인\n",
        "permutation = eli5.show_weights(\n",
        "    permuter, \n",
        "    top=None, # top n 지정 가능, None 일 경우 모든 특성 \n",
        "    feature_names=feature_names # list 형식으로 넣어야 합니다\n",
        ")\n",
        "permutation"
      ],
      "execution_count": 66,
      "outputs": [
        {
          "output_type": "execute_result",
          "data": {
            "text/html": [
              "\n",
              "    <style>\n",
              "    table.eli5-weights tr:hover {\n",
              "        filter: brightness(85%);\n",
              "    }\n",
              "</style>\n",
              "\n",
              "\n",
              "\n",
              "    \n",
              "\n",
              "    \n",
              "\n",
              "    \n",
              "\n",
              "    \n",
              "\n",
              "    \n",
              "\n",
              "    \n",
              "\n",
              "\n",
              "    \n",
              "\n",
              "    \n",
              "\n",
              "    \n",
              "\n",
              "    \n",
              "\n",
              "    \n",
              "\n",
              "    \n",
              "\n",
              "\n",
              "    \n",
              "\n",
              "    \n",
              "\n",
              "    \n",
              "\n",
              "    \n",
              "\n",
              "    \n",
              "        <table class=\"eli5-weights eli5-feature-importances\" style=\"border-collapse: collapse; border: none; margin-top: 0em; table-layout: auto;\">\n",
              "    <thead>\n",
              "    <tr style=\"border: none;\">\n",
              "        <th style=\"padding: 0 1em 0 0.5em; text-align: right; border: none;\">Weight</th>\n",
              "        <th style=\"padding: 0 0.5em 0 0.5em; text-align: left; border: none;\">Feature</th>\n",
              "    </tr>\n",
              "    </thead>\n",
              "    <tbody>\n",
              "    \n",
              "        <tr style=\"background-color: hsl(120, 100.00%, 80.00%); border: none;\">\n",
              "            <td style=\"padding: 0 1em 0 0.5em; text-align: right; border: none;\">\n",
              "                0.0107\n",
              "                \n",
              "                    &plusmn; 0.0023\n",
              "                \n",
              "            </td>\n",
              "            <td style=\"padding: 0 0.5em 0 0.5em; text-align: left; border: none;\">\n",
              "                Age\n",
              "            </td>\n",
              "        </tr>\n",
              "    \n",
              "        <tr style=\"background-color: hsl(120, 100.00%, 84.72%); border: none;\">\n",
              "            <td style=\"padding: 0 1em 0 0.5em; text-align: right; border: none;\">\n",
              "                0.0073\n",
              "                \n",
              "                    &plusmn; 0.0029\n",
              "                \n",
              "            </td>\n",
              "            <td style=\"padding: 0 0.5em 0 0.5em; text-align: left; border: none;\">\n",
              "                STATE\n",
              "            </td>\n",
              "        </tr>\n",
              "    \n",
              "        <tr style=\"background-color: hsl(120, 100.00%, 85.00%); border: none;\">\n",
              "            <td style=\"padding: 0 1em 0 0.5em; text-align: right; border: none;\">\n",
              "                0.0071\n",
              "                \n",
              "                    &plusmn; 0.0017\n",
              "                \n",
              "            </td>\n",
              "            <td style=\"padding: 0 0.5em 0 0.5em; text-align: left; border: none;\">\n",
              "                CURRENT_JOB_YRS\n",
              "            </td>\n",
              "        </tr>\n",
              "    \n",
              "        <tr style=\"background-color: hsl(120, 100.00%, 85.44%); border: none;\">\n",
              "            <td style=\"padding: 0 1em 0 0.5em; text-align: right; border: none;\">\n",
              "                0.0068\n",
              "                \n",
              "                    &plusmn; 0.0028\n",
              "                \n",
              "            </td>\n",
              "            <td style=\"padding: 0 0.5em 0 0.5em; text-align: left; border: none;\">\n",
              "                Profession\n",
              "            </td>\n",
              "        </tr>\n",
              "    \n",
              "        <tr style=\"background-color: hsl(120, 100.00%, 86.95%); border: none;\">\n",
              "            <td style=\"padding: 0 1em 0 0.5em; text-align: right; border: none;\">\n",
              "                0.0058\n",
              "                \n",
              "                    &plusmn; 0.0014\n",
              "                \n",
              "            </td>\n",
              "            <td style=\"padding: 0 0.5em 0 0.5em; text-align: left; border: none;\">\n",
              "                Income\n",
              "            </td>\n",
              "        </tr>\n",
              "    \n",
              "        <tr style=\"background-color: hsl(120, 100.00%, 87.09%); border: none;\">\n",
              "            <td style=\"padding: 0 1em 0 0.5em; text-align: right; border: none;\">\n",
              "                0.0057\n",
              "                \n",
              "                    &plusmn; 0.0028\n",
              "                \n",
              "            </td>\n",
              "            <td style=\"padding: 0 0.5em 0 0.5em; text-align: left; border: none;\">\n",
              "                Experience\n",
              "            </td>\n",
              "        </tr>\n",
              "    \n",
              "        <tr style=\"background-color: hsl(120, 100.00%, 91.63%); border: none;\">\n",
              "            <td style=\"padding: 0 1em 0 0.5em; text-align: right; border: none;\">\n",
              "                0.0031\n",
              "                \n",
              "                    &plusmn; 0.0021\n",
              "                \n",
              "            </td>\n",
              "            <td style=\"padding: 0 0.5em 0 0.5em; text-align: left; border: none;\">\n",
              "                CURRENT_HOUSE_YRS\n",
              "            </td>\n",
              "        </tr>\n",
              "    \n",
              "        <tr style=\"background-color: hsl(120, 100.00%, 94.95%); border: none;\">\n",
              "            <td style=\"padding: 0 1em 0 0.5em; text-align: right; border: none;\">\n",
              "                0.0015\n",
              "                \n",
              "                    &plusmn; 0.0019\n",
              "                \n",
              "            </td>\n",
              "            <td style=\"padding: 0 0.5em 0 0.5em; text-align: left; border: none;\">\n",
              "                Age Group\n",
              "            </td>\n",
              "        </tr>\n",
              "    \n",
              "        <tr style=\"background-color: hsl(120, 100.00%, 97.29%); border: none;\">\n",
              "            <td style=\"padding: 0 1em 0 0.5em; text-align: right; border: none;\">\n",
              "                0.0006\n",
              "                \n",
              "                    &plusmn; 0.0011\n",
              "                \n",
              "            </td>\n",
              "            <td style=\"padding: 0 0.5em 0 0.5em; text-align: left; border: none;\">\n",
              "                Married/Single\n",
              "            </td>\n",
              "        </tr>\n",
              "    \n",
              "        <tr style=\"background-color: hsl(0, 100.00%, 99.60%); border: none;\">\n",
              "            <td style=\"padding: 0 1em 0 0.5em; text-align: right; border: none;\">\n",
              "                -0.0000\n",
              "                \n",
              "                    &plusmn; 0.0011\n",
              "                \n",
              "            </td>\n",
              "            <td style=\"padding: 0 0.5em 0 0.5em; text-align: left; border: none;\">\n",
              "                House_Ownership\n",
              "            </td>\n",
              "        </tr>\n",
              "    \n",
              "        <tr style=\"background-color: hsl(0, 100.00%, 96.38%); border: none;\">\n",
              "            <td style=\"padding: 0 1em 0 0.5em; text-align: right; border: none;\">\n",
              "                -0.0009\n",
              "                \n",
              "                    &plusmn; 0.0013\n",
              "                \n",
              "            </td>\n",
              "            <td style=\"padding: 0 0.5em 0 0.5em; text-align: left; border: none;\">\n",
              "                Car_Ownership\n",
              "            </td>\n",
              "        </tr>\n",
              "    \n",
              "    \n",
              "    </tbody>\n",
              "</table>\n",
              "    \n",
              "\n",
              "    \n",
              "\n",
              "\n",
              "    \n",
              "\n",
              "    \n",
              "\n",
              "    \n",
              "\n",
              "    \n",
              "\n",
              "    \n",
              "\n",
              "    \n",
              "\n",
              "\n",
              "\n"
            ],
            "text/plain": [
              "<IPython.core.display.HTML object>"
            ]
          },
          "metadata": {},
          "execution_count": 66
        }
      ]
    },
    {
      "cell_type": "code",
      "metadata": {
        "id": "RaS__WjSc9m9"
      },
      "source": [
        "minimum_importance = 0.002\n",
        "mask = permuter.feature_importances_ > minimum_importance\n",
        "features = X_train.columns[mask]\n",
        "X_train_selected = X_train[features]\n",
        "X_val_selected = X_val[features]"
      ],
      "execution_count": 67,
      "outputs": []
    },
    {
      "cell_type": "code",
      "metadata": {
        "colab": {
          "base_uri": "https://localhost:8080/"
        },
        "id": "h6OjvsLjdZkO",
        "outputId": "a52f1008-ac93-4ccf-9f06-7fae7a5d3c33"
      },
      "source": [
        "print('특성 삭제 후:', X_train_selected.shape, X_val_selected.shape)"
      ],
      "execution_count": 68,
      "outputs": [
        {
          "output_type": "stream",
          "name": "stdout",
          "text": [
            "특성 삭제 후: (80640, 7) (20160, 7)\n"
          ]
        }
      ]
    },
    {
      "cell_type": "code",
      "metadata": {
        "id": "aDZZGSOzdkNh"
      },
      "source": [
        "best_model_randf_selected = make_pipeline(\n",
        "    OrdinalEncoder(), \n",
        "    RandomForestClassifier(n_estimators=100, \n",
        "                           random_state=2, \n",
        "                           class_weight='balanced',\n",
        "                           n_jobs=-1, \n",
        "                           min_samples_split=8)\n",
        ")\n",
        "best_model_randf_selected.fit(X_train_selected, y_train);"
      ],
      "execution_count": 69,
      "outputs": []
    },
    {
      "cell_type": "code",
      "metadata": {
        "colab": {
          "base_uri": "https://localhost:8080/"
        },
        "id": "-rVTfnCvfcpQ",
        "outputId": "ed31e7e9-0a66-409f-d5e4-4c0bd1258821"
      },
      "source": [
        "y_pred_permu = best_model_randf_selected.predict(X_val_selected)\n",
        "f1_permu = f1_score(y_val, y_pred_permu)\n",
        "print(f'검증세트 f1:{f1_permu}')\n"
      ],
      "execution_count": 70,
      "outputs": [
        {
          "output_type": "stream",
          "name": "stdout",
          "text": [
            "검증세트 f1:0.6316150025689331\n"
          ]
        }
      ]
    },
    {
      "cell_type": "markdown",
      "metadata": {
        "id": "HBgTFT6fQCSe"
      },
      "source": [
        "- 특성중요도가 0.002이하인 특성을 삭제해보니\n",
        "  - 특성을 삭제하기 전(0.6320)보다 성능이 조금 떨어졌다(0.6316).\n",
        "  - 하지만 성능이 크게 저하된 것이 아니기 때문에, 매우 중요한 특성이라고 보기는 어렵다.\n",
        "\n",
        "- 특성중요도가 0.005이하인 특성을 삭제해보니\n",
        "  - 위의 경우보다 성능이 더 떨어진다.(0.630)\n",
        "  - 따라서 특성 중요도가 0.002보다 높고, 0.005보다 낮은 특성은 중요한 특성으로 볼 수 있다.\n",
        "\n",
        "- 위 실험으로 중요하지 않은 특성은 삭제해도 성능에 크게 문제가 없으나, 중요한 특성을 삭제하면 성능에 영향을 크게 미친다는 것을 알 수 있다."
      ]
    },
    {
      "cell_type": "markdown",
      "metadata": {
        "id": "TPbgVVJ2j2Fg"
      },
      "source": [
        "\n",
        "\n",
        "---\n",
        "\n"
      ]
    },
    {
      "cell_type": "code",
      "metadata": {
        "id": "priY0Usb0AzR"
      },
      "source": [
        "#PDP, SHAP"
      ],
      "execution_count": null,
      "outputs": []
    },
    {
      "cell_type": "code",
      "metadata": {
        "id": "Fc2RzarPAZVF"
      },
      "source": [
        "##PDP\n",
        "\n",
        "encoder_pdp = best_model_randf.named_steps['ordinalencoder']\n",
        "X_train_enc_pdp = encoder_pdp.fit_transform(X_train)\n",
        "X_val_enc_pdp = encoder_pdp.transform(X_val)\n",
        "rf_pdp = best_model_randf.named_steps['randomforestclassifier']"
      ],
      "execution_count": 72,
      "outputs": []
    },
    {
      "cell_type": "code",
      "metadata": {
        "colab": {
          "base_uri": "https://localhost:8080/",
          "height": 1000
        },
        "id": "KswiVWc04xH5",
        "outputId": "b5d66638-8a7e-468c-b3a6-1aec1070f5ec"
      },
      "source": [
        "feature_categ1 = X_val_enc_pdp.drop(['Married/Single','Car_Ownership','House_Ownership'],axis=1).columns\n",
        "\n",
        "\n",
        "\n",
        "for f in feature_categ1:\n",
        "    isolated1 = pdp_isolate(\n",
        "    model=rf_pdp, \n",
        "    dataset=X_val_enc_pdp, \n",
        "    model_features=X_val.columns, \n",
        "    feature=f,\n",
        "    )\n",
        "    \n",
        "    pdp_plot(isolated1, feature_name=f);"
      ],
      "execution_count": 202,
      "outputs": [
        {
          "output_type": "stream",
          "name": "stderr",
          "text": [
            "findfont: Font family ['Arial'] not found. Falling back to DejaVu Sans.\n",
            "findfont: Font family ['Arial'] not found. Falling back to DejaVu Sans.\n",
            "findfont: Font family ['Arial'] not found. Falling back to DejaVu Sans.\n",
            "findfont: Font family ['Arial'] not found. Falling back to DejaVu Sans.\n"
          ]
        },
        {
          "output_type": "display_data",
          "data": {
            "image/png": "[encoded data removed]",
            "text/plain": [
              "<Figure size 1080x684 with 2 Axes>"
            ]
          },
          "metadata": {
            "needs_background": "light"
          }
        },
        {
          "output_type": "display_data",
          "data": {
            "image/png": "[encoded data removed]",
            "text/plain": [
              "<Figure size 1080x684 with 2 Axes>"
            ]
          },
          "metadata": {
            "needs_background": "light"
          }
        },
        {
          "output_type": "display_data",
          "data": {
            "image/png": "[encoded data removed]",
            "text/plain": [
              "<Figure size 1080x684 with 2 Axes>"
            ]
          },
          "metadata": {
            "needs_background": "light"
          }
        },
        {
          "output_type": "display_data",
          "data": {
            "image/png": "[encoded data removed]",
            "text/plain": [
              "<Figure size 1080x684 with 2 Axes>"
            ]
          },
          "metadata": {
            "needs_background": "light"
          }
        },
        {
          "output_type": "display_data",
          "data": {
            "image/png": "[encoded data removed]",
            "text/plain": [
              "<Figure size 1080x684 with 2 Axes>"
            ]
          },
          "metadata": {
            "needs_background": "light"
          }
        },
        {
          "output_type": "display_data",
          "data": {
            "image/png": "[encoded data removed]",
            "text/plain": [
              "<Figure size 1080x684 with 2 Axes>"
            ]
          },
          "metadata": {
            "needs_background": "light"
          }
        },
        {
          "output_type": "display_data",
          "data": {
            "image/png": "[encoded data removed]",
            "text/plain": [
              "<Figure size 1080x684 with 2 Axes>"
            ]
          },
          "metadata": {
            "needs_background": "light"
          }
        },
        {
          "output_type": "display_data",
          "data": {
            "image/png": "[encoded data removed]",
            "text/plain": [
              "<Figure size 1080x684 with 2 Axes>"
            ]
          },
          "metadata": {
            "needs_background": "light"
          }
        }
      ]
    },
    {
      "cell_type": "code",
      "metadata": {
        "colab": {
          "base_uri": "https://localhost:8080/",
          "height": 578
        },
        "id": "WmyXCacfM0Ru",
        "outputId": "e118de96-0ff9-43eb-8090-cb57ec39fd2b"
      },
      "source": [
        "feature_categ2 = X_val.columns\n",
        "feature1 = 'Married/Single'\n",
        "pdp_dist = pdp.pdp_isolate(model=rf_pdp, \n",
        "                           dataset=X_val_enc_pdp, \n",
        "                           model_features=feature_categ2, \n",
        "                           feature=feature1)\n",
        "\n",
        "#카테고리값 맵핑\n",
        "\n",
        "for item in encoder.mapping:\n",
        "  if item['col'] == feature1:\n",
        "    feature_mapping1 = item['mapping']\n",
        "\n",
        "feature_mapping1 = feature_mapping1[feature_mapping1.index.dropna()]\n",
        "category_names1 = feature_mapping1.index.tolist()\n",
        "category_codes1 = feature_mapping1.values.tolist()\n",
        "\n",
        "#PDP\n",
        "\n",
        "pdp.pdp_plot(pdp_dist, feature1)\n",
        "\n",
        "plt.xticks(category_codes1, category_names1);"
      ],
      "execution_count": 203,
      "outputs": [
        {
          "output_type": "display_data",
          "data": {
            "image/png": "[encoded data removed]",
            "text/plain": [
              "<Figure size 1080x684 with 2 Axes>"
            ]
          },
          "metadata": {
            "needs_background": "light"
          }
        }
      ]
    },
    {
      "cell_type": "code",
      "metadata": {
        "colab": {
          "base_uri": "https://localhost:8080/",
          "height": 580
        },
        "id": "nUsJeQBXNf_3",
        "outputId": "f6831f80-d107-4296-cc92-c84de460b114"
      },
      "source": [
        "feature1 = 'House_Ownership'\n",
        "pdp_dist = pdp.pdp_isolate(model=rf_pdp, \n",
        "                           dataset=X_val_enc_pdp, \n",
        "                           model_features=feature_categ2, \n",
        "                           feature=feature1)\n",
        "\n",
        "#카테고리값 맵핑\n",
        "\n",
        "for item in encoder.mapping:\n",
        "  if item['col'] == feature1:\n",
        "    feature_mapping1 = item['mapping']\n",
        "\n",
        "feature_mapping1 = feature_mapping1[feature_mapping1.index.dropna()]\n",
        "category_names1 = feature_mapping1.index.tolist()\n",
        "category_codes1 = feature_mapping1.values.tolist()\n",
        "\n",
        "#PDP\n",
        "\n",
        "pdp.pdp_plot(pdp_dist, feature1)\n",
        "\n",
        "plt.xticks(category_codes1, category_names1);"
      ],
      "execution_count": 204,
      "outputs": [
        {
          "output_type": "display_data",
          "data": {
            "image/png": "[encoded data removed]",
            "text/plain": [
              "<Figure size 1080x684 with 2 Axes>"
            ]
          },
          "metadata": {
            "needs_background": "light"
          }
        }
      ]
    },
    {
      "cell_type": "code",
      "metadata": {
        "colab": {
          "base_uri": "https://localhost:8080/",
          "height": 579
        },
        "id": "IspfkgG2Nndn",
        "outputId": "8d9f3d1d-77a8-41d0-fb00-18409224041b"
      },
      "source": [
        "feature1 = 'Car_Ownership'\n",
        "pdp_dist = pdp.pdp_isolate(model=rf_pdp, \n",
        "                           dataset=X_val_enc_pdp, \n",
        "                           model_features=feature_categ2, \n",
        "                           feature=feature1)\n",
        "\n",
        "#카테고리값 맵핑\n",
        "\n",
        "for item in encoder.mapping:\n",
        "  if item['col'] == feature1:\n",
        "    feature_mapping1 = item['mapping']\n",
        "\n",
        "feature_mapping1 = feature_mapping1[feature_mapping1.index.dropna()]\n",
        "category_names1 = feature_mapping1.index.tolist()\n",
        "category_codes1 = feature_mapping1.values.tolist()\n",
        "\n",
        "#PDP\n",
        "\n",
        "pdp.pdp_plot(pdp_dist, feature1)\n",
        "\n",
        "plt.xticks(category_codes1, category_names1);"
      ],
      "execution_count": 205,
      "outputs": [
        {
          "output_type": "display_data",
          "data": {
            "image/png": "[encoded data removed]",
            "text/plain": [
              "<Figure size 1080x684 with 2 Axes>"
            ]
          },
          "metadata": {
            "needs_background": "light"
          }
        }
      ]
    },
    {
      "cell_type": "code",
      "metadata": {
        "colab": {
          "base_uri": "https://localhost:8080/",
          "height": 673
        },
        "id": "U_MZvrEoRvkc",
        "outputId": "da1bcf2d-da91-4e06-cfd0-f7b247222f50"
      },
      "source": [
        "feature1 = 'STATE'\n",
        "pdp_dist = pdp.pdp_isolate(model=rf_pdp, \n",
        "                           dataset=X_val_enc_pdp, \n",
        "                           model_features=feature_categ2, \n",
        "                           feature=feature1)\n",
        "\n",
        "#카테고리값 맵핑\n",
        "\n",
        "for item in encoder.mapping:\n",
        "  if item['col'] == feature1:\n",
        "    feature_mapping1 = item['mapping']\n",
        "\n",
        "feature_mapping1 = feature_mapping1[feature_mapping1.index.dropna()]\n",
        "category_names1 = feature_mapping1.index.tolist()\n",
        "category_codes1 = feature_mapping1.values.tolist()\n",
        "\n",
        "#PDP\n",
        "\n",
        "pdp.pdp_plot(pdp_dist, feature1)\n",
        "\n",
        "plt.xticks(category_codes1, category_names1, rotation=90);"
      ],
      "execution_count": 209,
      "outputs": [
        {
          "output_type": "display_data",
          "data": {
            "image/png": "[encoded data removed]",
            "text/plain": [
              "<Figure size 1080x684 with 2 Axes>"
            ]
          },
          "metadata": {
            "needs_background": "light"
          }
        }
      ]
    },
    {
      "cell_type": "code",
      "metadata": {
        "id": "lIIwEie3veYX"
      },
      "source": [
        "##SHAP\n",
        "import shap\n",
        "\n",
        "explainer = shap.TreeExplainer(rf_pdp)\n",
        "shpa_values = explainer.shap_values(X_val_enc_pdp.iloc[:100])"
      ],
      "execution_count": 73,
      "outputs": []
    },
    {
      "cell_type": "code",
      "metadata": {
        "colab": {
          "base_uri": "https://localhost:8080/",
          "height": 386
        },
        "id": "JOVDgpy_QtZD",
        "outputId": "dbe824ce-8e69-4108-9798-1ce19b973a52"
      },
      "source": [
        "shap.summary_plot(shpa_values, X_val, plot_type=\"bar\")"
      ],
      "execution_count": 74,
      "outputs": [
        {
          "output_type": "display_data",
          "data": {
            "image/png": "[encoded data removed]",
            "text/plain": [
              "<Figure size 576x424.8 with 1 Axes>"
            ]
          },
          "metadata": {
            "needs_background": "light"
          }
        }
      ]
    },
    {
      "cell_type": "code",
      "metadata": {
        "colab": {
          "base_uri": "https://localhost:8080/",
          "height": 221
        },
        "id": "URn_VUf8Sm_5",
        "outputId": "2e78a2a4-9a8a-42bb-c483-26f7c5042cb7"
      },
      "source": [
        "permutation"
      ],
      "execution_count": 213,
      "outputs": [
        {
          "output_type": "execute_result",
          "data": {
            "text/html": [
              "\n",
              "    <style>\n",
              "    table.eli5-weights tr:hover {\n",
              "        filter: brightness(85%);\n",
              "    }\n",
              "</style>\n",
              "\n",
              "\n",
              "\n",
              "    \n",
              "\n",
              "    \n",
              "\n",
              "    \n",
              "\n",
              "    \n",
              "\n",
              "    \n",
              "\n",
              "    \n",
              "\n",
              "\n",
              "    \n",
              "\n",
              "    \n",
              "\n",
              "    \n",
              "\n",
              "    \n",
              "\n",
              "    \n",
              "\n",
              "    \n",
              "\n",
              "\n",
              "    \n",
              "\n",
              "    \n",
              "\n",
              "    \n",
              "\n",
              "    \n",
              "\n",
              "    \n",
              "        <table class=\"eli5-weights eli5-feature-importances\" style=\"border-collapse: collapse; border: none; margin-top: 0em; table-layout: auto;\">\n",
              "    <thead>\n",
              "    <tr style=\"border: none;\">\n",
              "        <th style=\"padding: 0 1em 0 0.5em; text-align: right; border: none;\">Weight</th>\n",
              "        <th style=\"padding: 0 0.5em 0 0.5em; text-align: left; border: none;\">Feature</th>\n",
              "    </tr>\n",
              "    </thead>\n",
              "    <tbody>\n",
              "    \n",
              "        <tr style=\"background-color: hsl(120, 100.00%, 80.00%); border: none;\">\n",
              "            <td style=\"padding: 0 1em 0 0.5em; text-align: right; border: none;\">\n",
              "                0.0107\n",
              "                \n",
              "                    &plusmn; 0.0023\n",
              "                \n",
              "            </td>\n",
              "            <td style=\"padding: 0 0.5em 0 0.5em; text-align: left; border: none;\">\n",
              "                Age\n",
              "            </td>\n",
              "        </tr>\n",
              "    \n",
              "        <tr style=\"background-color: hsl(120, 100.00%, 84.72%); border: none;\">\n",
              "            <td style=\"padding: 0 1em 0 0.5em; text-align: right; border: none;\">\n",
              "                0.0073\n",
              "                \n",
              "                    &plusmn; 0.0029\n",
              "                \n",
              "            </td>\n",
              "            <td style=\"padding: 0 0.5em 0 0.5em; text-align: left; border: none;\">\n",
              "                STATE\n",
              "            </td>\n",
              "        </tr>\n",
              "    \n",
              "        <tr style=\"background-color: hsl(120, 100.00%, 85.00%); border: none;\">\n",
              "            <td style=\"padding: 0 1em 0 0.5em; text-align: right; border: none;\">\n",
              "                0.0071\n",
              "                \n",
              "                    &plusmn; 0.0017\n",
              "                \n",
              "            </td>\n",
              "            <td style=\"padding: 0 0.5em 0 0.5em; text-align: left; border: none;\">\n",
              "                CURRENT_JOB_YRS\n",
              "            </td>\n",
              "        </tr>\n",
              "    \n",
              "        <tr style=\"background-color: hsl(120, 100.00%, 85.44%); border: none;\">\n",
              "            <td style=\"padding: 0 1em 0 0.5em; text-align: right; border: none;\">\n",
              "                0.0068\n",
              "                \n",
              "                    &plusmn; 0.0028\n",
              "                \n",
              "            </td>\n",
              "            <td style=\"padding: 0 0.5em 0 0.5em; text-align: left; border: none;\">\n",
              "                Profession\n",
              "            </td>\n",
              "        </tr>\n",
              "    \n",
              "        <tr style=\"background-color: hsl(120, 100.00%, 86.95%); border: none;\">\n",
              "            <td style=\"padding: 0 1em 0 0.5em; text-align: right; border: none;\">\n",
              "                0.0058\n",
              "                \n",
              "                    &plusmn; 0.0014\n",
              "                \n",
              "            </td>\n",
              "            <td style=\"padding: 0 0.5em 0 0.5em; text-align: left; border: none;\">\n",
              "                Income\n",
              "            </td>\n",
              "        </tr>\n",
              "    \n",
              "        <tr style=\"background-color: hsl(120, 100.00%, 87.09%); border: none;\">\n",
              "            <td style=\"padding: 0 1em 0 0.5em; text-align: right; border: none;\">\n",
              "                0.0057\n",
              "                \n",
              "                    &plusmn; 0.0028\n",
              "                \n",
              "            </td>\n",
              "            <td style=\"padding: 0 0.5em 0 0.5em; text-align: left; border: none;\">\n",
              "                Experience\n",
              "            </td>\n",
              "        </tr>\n",
              "    \n",
              "        <tr style=\"background-color: hsl(120, 100.00%, 91.63%); border: none;\">\n",
              "            <td style=\"padding: 0 1em 0 0.5em; text-align: right; border: none;\">\n",
              "                0.0031\n",
              "                \n",
              "                    &plusmn; 0.0021\n",
              "                \n",
              "            </td>\n",
              "            <td style=\"padding: 0 0.5em 0 0.5em; text-align: left; border: none;\">\n",
              "                CURRENT_HOUSE_YRS\n",
              "            </td>\n",
              "        </tr>\n",
              "    \n",
              "        <tr style=\"background-color: hsl(120, 100.00%, 94.95%); border: none;\">\n",
              "            <td style=\"padding: 0 1em 0 0.5em; text-align: right; border: none;\">\n",
              "                0.0015\n",
              "                \n",
              "                    &plusmn; 0.0019\n",
              "                \n",
              "            </td>\n",
              "            <td style=\"padding: 0 0.5em 0 0.5em; text-align: left; border: none;\">\n",
              "                Age Group\n",
              "            </td>\n",
              "        </tr>\n",
              "    \n",
              "        <tr style=\"background-color: hsl(120, 100.00%, 97.29%); border: none;\">\n",
              "            <td style=\"padding: 0 1em 0 0.5em; text-align: right; border: none;\">\n",
              "                0.0006\n",
              "                \n",
              "                    &plusmn; 0.0011\n",
              "                \n",
              "            </td>\n",
              "            <td style=\"padding: 0 0.5em 0 0.5em; text-align: left; border: none;\">\n",
              "                Married/Single\n",
              "            </td>\n",
              "        </tr>\n",
              "    \n",
              "        <tr style=\"background-color: hsl(0, 100.00%, 99.60%); border: none;\">\n",
              "            <td style=\"padding: 0 1em 0 0.5em; text-align: right; border: none;\">\n",
              "                -0.0000\n",
              "                \n",
              "                    &plusmn; 0.0011\n",
              "                \n",
              "            </td>\n",
              "            <td style=\"padding: 0 0.5em 0 0.5em; text-align: left; border: none;\">\n",
              "                House_Ownership\n",
              "            </td>\n",
              "        </tr>\n",
              "    \n",
              "        <tr style=\"background-color: hsl(0, 100.00%, 96.38%); border: none;\">\n",
              "            <td style=\"padding: 0 1em 0 0.5em; text-align: right; border: none;\">\n",
              "                -0.0009\n",
              "                \n",
              "                    &plusmn; 0.0013\n",
              "                \n",
              "            </td>\n",
              "            <td style=\"padding: 0 0.5em 0 0.5em; text-align: left; border: none;\">\n",
              "                Car_Ownership\n",
              "            </td>\n",
              "        </tr>\n",
              "    \n",
              "    \n",
              "    </tbody>\n",
              "</table>\n",
              "    \n",
              "\n",
              "    \n",
              "\n",
              "\n",
              "    \n",
              "\n",
              "    \n",
              "\n",
              "    \n",
              "\n",
              "    \n",
              "\n",
              "    \n",
              "\n",
              "    \n",
              "\n",
              "\n",
              "\n"
            ],
            "text/plain": [
              "<IPython.core.display.HTML object>"
            ]
          },
          "metadata": {},
          "execution_count": 213
        }
      ]
    },
    {
      "cell_type": "markdown",
      "metadata": {
        "id": "38M35UMIVv4D"
      },
      "source": [
        "- Permutation Importance를 통해 구한 순열 중요도와는 순위가 조금 다르나, 낮은 순위는 일치한다.\n",
        "  - 낮은 순위의 특성을 제외한 모델을 최종 모델로 사용해 test data에 적용한다.\n",
        "\n",
        "- Shap value를 보니, Permutation Importance에서 Income 특성과, Profession특성의 중요도가 낮게 평가된 것을 알 수 있다. unique value가 많아서 생긴 현상인것 같다."
      ]
    },
    {
      "cell_type": "markdown",
      "metadata": {
        "id": "KhHqdFi6Vsf_"
      },
      "source": [
        "\n",
        "\n",
        "---\n",
        "\n",
        "\n",
        "\n",
        "---\n",
        "\n"
      ]
    },
    {
      "cell_type": "markdown",
      "metadata": {
        "id": "V_hyhuV4vzZ9"
      },
      "source": [
        "# 5)"
      ]
    },
    {
      "cell_type": "code",
      "metadata": {
        "id": "MKFjzzKLf3Y_"
      },
      "source": [
        "##테스트 데이터에 최종모델 적용"
      ],
      "execution_count": null,
      "outputs": []
    },
    {
      "cell_type": "code",
      "metadata": {
        "id": "CW7DLLk-VTpY"
      },
      "source": [
        "##특성 삭제한 모델"
      ],
      "execution_count": null,
      "outputs": []
    },
    {
      "cell_type": "code",
      "metadata": {
        "id": "PS-K7VNyhMJ0"
      },
      "source": [
        "X_test_selected = X_test[features]"
      ],
      "execution_count": 75,
      "outputs": []
    },
    {
      "cell_type": "code",
      "metadata": {
        "colab": {
          "base_uri": "https://localhost:8080/"
        },
        "id": "pUGsD5hRcxhk",
        "outputId": "22a69f79-5b85-4a3f-cb16-a74d8113c673"
      },
      "source": [
        "#class 1에 대한 성능\n",
        "X_test_processed = X_test_selected\n",
        "X_val_processed = X_val_selected\n",
        "class_index = 1\n",
        "y_pred_proba_test = best_model_randf_selected.predict_proba(X_test_processed)[:, class_index]\n",
        "print(f'Test AUC for class \"{best_model_randf_selected.classes_[class_index]}\":')\n",
        "print(roc_auc_score(y_test, y_pred_proba_test)) # 범위는 0-1, 수치는 높을 수록 좋습니다"
      ],
      "execution_count": 76,
      "outputs": [
        {
          "output_type": "stream",
          "name": "stdout",
          "text": [
            "Test AUC for class \"1\":\n",
            "0.9364409979585021\n"
          ]
        }
      ]
    },
    {
      "cell_type": "code",
      "metadata": {
        "colab": {
          "base_uri": "https://localhost:8080/"
        },
        "id": "Sm7QQYWJe4uD",
        "outputId": "5cbfeb54-611c-410a-c9f7-b6a8eb58d95e"
      },
      "source": [
        "y_test_pred = best_model_randf_selected.predict(X_test_processed)\n",
        "print(classification_report(y_test, y_test_pred))\n",
        "f1_test = f1_score(y_test, y_test_pred)\n",
        "print(f'테스트 세트 f1:{f1_test}')"
      ],
      "execution_count": 77,
      "outputs": [
        {
          "output_type": "stream",
          "name": "stdout",
          "text": [
            "              precision    recall  f1-score   support\n",
            "\n",
            "           0       0.96      0.92      0.94     22136\n",
            "           1       0.55      0.75      0.64      3064\n",
            "\n",
            "    accuracy                           0.90     25200\n",
            "   macro avg       0.76      0.83      0.79     25200\n",
            "weighted avg       0.91      0.90      0.90     25200\n",
            "\n",
            "테스트 세트 f1:0.6380452788514632\n"
          ]
        }
      ]
    },
    {
      "cell_type": "code",
      "metadata": {
        "id": "U9le0LzdVXRw"
      },
      "source": [
        "##특성 삭제하지 않은 모델"
      ],
      "execution_count": null,
      "outputs": []
    },
    {
      "cell_type": "code",
      "metadata": {
        "colab": {
          "base_uri": "https://localhost:8080/"
        },
        "id": "gMrDd9WnUuVP",
        "outputId": "89cd530b-5c68-407e-d8ab-1d0f2eb420c2"
      },
      "source": [
        "#class 1에 대한 성능\n",
        "\n",
        "class_index = 1\n",
        "y_pred_proba_test1 = best_model_randf.predict_proba(X_test)[:, class_index]\n",
        "print(f'Test AUC for class \"{best_model_randf.classes_[class_index]}\":')\n",
        "print(roc_auc_score(y_test, y_pred_proba_test1)) # 범위는 0-1, 수치는 높을 수록 좋습니다"
      ],
      "execution_count": 78,
      "outputs": [
        {
          "output_type": "stream",
          "name": "stdout",
          "text": [
            "Test AUC for class \"1\":\n",
            "0.9367546005066237\n"
          ]
        }
      ]
    },
    {
      "cell_type": "code",
      "metadata": {
        "colab": {
          "base_uri": "https://localhost:8080/"
        },
        "id": "W1LS3vkpU8mF",
        "outputId": "54ec007e-2572-46fb-cd99-5f1deaf9f07b"
      },
      "source": [
        "y_test_pred1 = best_model_randf.predict(X_test)\n",
        "print(classification_report(y_test, y_test_pred1))\n",
        "f1_test1 = f1_score(y_test, y_test_pred1)\n",
        "print(f'테스트 세트 f1:{f1_test1}')"
      ],
      "execution_count": 79,
      "outputs": [
        {
          "output_type": "stream",
          "name": "stdout",
          "text": [
            "              precision    recall  f1-score   support\n",
            "\n",
            "           0       0.96      0.92      0.94     22136\n",
            "           1       0.55      0.76      0.64      3064\n",
            "\n",
            "    accuracy                           0.90     25200\n",
            "   macro avg       0.76      0.84      0.79     25200\n",
            "weighted avg       0.91      0.90      0.90     25200\n",
            "\n",
            "테스트 세트 f1:0.6388429752066116\n"
          ]
        }
      ]
    },
    {
      "cell_type": "markdown",
      "metadata": {
        "id": "cnS2iIzTUNHj"
      },
      "source": [
        "- 특성을 삭제한 모델의 test set f1 score: 0.6380\n",
        "- 특성을 삭제하지 않은 모델의 test set f1 score: 0.6388\n",
        "\n",
        "- 최종 모델은 특성을 삭제하지 않은 모델로 결정한다."
      ]
    },
    {
      "cell_type": "code",
      "metadata": {
        "id": "VI-W1FyLVx3n"
      },
      "source": [
        "encoder_test = best_model_randf.named_steps['ordinalencoder']\n",
        "X_test_enc = encoder_test.transform(X_test)\n",
        "rf_test = best_model_randf.named_steps['randomforestclassifier']"
      ],
      "execution_count": 80,
      "outputs": []
    },
    {
      "cell_type": "code",
      "metadata": {
        "colab": {
          "base_uri": "https://localhost:8080/",
          "height": 598
        },
        "id": "SWS0CJRRWVxk",
        "outputId": "1f6ca101-ac6e-4037-b410-f4693a493582"
      },
      "source": [
        "# 2D PDP\n",
        "features_X = ['Income', 'Profession']\n",
        "\n",
        "interaction = pdp_interact(\n",
        "    model=rf_test, \n",
        "    dataset=X_test_enc, \n",
        "    model_features=X_test.columns, \n",
        "    features=features_X\n",
        ")\n",
        "\n",
        "pdp_interact_plot(interaction, plot_type='grid', feature_names=features_X);"
      ],
      "execution_count": 229,
      "outputs": [
        {
          "output_type": "stream",
          "name": "stderr",
          "text": [
            "findfont: Font family ['Arial'] not found. Falling back to DejaVu Sans.\n"
          ]
        },
        {
          "output_type": "display_data",
          "data": {
            "image/png": "[encoded data removed]",
            "text/plain": [
              "<Figure size 540x684 with 3 Axes>"
            ]
          },
          "metadata": {
            "needs_background": "light"
          }
        }
      ]
    },
    {
      "cell_type": "code",
      "metadata": {
        "id": "mHMffE3lTfwZ"
      },
      "source": [
        "explainer_test = shap.TreeExplainer(rf_test)\n",
        "shpa_values_test = explainer_test.shap_values(X_test_enc.iloc[:100])"
      ],
      "execution_count": 82,
      "outputs": []
    },
    {
      "cell_type": "code",
      "metadata": {
        "colab": {
          "base_uri": "https://localhost:8080/",
          "height": 386
        },
        "id": "tZBENQ6BWHCH",
        "outputId": "5d440360-9b78-4393-b303-ec63aa483a6a"
      },
      "source": [
        "shap.summary_plot(shpa_values_test, X_test, plot_type=\"bar\")"
      ],
      "execution_count": 83,
      "outputs": [
        {
          "output_type": "display_data",
          "data": {
            "image/png": "[encoded data removed]",
            "text/plain": [
              "<Figure size 576x424.8 with 1 Axes>"
            ]
          },
          "metadata": {
            "needs_background": "light"
          }
        }
      ]
    },
    {
      "cell_type": "markdown",
      "metadata": {
        "id": "warey7s9XUii"
      },
      "source": [
        "- 소득이 낮고, 직업이 46번 카테고리에 속한 사람일수록 연체할 확률이 높다는 것을 알 수 있다. (시간이 부족해 직업부분의 해석을 하지 못했다.)\n",
        "\n",
        "- 연체할 확률에 영향을 미치는 특성에는 Income, Profession, Age등이 있다. 소득과, 직업, 나이, 사는 지역에 따라 연체할 확률이 다른 것을 알 수 있으며, 특히 Income에 큰 영향을 받는다는 것을 알 수 있다."
      ]
    }
  ]
}